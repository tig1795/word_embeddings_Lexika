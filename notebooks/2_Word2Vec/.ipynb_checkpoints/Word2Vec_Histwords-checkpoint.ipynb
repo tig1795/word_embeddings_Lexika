{
 "cells": [
  {
   "cell_type": "code",
   "execution_count": 1,
   "id": "281013ce",
   "metadata": {},
   "outputs": [],
   "source": [
    "import gensim.models.keyedvectors as word2vec\n",
    "from sklearn.manifold import TSNE"
   ]
  },
  {
   "cell_type": "code",
   "execution_count": 2,
   "id": "77d2ae64",
   "metadata": {},
   "outputs": [],
   "source": [
    "model = word2vec.KeyedVectors.load_word2vec_format(\"45/model.bin\", binary=True)"
   ]
  },
  {
   "cell_type": "code",
   "execution_count": 12,
   "id": "7194a9b8",
   "metadata": {},
   "outputs": [
    {
     "data": {
      "text/plain": [
       "0.6370159"
      ]
     },
     "execution_count": 12,
     "metadata": {},
     "output_type": "execute_result"
    }
   ],
   "source": [
    "model.similarity('feminismus', 'verweiblichung')"
   ]
  },
  {
   "cell_type": "code",
   "execution_count": 6,
   "id": "d65962fa",
   "metadata": {},
   "outputs": [
    {
     "data": {
      "text/plain": [
       "0.82826215"
      ]
     },
     "execution_count": 6,
     "metadata": {},
     "output_type": "execute_result"
    }
   ],
   "source": [
    "model.similarity('schwul', 'homosexuell')"
   ]
  },
  {
   "cell_type": "code",
   "execution_count": 9,
   "id": "a6f62e61",
   "metadata": {},
   "outputs": [
    {
     "data": {
      "text/plain": [
       "0.30566233"
      ]
     },
     "execution_count": 9,
     "metadata": {},
     "output_type": "execute_result"
    }
   ],
   "source": [
    "model.similarity('batterie', 'militär')"
   ]
  },
  {
   "cell_type": "code",
   "execution_count": 7,
   "id": "90ba6fb5",
   "metadata": {},
   "outputs": [
    {
     "data": {
      "text/plain": [
       "[('lesbisch', 0.8294228315353394),\n",
       " ('homosexuell', 0.828262209892273),\n",
       " ('hetero', 0.812050461769104),\n",
       " ('bisexuell', 0.8111025094985962),\n",
       " ('pädophil', 0.7981542348861694),\n",
       " ('sexsüchtig', 0.7929674983024597),\n",
       " ('promisktechno', 0.7892729043960571),\n",
       " ('bi-sexuell', 0.7731645107269287),\n",
       " ('heterosexuell', 0.7716236114501953),\n",
       " ('unmännlich', 0.7700208425521851),\n",
       " ('sexistisch', 0.7695480585098267),\n",
       " ('transsexuell', 0.7672733664512634),\n",
       " ('lebensgefühlanleitung', 0.7662537693977356),\n",
       " ('schwuler', 0.766169011592865),\n",
       " ('sexbesessen', 0.7653887271881104),\n",
       " ('frauenfeindlich', 0.7601993083953857),\n",
       " ('transident', 0.7585695385932922),\n",
       " ('pansexuell', 0.7533130049705505),\n",
       " ('tuntig', 0.7520132064819336),\n",
       " ('traumtyp', 0.7509204149246216),\n",
       " ('lespisch', 0.7507404088973999),\n",
       " ('schwulsein', 0.7499369978904724),\n",
       " ('metrosexuell', 0.748894453048706),\n",
       " ('schwuchtel', 0.7470719814300537),\n",
       " ('hetereo', 0.7467132806777954),\n",
       " ('hetera', 0.7463878393173218),\n",
       " ('sexist', 0.7447885274887085),\n",
       " ('homophob', 0.7435274720191956),\n",
       " ('ungezogen', 0.7419461607933044),\n",
       " ('senil', 0.741040825843811),\n",
       " ('exhibitionistisch', 0.7395299077033997),\n",
       " ('masturbationsvorlage', 0.7377505302429199),\n",
       " ('stockschwul', 0.7375116348266602),\n",
       " ('schwanzgesteuert', 0.737463116645813),\n",
       " ('schwulenfeindlich', 0.7372963428497314),\n",
       " ('schwule', 0.7372268438339233),\n",
       " ('ungeoutet', 0.736444890499115),\n",
       " ('schwanzgesteuerte', 0.7362616062164307),\n",
       " ('frauenfeind', 0.7355287075042725),\n",
       " ('sporno', 0.7345280051231384),\n",
       " ('charakterschwach', 0.7333912253379822),\n",
       " ('rumvögeln', 0.7333513498306274),\n",
       " ('rassist', 0.7326853275299072),\n",
       " ('mädchenschwärme', 0.7304900884628296),\n",
       " ('mannsweib', 0.7304666042327881),\n",
       " ('hungerhaken', 0.729439914226532),\n",
       " ('pornosüchtig', 0.7290738821029663),\n",
       " ('sexlos', 0.7279951572418213),\n",
       " ('zoophil', 0.7277899980545044),\n",
       " ('kampfemanze', 0.7275272607803345)]"
      ]
     },
     "execution_count": 7,
     "metadata": {},
     "output_type": "execute_result"
    }
   ],
   "source": [
    "model.most_similar(positive=['schwul'], topn=50)"
   ]
  },
  {
   "cell_type": "code",
   "execution_count": 8,
   "id": "a5a11c73",
   "metadata": {},
   "outputs": [
    {
     "data": {
      "text/plain": [
       "[('batterien', 0.842201292514801),\n",
       " ('akku', 0.8352349400520325),\n",
       " ('knopfzelle', 0.8236603140830994),\n",
       " ('autobatterie', 0.8226851224899292),\n",
       " ('akkus', 0.8155155181884766),\n",
       " ('2000mah', 0.8141063451766968),\n",
       " ('akkupack', 0.8125938177108765),\n",
       " ('ladegerät', 0.8117497563362122),\n",
       " ('gelbatterie', 0.8061960935592651),\n",
       " ('cr2032', 0.8033238649368286),\n",
       " ('baterrie', 0.8018680810928345),\n",
       " ('wiederaufladbare', 0.8007343411445618),\n",
       " ('bleigelakku', 0.7998283505439758),\n",
       " ('bleiakku', 0.798729419708252),\n",
       " ('ni-mh', 0.7978203296661377),\n",
       " ('schnelladung', 0.7977837324142456),\n",
       " ('-akku', 0.7975046634674072),\n",
       " ('1000mah', 0.7971219420433044),\n",
       " ('3000mah', 0.7969179153442383),\n",
       " ('ytx4l-bs', 0.7952662706375122),\n",
       " ('9volt', 0.7951860427856445),\n",
       " ('iuou', 0.7950972318649292),\n",
       " ('1,2v', 0.7937045097351074),\n",
       " ('akkubatterie', 0.792971134185791),\n",
       " ('9v', 0.7925866842269897),\n",
       " ('li-po', 0.7917500734329224),\n",
       " ('ladegrät', 0.7915879487991333),\n",
       " ('eneloop', 0.79110187292099),\n",
       " ('lifepo', 0.7903887033462524),\n",
       " ('200mah', 0.7899817228317261),\n",
       " ('100ah', 0.7899653911590576),\n",
       " ('akkumulator', 0.7893772125244141),\n",
       " ('baterien', 0.7891002893447876),\n",
       " ('volt', 0.7887414693832397),\n",
       " ('akkuzelle', 0.7886412739753723),\n",
       " (\"akku's\", 0.7883331179618835),\n",
       " ('ready2use', 0.7879598736763),\n",
       " ('20ah', 0.786957859992981),\n",
       " ('7,2v', 0.7864623665809631),\n",
       " ('akkubox', 0.7856436967849731),\n",
       " ('ersatzakku', 0.7854114174842834),\n",
       " ('6v', 0.7850620746612549),\n",
       " ('aaa-akku', 0.7836429476737976),\n",
       " ('akkuzellen', 0.7829821705818176),\n",
       " ('nicd', 0.7809601426124573),\n",
       " ('4,5ah', 0.780293345451355),\n",
       " ('erhaltungsladegerät', 0.7801439762115479),\n",
       " ('bleiakkus', 0.7797436714172363),\n",
       " ('sicherungselektronik', 0.7795553803443909),\n",
       " ('batteriebox', 0.7795297503471375)]"
      ]
     },
     "execution_count": 8,
     "metadata": {},
     "output_type": "execute_result"
    }
   ],
   "source": [
    "model.most_similar(positive=['batterie'], topn=50)"
   ]
  },
  {
   "cell_type": "code",
   "execution_count": 11,
   "id": "f43d1f0f",
   "metadata": {},
   "outputs": [
    {
     "data": {
      "text/plain": [
       "[('sexismus', 0.8930827975273132),\n",
       " ('feministischen', 0.8865594267845154),\n",
       " ('postfeminismus', 0.8746538162231445),\n",
       " ('feministinnen', 0.873397707939148),\n",
       " ('antifeminismus', 0.861771285533905),\n",
       " ('feministische', 0.8582680821418762),\n",
       " ('maskulismus', 0.857101321220398),\n",
       " ('netzfeminismus', 0.8537184000015259),\n",
       " ('geschlechterpolitik', 0.8500770330429077),\n",
       " ('androzentrismus', 0.850014328956604),\n",
       " ('männerrechtsbewegung', 0.8491894006729126),\n",
       " ('männerfeindlichkeit', 0.8479644060134888),\n",
       " ('frauenbefreiung', 0.8478927612304688),\n",
       " ('heteronormativität', 0.8476039171218872),\n",
       " ('feministen', 0.8470243811607361),\n",
       " ('emanzipation', 0.8430334329605103),\n",
       " ('maskulinismus', 0.8400010466575623),\n",
       " ('männerhass', 0.8396744728088379),\n",
       " ('emanzipationsbewegung', 0.8394952416419983),\n",
       " ('gleichheitsfeminismus', 0.8367050886154175),\n",
       " ('klassismus', 0.8362299799919128),\n",
       " ('misandrie', 0.8360389471054077),\n",
       " ('feministischer', 0.8350082635879517),\n",
       " ('multikulturalismus', 0.8336161971092224),\n",
       " ('frauenbewegungen', 0.8335854411125183),\n",
       " ('frauenfeindlichkeit', 0.8332529664039612),\n",
       " ('kulturrelativismus', 0.8322615623474121),\n",
       " ('feminismuskritik', 0.829481840133667),\n",
       " ('genderismus', 0.8289403319358826),\n",
       " ('antizionismus', 0.8254860639572144),\n",
       " ('differenzfeminismus', 0.8247965574264526),\n",
       " ('geschlechterrollen', 0.8244339227676392),\n",
       " ('sexpositiven', 0.8238077759742737),\n",
       " ('schwulenbewegung', 0.8228441476821899),\n",
       " ('antisexismus', 0.821312665939331),\n",
       " ('misogynie', 0.8208147287368774),\n",
       " ('radikalfeminismus', 0.8194140791893005),\n",
       " ('heterosexismus', 0.8194125294685364),\n",
       " ('genderdebatte', 0.8193272352218628),\n",
       " ('geschlechterverhältnisse', 0.8192547559738159),\n",
       " ('gendertheorie', 0.8189190626144409),\n",
       " ('heteronormativer', 0.8188077211380005),\n",
       " ('sex-positiven', 0.8185819387435913),\n",
       " ('gender-theorie', 0.8181114196777344),\n",
       " ('intersektional', 0.8178796768188477),\n",
       " ('genderproblematik', 0.8174991607666016),\n",
       " ('heterosexualität', 0.8173264265060425),\n",
       " ('feministisch', 0.817085862159729),\n",
       " ('mackertum', 0.8164145946502686),\n",
       " ('frauenbewegung', 0.815773606300354)]"
      ]
     },
     "execution_count": 11,
     "metadata": {},
     "output_type": "execute_result"
    }
   ],
   "source": [
    "model.most_similar(positive=['feminismus'], topn=50)"
   ]
  },
  {
   "cell_type": "code",
   "execution_count": null,
   "id": "97753c20",
   "metadata": {},
   "outputs": [],
   "source": []
  }
 ],
 "metadata": {
  "kernelspec": {
   "display_name": "Python 3 (ipykernel)",
   "language": "python",
   "name": "python3"
  },
  "language_info": {
   "codemirror_mode": {
    "name": "ipython",
    "version": 3
   },
   "file_extension": ".py",
   "mimetype": "text/x-python",
   "name": "python",
   "nbconvert_exporter": "python",
   "pygments_lexer": "ipython3",
   "version": "3.9.10"
  },
  "toc": {
   "base_numbering": 1,
   "nav_menu": {},
   "number_sections": true,
   "sideBar": true,
   "skip_h1_title": false,
   "title_cell": "Table of Contents",
   "title_sidebar": "Contents",
   "toc_cell": false,
   "toc_position": {},
   "toc_section_display": true,
   "toc_window_display": false
  },
  "varInspector": {
   "cols": {
    "lenName": 16,
    "lenType": 16,
    "lenVar": 40
   },
   "kernels_config": {
    "python": {
     "delete_cmd_postfix": "",
     "delete_cmd_prefix": "del ",
     "library": "var_list.py",
     "varRefreshCmd": "print(var_dic_list())"
    },
    "r": {
     "delete_cmd_postfix": ") ",
     "delete_cmd_prefix": "rm(",
     "library": "var_list.r",
     "varRefreshCmd": "cat(var_dic_list()) "
    }
   },
   "types_to_exclude": [
    "module",
    "function",
    "builtin_function_or_method",
    "instance",
    "_Feature"
   ],
   "window_display": false
  }
 },
 "nbformat": 4,
 "nbformat_minor": 5
}
