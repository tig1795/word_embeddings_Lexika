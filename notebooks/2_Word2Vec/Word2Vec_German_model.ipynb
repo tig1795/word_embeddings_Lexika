{
 "cells": [
  {
   "cell_type": "markdown",
   "id": "8568eb02",
   "metadata": {},
   "source": [
    "# Imports"
   ]
  },
  {
   "cell_type": "code",
   "execution_count": 3,
   "id": "91fa3807",
   "metadata": {},
   "outputs": [],
   "source": [
    "import gensim.models.keyedvectors as word2vec\n",
    "from sklearn.manifold import TSNE"
   ]
  },
  {
   "cell_type": "markdown",
   "id": "c5713e3f",
   "metadata": {},
   "source": [
    "# Vortrainiertes Word2Vec-Modell laden "
   ]
  },
  {
   "cell_type": "markdown",
   "id": "629552e2",
   "metadata": {},
   "source": [
    "https://devmount.github.io/GermanWordEmbeddings/"
   ]
  },
  {
   "cell_type": "code",
   "execution_count": 4,
   "id": "bbdb1b4d",
   "metadata": {},
   "outputs": [],
   "source": [
    "model = word2vec.KeyedVectors.load_word2vec_format(\"models/german.model\", binary=True)"
   ]
  },
  {
   "cell_type": "code",
   "execution_count": 5,
   "id": "aa34a8f3",
   "metadata": {},
   "outputs": [
    {
     "data": {
      "text/plain": [
       "<gensim.models.keyedvectors.Word2VecKeyedVectors at 0x10bc8edc0>"
      ]
     },
     "execution_count": 5,
     "metadata": {},
     "output_type": "execute_result"
    }
   ],
   "source": [
    "model"
   ]
  },
  {
   "cell_type": "markdown",
   "id": "61e7dbec",
   "metadata": {},
   "source": [
    "# Exploration des Word2Vec-Modells"
   ]
  },
  {
   "cell_type": "markdown",
   "id": "48dc1cd4",
   "metadata": {},
   "source": [
    "## Word-Vektoren"
   ]
  },
  {
   "cell_type": "code",
   "execution_count": 6,
   "id": "fa3fdf2d",
   "metadata": {},
   "outputs": [
    {
     "data": {
      "text/plain": [
       "0.385641"
      ]
     },
     "execution_count": 6,
     "metadata": {},
     "output_type": "execute_result"
    }
   ],
   "source": [
    "model.similarity('Feminismus', 'Geschlechtsmerkmale')"
   ]
  },
  {
   "cell_type": "code",
   "execution_count": 7,
   "id": "318e8c16",
   "metadata": {},
   "outputs": [
    {
     "data": {
      "text/plain": [
       "0.77601904"
      ]
     },
     "execution_count": 7,
     "metadata": {},
     "output_type": "execute_result"
    }
   ],
   "source": [
    "model.similarity('schwul', 'homosexuell')"
   ]
  },
  {
   "cell_type": "markdown",
   "id": "536fe2a6",
   "metadata": {},
   "source": [
    "## Ähnliche Wörter"
   ]
  },
  {
   "cell_type": "markdown",
   "id": "2a46997c",
   "metadata": {},
   "source": [
    "### Batterie"
   ]
  },
  {
   "cell_type": "code",
   "execution_count": 8,
   "id": "f9343410",
   "metadata": {},
   "outputs": [
    {
     "data": {
      "text/plain": [
       "[('Akkus', 0.8310738205909729),\n",
       " ('Batterien', 0.806445837020874),\n",
       " ('Akku', 0.7806811928749084),\n",
       " ('Steckdose', 0.757014811038971),\n",
       " ('Lithium-Ionen-Akkus', 0.7506780028343201),\n",
       " ('Lithium-Ionen-Batterie', 0.7499290704727173),\n",
       " ('Haushaltssteckdose', 0.7374463677406311),\n",
       " ('Starterbatterie', 0.732561469078064),\n",
       " ('Lichtmaschine', 0.7265921831130981),\n",
       " ('Lithium-Ionen-Batterien', 0.7251373529434204),\n",
       " ('Bordelektronik', 0.721164345741272),\n",
       " ('Generator', 0.7192305326461792),\n",
       " ('Akkumulator', 0.7070470452308655),\n",
       " ('Autobatterie', 0.7017815113067627),\n",
       " ('Lithium-Ionen-Akku', 0.7006772756576538),\n",
       " ('Traktionsbatterie', 0.7006242275238037),\n",
       " ('Rekuperation', 0.7002805471420288),\n",
       " ('Lithium-Ionen-Akkumulator', 0.699300229549408),\n",
       " ('Solarmodul', 0.6981649398803711),\n",
       " ('Hydraulikpumpe', 0.6959496736526489),\n",
       " ('Zuendspule', 0.6908495426177979),\n",
       " ('Anlasser', 0.6898943185806274),\n",
       " ('Synchrongeneratoren', 0.6890896558761597),\n",
       " ('Akkumulatoren', 0.6885197162628174),\n",
       " ('Druckspeicher', 0.6884981989860535),\n",
       " ('Ladegeraet', 0.6884628534317017),\n",
       " ('Verbindungskabel', 0.68657386302948),\n",
       " ('Fahrzeugbatterie', 0.6855980753898621),\n",
       " ('Verbrennungsmotor', 0.6841285228729248),\n",
       " ('Steuerelektronik', 0.6831412315368652),\n",
       " ('Netzteil', 0.6820281147956848),\n",
       " ('Energierueckgewinnung', 0.6814671754837036),\n",
       " ('Luftfilter', 0.68086177110672),\n",
       " ('Bremsenergie', 0.6795710325241089),\n",
       " ('Kuehlaggregat', 0.678688645362854),\n",
       " ('Motorbetrieb', 0.6785311698913574),\n",
       " ('Nebenaggregate', 0.6781561374664307),\n",
       " ('Vorschaltgeraet', 0.676608145236969),\n",
       " ('Kraftstoffpumpe', 0.6758860349655151),\n",
       " ('Doppelkupplung', 0.6750607490539551),\n",
       " ('Nutzbremse', 0.6749585866928101),\n",
       " ('Elektromotors', 0.6741440892219543),\n",
       " ('Standheizung', 0.6738983392715454),\n",
       " ('Kondensator', 0.6735904812812805),\n",
       " ('Stand-by-Modus', 0.6730223894119263),\n",
       " ('Ladekabel', 0.6728706359863281),\n",
       " ('Zuendverteiler', 0.6726276874542236),\n",
       " ('Stromspeicher', 0.6718882918357849),\n",
       " ('Kochplatte', 0.6716397404670715),\n",
       " ('Stromgenerator', 0.6716289520263672)]"
      ]
     },
     "execution_count": 8,
     "metadata": {},
     "output_type": "execute_result"
    }
   ],
   "source": [
    "model.most_similar(positive=['Batterie'], topn=50)"
   ]
  },
  {
   "cell_type": "markdown",
   "id": "b54d5078",
   "metadata": {},
   "source": [
    "### Feminismus"
   ]
  },
  {
   "cell_type": "code",
   "execution_count": 9,
   "id": "0b1ff4c4",
   "metadata": {},
   "outputs": [
    {
     "data": {
      "text/plain": [
       "[('feministische', 0.7393956184387207),\n",
       " ('sexuelle_Befreiung', 0.7383657693862915),\n",
       " ('Frauenbewegung', 0.7298170328140259),\n",
       " ('Emanzipation', 0.7230749130249023),\n",
       " ('Feministinnen', 0.7158891558647156),\n",
       " ('feministischen', 0.6990504264831543),\n",
       " ('Rassismus_Sexismus', 0.6942546963691711),\n",
       " ('Sexismus', 0.687390923500061),\n",
       " ('Maennerbild', 0.6804164052009583),\n",
       " ('Sexualitaet', 0.6799561381340027),\n",
       " ('feministischer', 0.6774656772613525),\n",
       " ('Fundamentalismus', 0.6757777333259583),\n",
       " ('Geschlechterrollen', 0.6714828014373779),\n",
       " ('Antikapitalismus', 0.670508086681366),\n",
       " ('Konservatismus', 0.6688236594200134),\n",
       " ('68ern', 0.6683800220489502),\n",
       " ('Liberalismus', 0.66813063621521),\n",
       " ('Dissidenz', 0.6662600636482239),\n",
       " ('antifeministische', 0.665663480758667),\n",
       " ('Alltagssexismus', 0.6648678183555603),\n",
       " ('Frauenhass', 0.6636051535606384),\n",
       " ('Kapitalismuskritik', 0.662997841835022),\n",
       " ('Frauenemanzipation', 0.6627923846244812),\n",
       " ('Veganismus', 0.6614989042282104),\n",
       " ('Misogynie', 0.6612091064453125),\n",
       " ('Geschlechterpolitik', 0.6585153937339783),\n",
       " ('emanzipatorische', 0.65730881690979),\n",
       " ('weibliche_Sexualitaet', 0.6572504043579102),\n",
       " ('Political_Correctness', 0.6563723683357239),\n",
       " ('Maennerrechtsbewegung', 0.6559721231460571),\n",
       " ('Islamismus', 0.6550487279891968),\n",
       " ('Sexismus_Rassismus', 0.6541061401367188),\n",
       " ('feministisch', 0.6529816389083862),\n",
       " ('Paternalismus', 0.6528923511505127),\n",
       " ('Kapitalismus', 0.6523001194000244),\n",
       " ('Neoliberalismus', 0.6511257886886597),\n",
       " ('Anarchismus', 0.6503647565841675),\n",
       " ('Pluralismus', 0.6503629684448242),\n",
       " ('Alice_Schwarzer', 0.6484780311584473),\n",
       " ('Diskurs', 0.6479688882827759),\n",
       " ('emanzipatorischen', 0.6474584937095642),\n",
       " ('Systemkritik', 0.6472969055175781),\n",
       " ('Aktivismus', 0.6454069018363953),\n",
       " ('Islam', 0.6449350118637085),\n",
       " ('Machismo', 0.6440422534942627),\n",
       " ('Frauenfrage', 0.6434105634689331),\n",
       " ('Schwulsein', 0.6428223848342896),\n",
       " ('Konsumkritik', 0.6426925659179688),\n",
       " ('Konsumismus', 0.6416909098625183),\n",
       " ('Sexualmoral', 0.6416107416152954)]"
      ]
     },
     "execution_count": 9,
     "metadata": {},
     "output_type": "execute_result"
    }
   ],
   "source": [
    "model.most_similar(positive=['Feminismus'], topn=50)"
   ]
  },
  {
   "cell_type": "markdown",
   "id": "0f6a0eaf",
   "metadata": {},
   "source": [
    "### ausgepowert"
   ]
  },
  {
   "cell_type": "code",
   "execution_count": 10,
   "id": "d8428868",
   "metadata": {},
   "outputs": [
    {
     "data": {
      "text/plain": [
       "[('ausser_Puste', 0.8117662668228149),\n",
       " ('total_erschoepft', 0.7810325622558594),\n",
       " ('geschlaucht', 0.7710597515106201),\n",
       " ('durchgeschwitzt', 0.7613694071769714),\n",
       " ('schlaucht', 0.7515095472335815),\n",
       " ('voller_Adrenalin', 0.7486963272094727),\n",
       " ('todmuede', 0.7476174831390381),\n",
       " ('gefrustet', 0.7475431561470032),\n",
       " ('verschwitzt', 0.7440311908721924),\n",
       " ('kribbelig', 0.7412155866622925),\n",
       " ('hibbelig', 0.7374230623245239),\n",
       " ('reingehaengt', 0.7368443012237549),\n",
       " ('ausser_Atem', 0.733361542224884),\n",
       " ('durchgefroren', 0.7333188652992249),\n",
       " ('zusammengerissen', 0.7321453094482422),\n",
       " ('pitschnass', 0.7306092381477356),\n",
       " ('Ehrgeiz_gepackt', 0.7298572063446045),\n",
       " ('aufgekratzt', 0.7294018864631653),\n",
       " ('erschoepft_gluecklich', 0.7253227829933167),\n",
       " ('vogelwild', 0.7248729467391968),\n",
       " ('gruen_Ohren', 0.7239152193069458),\n",
       " ('rueberkam', 0.7233181595802307),\n",
       " ('reinbeissen', 0.7228106260299683),\n",
       " ('runtergespielt', 0.7218605279922485),\n",
       " ('volle_Kanne', 0.7204868197441101),\n",
       " ('schnaufte', 0.7170568704605103),\n",
       " ('findens', 0.7156962156295776),\n",
       " ('klitschnass', 0.7151991128921509),\n",
       " ('gallig', 0.7146058082580566),\n",
       " ('pennen', 0.7139871120452881),\n",
       " ('relaxt', 0.7130160331726074),\n",
       " ('total_aufgeregt', 0.7088313102722168),\n",
       " ('verausgaben', 0.7079154253005981),\n",
       " ('abgekaempft', 0.7067999839782715),\n",
       " ('reingehauen', 0.7063114643096924),\n",
       " ('bedroeppelt', 0.7057698965072632),\n",
       " ('klatschnass', 0.7056641578674316),\n",
       " ('Schoen_wars', 0.7054425477981567),\n",
       " ('durchpusten', 0.7049486041069031),\n",
       " ('Brummschaedel', 0.7037867307662964),\n",
       " ('uebernaechtigt', 0.7035074830055237),\n",
       " ('zuzugucken', 0.7027000188827515),\n",
       " ('tiefenentspannt', 0.7008087038993835),\n",
       " ('ausgeschlafen', 0.7005093693733215),\n",
       " ('topmotiviert', 0.6997811794281006),\n",
       " ('zufriedenen_Laecheln', 0.6997712850570679),\n",
       " ('geflachst', 0.6987970471382141),\n",
       " ('reinkam', 0.6974883675575256),\n",
       " ('auspowern', 0.69740891456604),\n",
       " ('gechillt', 0.697096049785614)]"
      ]
     },
     "execution_count": 10,
     "metadata": {},
     "output_type": "execute_result"
    }
   ],
   "source": [
    "model.most_similar(positive=['ausgepowert'], topn=50)"
   ]
  },
  {
   "cell_type": "markdown",
   "id": "61972808",
   "metadata": {},
   "source": [
    "### blöde"
   ]
  },
  {
   "cell_type": "code",
   "execution_count": 11,
   "id": "75ff4cd1",
   "metadata": {},
   "outputs": [
    {
     "ename": "KeyError",
     "evalue": "\"word 'blöde' not in vocabulary\"",
     "output_type": "error",
     "traceback": [
      "\u001b[0;31m---------------------------------------------------------------------------\u001b[0m",
      "\u001b[0;31mKeyError\u001b[0m                                  Traceback (most recent call last)",
      "\u001b[0;32m/var/folders/d9/1b92tl_13g32z4j72swk9lh40000gn/T/ipykernel_1950/720104564.py\u001b[0m in \u001b[0;36m<module>\u001b[0;34m\u001b[0m\n\u001b[0;32m----> 1\u001b[0;31m \u001b[0mmodel\u001b[0m\u001b[0;34m.\u001b[0m\u001b[0mmost_similar\u001b[0m\u001b[0;34m(\u001b[0m\u001b[0mpositive\u001b[0m\u001b[0;34m=\u001b[0m\u001b[0;34m[\u001b[0m\u001b[0;34m'blöde'\u001b[0m\u001b[0;34m]\u001b[0m\u001b[0;34m,\u001b[0m \u001b[0mtopn\u001b[0m\u001b[0;34m=\u001b[0m\u001b[0;36m50\u001b[0m\u001b[0;34m)\u001b[0m\u001b[0;34m\u001b[0m\u001b[0;34m\u001b[0m\u001b[0m\n\u001b[0m",
      "\u001b[0;32m/usr/local/lib/python3.9/site-packages/gensim/models/keyedvectors.py\u001b[0m in \u001b[0;36mmost_similar\u001b[0;34m(self, positive, negative, topn, restrict_vocab, indexer)\u001b[0m\n\u001b[1;32m    551\u001b[0m                 \u001b[0mmean\u001b[0m\u001b[0;34m.\u001b[0m\u001b[0mappend\u001b[0m\u001b[0;34m(\u001b[0m\u001b[0mweight\u001b[0m \u001b[0;34m*\u001b[0m \u001b[0mword\u001b[0m\u001b[0;34m)\u001b[0m\u001b[0;34m\u001b[0m\u001b[0;34m\u001b[0m\u001b[0m\n\u001b[1;32m    552\u001b[0m             \u001b[0;32melse\u001b[0m\u001b[0;34m:\u001b[0m\u001b[0;34m\u001b[0m\u001b[0;34m\u001b[0m\u001b[0m\n\u001b[0;32m--> 553\u001b[0;31m                 \u001b[0mmean\u001b[0m\u001b[0;34m.\u001b[0m\u001b[0mappend\u001b[0m\u001b[0;34m(\u001b[0m\u001b[0mweight\u001b[0m \u001b[0;34m*\u001b[0m \u001b[0mself\u001b[0m\u001b[0;34m.\u001b[0m\u001b[0mword_vec\u001b[0m\u001b[0;34m(\u001b[0m\u001b[0mword\u001b[0m\u001b[0;34m,\u001b[0m \u001b[0muse_norm\u001b[0m\u001b[0;34m=\u001b[0m\u001b[0;32mTrue\u001b[0m\u001b[0;34m)\u001b[0m\u001b[0;34m)\u001b[0m\u001b[0;34m\u001b[0m\u001b[0;34m\u001b[0m\u001b[0m\n\u001b[0m\u001b[1;32m    554\u001b[0m                 \u001b[0;32mif\u001b[0m \u001b[0mword\u001b[0m \u001b[0;32min\u001b[0m \u001b[0mself\u001b[0m\u001b[0;34m.\u001b[0m\u001b[0mvocab\u001b[0m\u001b[0;34m:\u001b[0m\u001b[0;34m\u001b[0m\u001b[0;34m\u001b[0m\u001b[0m\n\u001b[1;32m    555\u001b[0m                     \u001b[0mall_words\u001b[0m\u001b[0;34m.\u001b[0m\u001b[0madd\u001b[0m\u001b[0;34m(\u001b[0m\u001b[0mself\u001b[0m\u001b[0;34m.\u001b[0m\u001b[0mvocab\u001b[0m\u001b[0;34m[\u001b[0m\u001b[0mword\u001b[0m\u001b[0;34m]\u001b[0m\u001b[0;34m.\u001b[0m\u001b[0mindex\u001b[0m\u001b[0;34m)\u001b[0m\u001b[0;34m\u001b[0m\u001b[0;34m\u001b[0m\u001b[0m\n",
      "\u001b[0;32m/usr/local/lib/python3.9/site-packages/gensim/models/keyedvectors.py\u001b[0m in \u001b[0;36mword_vec\u001b[0;34m(self, word, use_norm)\u001b[0m\n\u001b[1;32m    466\u001b[0m             \u001b[0;32mreturn\u001b[0m \u001b[0mresult\u001b[0m\u001b[0;34m\u001b[0m\u001b[0;34m\u001b[0m\u001b[0m\n\u001b[1;32m    467\u001b[0m         \u001b[0;32melse\u001b[0m\u001b[0;34m:\u001b[0m\u001b[0;34m\u001b[0m\u001b[0;34m\u001b[0m\u001b[0m\n\u001b[0;32m--> 468\u001b[0;31m             \u001b[0;32mraise\u001b[0m \u001b[0mKeyError\u001b[0m\u001b[0;34m(\u001b[0m\u001b[0;34m\"word '%s' not in vocabulary\"\u001b[0m \u001b[0;34m%\u001b[0m \u001b[0mword\u001b[0m\u001b[0;34m)\u001b[0m\u001b[0;34m\u001b[0m\u001b[0;34m\u001b[0m\u001b[0m\n\u001b[0m\u001b[1;32m    469\u001b[0m \u001b[0;34m\u001b[0m\u001b[0m\n\u001b[1;32m    470\u001b[0m     \u001b[0;32mdef\u001b[0m \u001b[0mget_vector\u001b[0m\u001b[0;34m(\u001b[0m\u001b[0mself\u001b[0m\u001b[0;34m,\u001b[0m \u001b[0mword\u001b[0m\u001b[0;34m)\u001b[0m\u001b[0;34m:\u001b[0m\u001b[0;34m\u001b[0m\u001b[0;34m\u001b[0m\u001b[0m\n",
      "\u001b[0;31mKeyError\u001b[0m: \"word 'blöde' not in vocabulary\""
     ]
    }
   ],
   "source": [
    "model.most_similar(positive=['blöde'], topn=50)"
   ]
  },
  {
   "cell_type": "markdown",
   "id": "95c46b26",
   "metadata": {},
   "source": [
    "### Eselsbrücke"
   ]
  },
  {
   "cell_type": "code",
   "execution_count": 24,
   "id": "0a94e10e",
   "metadata": {
    "scrolled": true
   },
   "outputs": [
    {
     "ename": "KeyError",
     "evalue": "\"word 'eselsbrücke' not in vocabulary\"",
     "output_type": "error",
     "traceback": [
      "\u001b[0;31m---------------------------------------------------------------------------\u001b[0m",
      "\u001b[0;31mKeyError\u001b[0m                                  Traceback (most recent call last)",
      "\u001b[0;32m/var/folders/d9/1b92tl_13g32z4j72swk9lh40000gn/T/ipykernel_1950/205247243.py\u001b[0m in \u001b[0;36m<module>\u001b[0;34m\u001b[0m\n\u001b[0;32m----> 1\u001b[0;31m \u001b[0mmodel\u001b[0m\u001b[0;34m.\u001b[0m\u001b[0mmost_similar\u001b[0m\u001b[0;34m(\u001b[0m\u001b[0mpositive\u001b[0m\u001b[0;34m=\u001b[0m\u001b[0;34m[\u001b[0m\u001b[0;34m'eselsbrücke'\u001b[0m\u001b[0;34m]\u001b[0m\u001b[0;34m,\u001b[0m \u001b[0mtopn\u001b[0m\u001b[0;34m=\u001b[0m\u001b[0;36m50\u001b[0m\u001b[0;34m)\u001b[0m\u001b[0;34m\u001b[0m\u001b[0;34m\u001b[0m\u001b[0m\n\u001b[0m",
      "\u001b[0;32m/usr/local/lib/python3.9/site-packages/gensim/models/keyedvectors.py\u001b[0m in \u001b[0;36mmost_similar\u001b[0;34m(self, positive, negative, topn, restrict_vocab, indexer)\u001b[0m\n\u001b[1;32m    551\u001b[0m                 \u001b[0mmean\u001b[0m\u001b[0;34m.\u001b[0m\u001b[0mappend\u001b[0m\u001b[0;34m(\u001b[0m\u001b[0mweight\u001b[0m \u001b[0;34m*\u001b[0m \u001b[0mword\u001b[0m\u001b[0;34m)\u001b[0m\u001b[0;34m\u001b[0m\u001b[0;34m\u001b[0m\u001b[0m\n\u001b[1;32m    552\u001b[0m             \u001b[0;32melse\u001b[0m\u001b[0;34m:\u001b[0m\u001b[0;34m\u001b[0m\u001b[0;34m\u001b[0m\u001b[0m\n\u001b[0;32m--> 553\u001b[0;31m                 \u001b[0mmean\u001b[0m\u001b[0;34m.\u001b[0m\u001b[0mappend\u001b[0m\u001b[0;34m(\u001b[0m\u001b[0mweight\u001b[0m \u001b[0;34m*\u001b[0m \u001b[0mself\u001b[0m\u001b[0;34m.\u001b[0m\u001b[0mword_vec\u001b[0m\u001b[0;34m(\u001b[0m\u001b[0mword\u001b[0m\u001b[0;34m,\u001b[0m \u001b[0muse_norm\u001b[0m\u001b[0;34m=\u001b[0m\u001b[0;32mTrue\u001b[0m\u001b[0;34m)\u001b[0m\u001b[0;34m)\u001b[0m\u001b[0;34m\u001b[0m\u001b[0;34m\u001b[0m\u001b[0m\n\u001b[0m\u001b[1;32m    554\u001b[0m                 \u001b[0;32mif\u001b[0m \u001b[0mword\u001b[0m \u001b[0;32min\u001b[0m \u001b[0mself\u001b[0m\u001b[0;34m.\u001b[0m\u001b[0mvocab\u001b[0m\u001b[0;34m:\u001b[0m\u001b[0;34m\u001b[0m\u001b[0;34m\u001b[0m\u001b[0m\n\u001b[1;32m    555\u001b[0m                     \u001b[0mall_words\u001b[0m\u001b[0;34m.\u001b[0m\u001b[0madd\u001b[0m\u001b[0;34m(\u001b[0m\u001b[0mself\u001b[0m\u001b[0;34m.\u001b[0m\u001b[0mvocab\u001b[0m\u001b[0;34m[\u001b[0m\u001b[0mword\u001b[0m\u001b[0;34m]\u001b[0m\u001b[0;34m.\u001b[0m\u001b[0mindex\u001b[0m\u001b[0;34m)\u001b[0m\u001b[0;34m\u001b[0m\u001b[0;34m\u001b[0m\u001b[0m\n",
      "\u001b[0;32m/usr/local/lib/python3.9/site-packages/gensim/models/keyedvectors.py\u001b[0m in \u001b[0;36mword_vec\u001b[0;34m(self, word, use_norm)\u001b[0m\n\u001b[1;32m    466\u001b[0m             \u001b[0;32mreturn\u001b[0m \u001b[0mresult\u001b[0m\u001b[0;34m\u001b[0m\u001b[0;34m\u001b[0m\u001b[0m\n\u001b[1;32m    467\u001b[0m         \u001b[0;32melse\u001b[0m\u001b[0;34m:\u001b[0m\u001b[0;34m\u001b[0m\u001b[0;34m\u001b[0m\u001b[0m\n\u001b[0;32m--> 468\u001b[0;31m             \u001b[0;32mraise\u001b[0m \u001b[0mKeyError\u001b[0m\u001b[0;34m(\u001b[0m\u001b[0;34m\"word '%s' not in vocabulary\"\u001b[0m \u001b[0;34m%\u001b[0m \u001b[0mword\u001b[0m\u001b[0;34m)\u001b[0m\u001b[0;34m\u001b[0m\u001b[0;34m\u001b[0m\u001b[0m\n\u001b[0m\u001b[1;32m    469\u001b[0m \u001b[0;34m\u001b[0m\u001b[0m\n\u001b[1;32m    470\u001b[0m     \u001b[0;32mdef\u001b[0m \u001b[0mget_vector\u001b[0m\u001b[0;34m(\u001b[0m\u001b[0mself\u001b[0m\u001b[0;34m,\u001b[0m \u001b[0mword\u001b[0m\u001b[0;34m)\u001b[0m\u001b[0;34m:\u001b[0m\u001b[0;34m\u001b[0m\u001b[0;34m\u001b[0m\u001b[0m\n",
      "\u001b[0;31mKeyError\u001b[0m: \"word 'eselsbrücke' not in vocabulary\""
     ]
    }
   ],
   "source": [
    "model.most_similar(positive=['Eselsbrücke'], topn=50)"
   ]
  },
  {
   "cell_type": "markdown",
   "id": "148225e0",
   "metadata": {},
   "source": [
    "### Panzer"
   ]
  },
  {
   "cell_type": "code",
   "execution_count": 13,
   "id": "f6e8c02b",
   "metadata": {},
   "outputs": [
    {
     "data": {
      "text/plain": [
       "[('Panzern', 0.7010860443115234),\n",
       " ('gepanzerte_Fahrzeuge', 0.6463338136672974),\n",
       " ('Panzerwagen', 0.6452733278274536),\n",
       " ('Kalaschnikows', 0.6418158411979675),\n",
       " ('Kampfhubschrauber', 0.635204017162323),\n",
       " ('Militaerfahrzeuge', 0.6280620098114014),\n",
       " ('Schuetzenpanzer', 0.6279557943344116),\n",
       " ('Maschinengewehre', 0.6277989149093628),\n",
       " ('Panzerfahrzeuge', 0.6252842545509338),\n",
       " ('Militaerfahrzeugen', 0.6244735717773438),\n",
       " ('Kampfjets', 0.6228766441345215),\n",
       " ('Jeeps', 0.6180570125579834),\n",
       " ('Scud-Raketen', 0.6153161525726318),\n",
       " ('Kettenfahrzeuge', 0.6143237352371216),\n",
       " ('Kanonen', 0.6137651801109314),\n",
       " ('Kriegsgeraet', 0.6121534705162048),\n",
       " ('Panzerfaeuste', 0.6083927154541016),\n",
       " ('Kampffahrzeuge', 0.6077766418457031),\n",
       " ('Artillerie', 0.6071000695228577),\n",
       " ('Raketenwerfer', 0.602460503578186),\n",
       " ('Soldaten', 0.6014878749847412),\n",
       " ('Artilleriegeschuetze', 0.6013468503952026),\n",
       " ('Armeefahrzeuge', 0.6012337803840637),\n",
       " ('gepanzerte', 0.6008459329605103),\n",
       " ('Militaerjets', 0.6001464128494263),\n",
       " ('Militaergeraet', 0.5980674624443054),\n",
       " ('Schuetzenpanzern', 0.5975481867790222),\n",
       " ('Maschinengewehren', 0.5964958667755127),\n",
       " ('Militaerhubschrauber', 0.5950248837471008),\n",
       " ('Kampfpanzer', 0.589194655418396),\n",
       " ('Schuetzenpanzerwagen', 0.5881158113479614),\n",
       " ('gepanzerten', 0.5870001316070557),\n",
       " ('Kampfflugzeuge', 0.5862362384796143),\n",
       " ('gepanzerten_Fahrzeugen', 0.5821114182472229),\n",
       " ('Stahlhelmen', 0.5812646746635437),\n",
       " ('LKWs', 0.5812300443649292),\n",
       " ('Tanklastzuege', 0.580227255821228),\n",
       " ('Stellungen', 0.5795581340789795),\n",
       " ('Transportpanzer', 0.5794367790222168),\n",
       " ('Panzerabwehrraketen', 0.5783653259277344),\n",
       " ('Geschuetze', 0.5782086253166199),\n",
       " ('Kampfjet', 0.5778882503509521),\n",
       " ('Gasgranaten', 0.5777895450592041),\n",
       " ('Artilleriegeschosse', 0.5742121934890747),\n",
       " ('Flugzeuge', 0.5729228258132935),\n",
       " ('Gasmasken', 0.5723923444747925),\n",
       " ('Kampfmontur', 0.5714502930641174),\n",
       " ('Bomben_Raketen', 0.5707027912139893),\n",
       " ('Beutewaffen', 0.5697942972183228),\n",
       " ('Pick-ups', 0.5697814226150513)]"
      ]
     },
     "execution_count": 13,
     "metadata": {},
     "output_type": "execute_result"
    }
   ],
   "source": [
    "model.most_similar(positive=['Panzer'], topn=50)"
   ]
  },
  {
   "cell_type": "markdown",
   "id": "63564433",
   "metadata": {},
   "source": [
    "### Rauchwaren"
   ]
  },
  {
   "cell_type": "code",
   "execution_count": 14,
   "id": "c81464b0",
   "metadata": {},
   "outputs": [
    {
     "data": {
      "text/plain": [
       "[('Textilwaren', 0.7029660940170288),\n",
       " ('Kolonialwaren', 0.6903725862503052),\n",
       " ('Baumwollstoffe', 0.6902841329574585),\n",
       " ('Kurzwaren', 0.6858346462249756),\n",
       " ('Drogerieartikel', 0.6857659816741943),\n",
       " ('Holzwaren', 0.681433379650116),\n",
       " ('Suedfruechte', 0.6807733774185181),\n",
       " ('Manufakturwaren', 0.6804699897766113),\n",
       " ('Fischkonserven', 0.6792377233505249),\n",
       " ('feilboten', 0.6749920845031738),\n",
       " ('Gebrauchsartikel', 0.6739673614501953),\n",
       " ('Butter_Kaese', 0.6734437346458435),\n",
       " ('Elektroartikel', 0.6731008291244507),\n",
       " ('Spezereien', 0.6697018146514893),\n",
       " ('Kochutensilien', 0.6696286201477051),\n",
       " ('Halbfabrikate', 0.6693165302276611),\n",
       " ('Reiseproviant', 0.6675649881362915),\n",
       " ('Eingemachtes', 0.6631507873535156),\n",
       " ('Luxuswaren', 0.6600875854492188),\n",
       " ('Tuche', 0.6589546203613281),\n",
       " ('Suedfruechten', 0.6565864086151123),\n",
       " ('importiertes', 0.6549798250198364),\n",
       " ('Fleischwaren', 0.6544129252433777),\n",
       " ('Holzprodukte', 0.6530492305755615),\n",
       " ('Wollwaren', 0.6518953442573547),\n",
       " ('Bedarfsgegenstaende', 0.651481568813324),\n",
       " ('Kuerschnern', 0.650879979133606),\n",
       " ('hergestellte_Produkte', 0.6508459448814392),\n",
       " ('Fair_gehandelte', 0.6504912972450256),\n",
       " ('Getreide_Mehl', 0.6502867341041565),\n",
       " ('Brot_Gebaeck', 0.649679958820343),\n",
       " ('Wollstoffe', 0.6492602825164795),\n",
       " ('Strumpfwaren', 0.6481225490570068),\n",
       " ('Kindernahrung', 0.6470121145248413),\n",
       " ('Trockenmilch', 0.6467455625534058),\n",
       " ('Messer_Scheren', 0.646308183670044),\n",
       " ('Wein_Spirituosen', 0.6459828615188599),\n",
       " ('Pemmikan', 0.6457123756408691),\n",
       " ('Deko-', 0.6444520950317383),\n",
       " ('Molkereiprodukte', 0.6418112516403198),\n",
       " ('Geschenk-', 0.6415022015571594),\n",
       " ('Tierhaeute', 0.6413063406944275),\n",
       " ('Tischwaesche', 0.6412979364395142),\n",
       " ('abgepackte', 0.6404242515563965),\n",
       " ('Fertigwaren', 0.6393657326698303),\n",
       " ('Ledertaschen', 0.6389498114585876),\n",
       " ('Lederarbeiten', 0.6383843421936035),\n",
       " ('Kosmetikartikel', 0.6382812857627869),\n",
       " ('Zucker_Mehl', 0.6379142999649048),\n",
       " ('Tabakspfeifen', 0.6378204226493835)]"
      ]
     },
     "execution_count": 14,
     "metadata": {},
     "output_type": "execute_result"
    }
   ],
   "source": [
    "model.most_similar(positive=['Rauchwaren'], topn=50)"
   ]
  },
  {
   "cell_type": "markdown",
   "id": "b4efa910",
   "metadata": {},
   "source": [
    "### Toilette"
   ]
  },
  {
   "cell_type": "code",
   "execution_count": 15,
   "id": "0855bb66",
   "metadata": {},
   "outputs": [
    {
     "data": {
      "text/plain": [
       "[('WC', 0.7689907550811768),\n",
       " ('Dusche', 0.7651855945587158),\n",
       " ('Klo', 0.7511266469955444),\n",
       " ('Toiletten', 0.7499943971633911),\n",
       " ('Umkleidekabine', 0.7236154675483704),\n",
       " ('Waschbecken', 0.7226639986038208),\n",
       " ('Umkleide', 0.7223653793334961),\n",
       " ('Duschen', 0.7216483354568481),\n",
       " ('Damentoilette', 0.7213488817214966),\n",
       " ('Badezimmer', 0.7162162065505981),\n",
       " ('Zigarette_rauchen', 0.7158711552619934),\n",
       " ('Raucherbereich', 0.7014549970626831),\n",
       " ('aufs_Klo', 0.6963167786598206),\n",
       " ('Umkleideraum', 0.693328857421875),\n",
       " ('Toilette_benutzen', 0.6861728429794312),\n",
       " ('Waschraum', 0.6843602061271667),\n",
       " ('Hausflur', 0.6748517751693726),\n",
       " ('Schlafzimmer', 0.6717224717140198),\n",
       " ('Fahrstuhl', 0.6700435876846313),\n",
       " ('Flur', 0.6696025729179382),\n",
       " ('duschen', 0.6682937145233154),\n",
       " ('Badewanne', 0.667210578918457),\n",
       " ('Wickeltisch', 0.667156994342804),\n",
       " ('Toilettenraum', 0.6664838194847107),\n",
       " ('Muelleimer', 0.6654821634292603),\n",
       " ('Herrentoilette', 0.6653997898101807),\n",
       " ('Bett', 0.6633303165435791),\n",
       " ('WCs', 0.6632013916969299),\n",
       " ('Kuechentuer', 0.6610323190689087),\n",
       " ('Hund_Gassi', 0.6602727174758911),\n",
       " ('Sauna', 0.6599740982055664),\n",
       " ('Raucherraum', 0.6599177122116089),\n",
       " ('Toilettentuer', 0.6574586629867554),\n",
       " ('Duschen_Toiletten', 0.6570544242858887),\n",
       " ('Muellschlucker', 0.6568773984909058),\n",
       " ('Matratze', 0.656273365020752),\n",
       " ('Aschenbecher', 0.6558486819267273),\n",
       " ('Behindertentoilette', 0.6557153463363647),\n",
       " ('Arztzimmer', 0.6533890962600708),\n",
       " ('Behandlungszimmer', 0.6526556611061096),\n",
       " ('Gang_Toilette', 0.6522661447525024),\n",
       " ('Abstellraum', 0.651890754699707),\n",
       " ('Hausgang', 0.6498448252677917),\n",
       " ('Zimmertuer', 0.6491295695304871),\n",
       " ('Abstellkammer', 0.6490820050239563),\n",
       " ('Treppe_runter', 0.648848831653595),\n",
       " ('Hotelzimmers', 0.6479052305221558),\n",
       " ('durchs_Treppenhaus', 0.6468377709388733),\n",
       " ('Notdurft_verrichten', 0.6467776894569397),\n",
       " ('Putzeimer', 0.6465598940849304)]"
      ]
     },
     "execution_count": 15,
     "metadata": {},
     "output_type": "execute_result"
    }
   ],
   "source": [
    "model.most_similar(positive=['Toilette'], topn=50)"
   ]
  },
  {
   "cell_type": "markdown",
   "id": "930bf66e",
   "metadata": {},
   "source": [
    "### wichsen"
   ]
  },
  {
   "cell_type": "code",
   "execution_count": 16,
   "id": "259fc38a",
   "metadata": {},
   "outputs": [
    {
     "ename": "KeyError",
     "evalue": "\"word 'wichsen' not in vocabulary\"",
     "output_type": "error",
     "traceback": [
      "\u001b[0;31m---------------------------------------------------------------------------\u001b[0m",
      "\u001b[0;31mKeyError\u001b[0m                                  Traceback (most recent call last)",
      "\u001b[0;32m/var/folders/d9/1b92tl_13g32z4j72swk9lh40000gn/T/ipykernel_1950/948299194.py\u001b[0m in \u001b[0;36m<module>\u001b[0;34m\u001b[0m\n\u001b[0;32m----> 1\u001b[0;31m \u001b[0mmodel\u001b[0m\u001b[0;34m.\u001b[0m\u001b[0mmost_similar\u001b[0m\u001b[0;34m(\u001b[0m\u001b[0mpositive\u001b[0m\u001b[0;34m=\u001b[0m\u001b[0;34m[\u001b[0m\u001b[0;34m'wichsen'\u001b[0m\u001b[0;34m]\u001b[0m\u001b[0;34m,\u001b[0m \u001b[0mtopn\u001b[0m\u001b[0;34m=\u001b[0m\u001b[0;36m50\u001b[0m\u001b[0;34m)\u001b[0m\u001b[0;34m\u001b[0m\u001b[0;34m\u001b[0m\u001b[0m\n\u001b[0m",
      "\u001b[0;32m/usr/local/lib/python3.9/site-packages/gensim/models/keyedvectors.py\u001b[0m in \u001b[0;36mmost_similar\u001b[0;34m(self, positive, negative, topn, restrict_vocab, indexer)\u001b[0m\n\u001b[1;32m    551\u001b[0m                 \u001b[0mmean\u001b[0m\u001b[0;34m.\u001b[0m\u001b[0mappend\u001b[0m\u001b[0;34m(\u001b[0m\u001b[0mweight\u001b[0m \u001b[0;34m*\u001b[0m \u001b[0mword\u001b[0m\u001b[0;34m)\u001b[0m\u001b[0;34m\u001b[0m\u001b[0;34m\u001b[0m\u001b[0m\n\u001b[1;32m    552\u001b[0m             \u001b[0;32melse\u001b[0m\u001b[0;34m:\u001b[0m\u001b[0;34m\u001b[0m\u001b[0;34m\u001b[0m\u001b[0m\n\u001b[0;32m--> 553\u001b[0;31m                 \u001b[0mmean\u001b[0m\u001b[0;34m.\u001b[0m\u001b[0mappend\u001b[0m\u001b[0;34m(\u001b[0m\u001b[0mweight\u001b[0m \u001b[0;34m*\u001b[0m \u001b[0mself\u001b[0m\u001b[0;34m.\u001b[0m\u001b[0mword_vec\u001b[0m\u001b[0;34m(\u001b[0m\u001b[0mword\u001b[0m\u001b[0;34m,\u001b[0m \u001b[0muse_norm\u001b[0m\u001b[0;34m=\u001b[0m\u001b[0;32mTrue\u001b[0m\u001b[0;34m)\u001b[0m\u001b[0;34m)\u001b[0m\u001b[0;34m\u001b[0m\u001b[0;34m\u001b[0m\u001b[0m\n\u001b[0m\u001b[1;32m    554\u001b[0m                 \u001b[0;32mif\u001b[0m \u001b[0mword\u001b[0m \u001b[0;32min\u001b[0m \u001b[0mself\u001b[0m\u001b[0;34m.\u001b[0m\u001b[0mvocab\u001b[0m\u001b[0;34m:\u001b[0m\u001b[0;34m\u001b[0m\u001b[0;34m\u001b[0m\u001b[0m\n\u001b[1;32m    555\u001b[0m                     \u001b[0mall_words\u001b[0m\u001b[0;34m.\u001b[0m\u001b[0madd\u001b[0m\u001b[0;34m(\u001b[0m\u001b[0mself\u001b[0m\u001b[0;34m.\u001b[0m\u001b[0mvocab\u001b[0m\u001b[0;34m[\u001b[0m\u001b[0mword\u001b[0m\u001b[0;34m]\u001b[0m\u001b[0;34m.\u001b[0m\u001b[0mindex\u001b[0m\u001b[0;34m)\u001b[0m\u001b[0;34m\u001b[0m\u001b[0;34m\u001b[0m\u001b[0m\n",
      "\u001b[0;32m/usr/local/lib/python3.9/site-packages/gensim/models/keyedvectors.py\u001b[0m in \u001b[0;36mword_vec\u001b[0;34m(self, word, use_norm)\u001b[0m\n\u001b[1;32m    466\u001b[0m             \u001b[0;32mreturn\u001b[0m \u001b[0mresult\u001b[0m\u001b[0;34m\u001b[0m\u001b[0;34m\u001b[0m\u001b[0m\n\u001b[1;32m    467\u001b[0m         \u001b[0;32melse\u001b[0m\u001b[0;34m:\u001b[0m\u001b[0;34m\u001b[0m\u001b[0;34m\u001b[0m\u001b[0m\n\u001b[0;32m--> 468\u001b[0;31m             \u001b[0;32mraise\u001b[0m \u001b[0mKeyError\u001b[0m\u001b[0;34m(\u001b[0m\u001b[0;34m\"word '%s' not in vocabulary\"\u001b[0m \u001b[0;34m%\u001b[0m \u001b[0mword\u001b[0m\u001b[0;34m)\u001b[0m\u001b[0;34m\u001b[0m\u001b[0;34m\u001b[0m\u001b[0m\n\u001b[0m\u001b[1;32m    469\u001b[0m \u001b[0;34m\u001b[0m\u001b[0m\n\u001b[1;32m    470\u001b[0m     \u001b[0;32mdef\u001b[0m \u001b[0mget_vector\u001b[0m\u001b[0;34m(\u001b[0m\u001b[0mself\u001b[0m\u001b[0;34m,\u001b[0m \u001b[0mword\u001b[0m\u001b[0;34m)\u001b[0m\u001b[0;34m:\u001b[0m\u001b[0;34m\u001b[0m\u001b[0;34m\u001b[0m\u001b[0m\n",
      "\u001b[0;31mKeyError\u001b[0m: \"word 'wichsen' not in vocabulary\""
     ]
    }
   ],
   "source": [
    "model.most_similar(positive=['wichsen'], topn=50)"
   ]
  },
  {
   "cell_type": "markdown",
   "id": "ef3aa676",
   "metadata": {},
   "source": [
    "### Widerstand"
   ]
  },
  {
   "cell_type": "code",
   "execution_count": 17,
   "id": "c55c3af5",
   "metadata": {},
   "outputs": [
    {
     "data": {
      "text/plain": [
       "[('massiven_Widerstand', 0.7253169417381287),\n",
       " ('heftigen_Widerstand', 0.6983963847160339),\n",
       " ('erbitterten_Widerstand', 0.6937938928604126),\n",
       " ('Widerstaende', 0.6775645613670349),\n",
       " ('erheblichen_Widerstand', 0.6628720760345459),\n",
       " ('geregt', 0.6567156314849854),\n",
       " ('Protest', 0.6429614424705505),\n",
       " ('Dagegen_regt', 0.6374555230140686),\n",
       " ('massiver_Widerstand', 0.6182389259338379),\n",
       " ('breite_Ablehnung', 0.6158403158187866),\n",
       " ('Gegenwehr', 0.609420895576477),\n",
       " ('Widerstands', 0.6040441989898682),\n",
       " ('Ablehnung', 0.6013751029968262),\n",
       " ('zivilem_Ungehorsam', 0.5992012023925781),\n",
       " ('Buergerprotest', 0.5970866680145264),\n",
       " ('Vorbehalte', 0.5966955423355103),\n",
       " ('Widerstandes', 0.596194863319397),\n",
       " ('entschiedenen_Widerstand', 0.5893914699554443),\n",
       " ('regt_Widerstand', 0.5845112204551697),\n",
       " ('US-Waffenlobby', 0.5790845155715942),\n",
       " ('Willen', 0.5789901614189148),\n",
       " ('erhebliche_Widerstaende', 0.5784940719604492),\n",
       " ('Widerstaenden', 0.5763289928436279),\n",
       " ('geteiltes_Echo', 0.5744439959526062),\n",
       " ('massive_Kritik', 0.5736167430877686),\n",
       " ('Widerstand_formiert', 0.5730608701705933),\n",
       " ('massive_Proteste', 0.5703851580619812),\n",
       " ('energischen_Widerstand', 0.5701344013214111),\n",
       " ('entschiedene_Ablehnung', 0.5698045492172241),\n",
       " ('heftige_Kritik', 0.5689435005187988),\n",
       " ('Homo-_Ehe', 0.5686030387878418),\n",
       " ('Atomlobby', 0.5652053952217102),\n",
       " ('Kritik', 0.5621527433395386),\n",
       " ('Homosexuellen-Ehe', 0.5621048212051392),\n",
       " ('Unionsfuehrung', 0.5613678097724915),\n",
       " ('Massive_Kritik', 0.5601109862327576),\n",
       " ('Sparbeschluesse', 0.5601027607917786),\n",
       " ('unsozialen', 0.5587632656097412),\n",
       " ('juristischen_Mitteln', 0.5572854280471802),\n",
       " ('Taksim_ueberall', 0.5570191144943237),\n",
       " ('Vorbehalten', 0.55594801902771),\n",
       " ('Proteststurm', 0.5555520057678223),\n",
       " ('Pressionen', 0.5550827980041504),\n",
       " ('Veto', 0.5549459457397461),\n",
       " ('breites_Buendnis', 0.5541355609893799),\n",
       " ('heftige_Proteste', 0.5526626110076904),\n",
       " ('passiven_Widerstand', 0.552126944065094),\n",
       " ('Bedenkentraegern', 0.5518450140953064),\n",
       " ('Widerspruch', 0.5517317056655884),\n",
       " ('Aufstand', 0.5502229928970337)]"
      ]
     },
     "execution_count": 17,
     "metadata": {},
     "output_type": "execute_result"
    }
   ],
   "source": [
    "model.most_similar(positive=['Widerstand'], topn=50)"
   ]
  },
  {
   "cell_type": "markdown",
   "id": "8eff4987",
   "metadata": {},
   "source": [
    "## Visualisierung"
   ]
  },
  {
   "cell_type": "code",
   "execution_count": 23,
   "id": "25d36d9e",
   "metadata": {},
   "outputs": [
    {
     "name": "stderr",
     "output_type": "stream",
     "text": [
      "/usr/local/lib/python3.9/site-packages/sklearn/manifold/_t_sne.py:780: FutureWarning: The default initialization in TSNE will change from 'random' to 'pca' in 1.2.\n",
      "  warnings.warn(\n",
      "/usr/local/lib/python3.9/site-packages/sklearn/manifold/_t_sne.py:790: FutureWarning: The default learning rate in TSNE will change from 200.0 to 'auto' in 1.2.\n",
      "  warnings.warn(\n"
     ]
    },
    {
     "data": {
      "image/png": "[encoded data removed]",
      "text/plain": [
       "<Figure size 2160x1800 with 1 Axes>"
      ]
     },
     "metadata": {},
     "output_type": "display_data"
    }
   ],
   "source": [
    "import matplotlib.pyplot as plt\n",
    "import seaborn as sns\n",
    "from sklearn.manifold import TSNE\n",
    "\n",
    "seed = 42 #just because\n",
    "# nur ausgewählte Wortvektoren plotten\n",
    "\n",
    "tsne = TSNE(n_components=2, random_state=seed)\n",
    "\n",
    "words =  ['Rauchwaren','Textilwaren', 'Kolonialwaren', 'Baumwollstoffe', 'Kurzwaren', 'Drogerieartikel','Holzwaren',\n",
    "'Suedfruechte', 'Manufakturwaren', 'Fischkonserven', 'feilboten']\n",
    "\n",
    "vectors = [model[word] for word in words]\n",
    "plt.figure(figsize=[30,25])\n",
    "plt.style.use('seaborn-whitegrid')\n",
    "Y = tsne.fit_transform(vectors[:200])\n",
    "plt.scatter(Y[:, 0], Y[:, 1])\n",
    "for label, x, y in zip(words, Y[:, 0], Y[:, 1]):\n",
    "    plt.annotate(label, xy=(x, y), xytext=(0, 0), textcoords='offset points')\n",
    "plt.show()"
   ]
  },
  {
   "cell_type": "code",
   "execution_count": null,
   "id": "96efbf4f",
   "metadata": {},
   "outputs": [],
   "source": [
    "tsne = TSNE(n_components=2)\n",
    "X_tsne = tsne.fit_transform(X)"
   ]
  },
  {
   "cell_type": "code",
   "execution_count": null,
   "id": "98b6c272",
   "metadata": {},
   "outputs": [],
   "source": []
  }
 ],
 "metadata": {
  "kernelspec": {
   "display_name": "Python 3 (ipykernel)",
   "language": "python",
   "name": "python3"
  },
  "language_info": {
   "codemirror_mode": {
    "name": "ipython",
    "version": 3
   },
   "file_extension": ".py",
   "mimetype": "text/x-python",
   "name": "python",
   "nbconvert_exporter": "python",
   "pygments_lexer": "ipython3",
   "version": "3.9.10"
  },
  "toc": {
   "base_numbering": 1,
   "nav_menu": {},
   "number_sections": true,
   "sideBar": true,
   "skip_h1_title": false,
   "title_cell": "Table of Contents",
   "title_sidebar": "Contents",
   "toc_cell": false,
   "toc_position": {},
   "toc_section_display": true,
   "toc_window_display": true
  },
  "varInspector": {
   "cols": {
    "lenName": 16,
    "lenType": 16,
    "lenVar": 40
   },
   "kernels_config": {
    "python": {
     "delete_cmd_postfix": "",
     "delete_cmd_prefix": "del ",
     "library": "var_list.py",
     "varRefreshCmd": "print(var_dic_list())"
    },
    "r": {
     "delete_cmd_postfix": ") ",
     "delete_cmd_prefix": "rm(",
     "library": "var_list.r",
     "varRefreshCmd": "cat(var_dic_list()) "
    }
   },
   "types_to_exclude": [
    "module",
    "function",
    "builtin_function_or_method",
    "instance",
    "_Feature"
   ],
   "window_display": false
  }
 },
 "nbformat": 4,
 "nbformat_minor": 5
}
