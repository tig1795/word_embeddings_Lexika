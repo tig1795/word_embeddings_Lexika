{
 "cells": [
  {
   "cell_type": "markdown",
   "id": "8568eb02",
   "metadata": {},
   "source": [
    "# Imports"
   ]
  },
  {
   "cell_type": "code",
   "execution_count": 1,
   "id": "91fa3807",
   "metadata": {},
   "outputs": [],
   "source": [
    "import gensim.models.keyedvectors as word2vec\n",
    "from sklearn.manifold import TSNE"
   ]
  },
  {
   "cell_type": "markdown",
   "id": "c5713e3f",
   "metadata": {},
   "source": [
    "# Vortrainiertes Word2Vec-Modell laden "
   ]
  },
  {
   "cell_type": "markdown",
   "id": "629552e2",
   "metadata": {},
   "source": [
    "https://devmount.github.io/GermanWordEmbeddings/"
   ]
  },
  {
   "cell_type": "code",
   "execution_count": 2,
   "id": "bbdb1b4d",
   "metadata": {},
   "outputs": [],
   "source": [
    "model = word2vec.KeyedVectors.load_word2vec_format(\"models/german.model\", binary=True)"
   ]
  },
  {
   "cell_type": "code",
   "execution_count": 3,
   "id": "aa34a8f3",
   "metadata": {},
   "outputs": [
    {
     "data": {
      "text/plain": [
       "<gensim.models.keyedvectors.Word2VecKeyedVectors at 0x111a7fd90>"
      ]
     },
     "execution_count": 3,
     "metadata": {},
     "output_type": "execute_result"
    }
   ],
   "source": [
    "model"
   ]
  },
  {
   "cell_type": "code",
   "execution_count": 4,
   "id": "1a783f84",
   "metadata": {},
   "outputs": [],
   "source": [
    "import os\n",
    "\n",
    "# trainiertes Modell speichern\n",
    "model.save(os.path.join('models', 'german_model.bin'))"
   ]
  },
  {
   "cell_type": "markdown",
   "id": "61e7dbec",
   "metadata": {},
   "source": [
    "# Exploration des Word2Vec-Modells"
   ]
  },
  {
   "cell_type": "markdown",
   "id": "48dc1cd4",
   "metadata": {},
   "source": [
    "## Word-Vektoren"
   ]
  },
  {
   "cell_type": "code",
   "execution_count": 5,
   "id": "fa3fdf2d",
   "metadata": {},
   "outputs": [
    {
     "data": {
      "text/plain": [
       "0.385641"
      ]
     },
     "execution_count": 5,
     "metadata": {},
     "output_type": "execute_result"
    }
   ],
   "source": [
    "model.similarity('Feminismus', 'Geschlechtsmerkmale')"
   ]
  },
  {
   "cell_type": "code",
   "execution_count": 6,
   "id": "318e8c16",
   "metadata": {},
   "outputs": [
    {
     "data": {
      "text/plain": [
       "0.77601904"
      ]
     },
     "execution_count": 6,
     "metadata": {},
     "output_type": "execute_result"
    }
   ],
   "source": [
    "model.similarity('schwul', 'homosexuell')"
   ]
  },
  {
   "cell_type": "markdown",
   "id": "536fe2a6",
   "metadata": {},
   "source": [
    "## Ähnliche Wörter"
   ]
  },
  {
   "cell_type": "markdown",
   "id": "2a46997c",
   "metadata": {},
   "source": [
    "### schwul"
   ]
  },
  {
   "cell_type": "code",
   "execution_count": 11,
   "id": "f9343410",
   "metadata": {},
   "outputs": [
    {
     "data": {
      "text/plain": [
       "[('homosexuell', 0.7760190963745117),\n",
       " ('bisexuell', 0.6981732249259949),\n",
       " ('heterosexuell', 0.6974589824676514),\n",
       " ('lesbisch', 0.6930457949638367),\n",
       " ('Rassist', 0.6881082057952881),\n",
       " ('transsexuell', 0.6819111108779907),\n",
       " ('benehme', 0.6698647141456604),\n",
       " ('Schwuler', 0.6694563627243042),\n",
       " ('hasse', 0.6660106182098389),\n",
       " ('paedophil', 0.6609952449798584),\n",
       " ('hetero', 0.6598430871963501),\n",
       " ('sexsuechtig', 0.6548917889595032),\n",
       " ('froehlicher_Mensch', 0.6519780158996582),\n",
       " ('Schwuchtel', 0.6480768322944641),\n",
       " ('luege', 0.6472991704940796),\n",
       " ('erzaehlst', 0.6444109678268433),\n",
       " ('anluegen', 0.643534779548645),\n",
       " ('netter_Mensch', 0.6413484215736389),\n",
       " ('cooler_Typ', 0.6401758193969727),\n",
       " ('netter_Kerl', 0.6400492787361145),\n",
       " ('Weichei', 0.6394885778427124),\n",
       " ('Schwulsein', 0.638517439365387),\n",
       " ('aussiehst', 0.6372260451316833),\n",
       " ('deppert', 0.637190580368042),\n",
       " ('geoutet', 0.6365229487419128),\n",
       " ('gluecklicher_Mensch', 0.6345371603965759),\n",
       " ('schwul_lesbisch', 0.6323959231376648),\n",
       " ('geradeheraus', 0.6275143623352051),\n",
       " ('verarschen', 0.6257230639457703),\n",
       " ('schwule', 0.6245941519737244),\n",
       " ('schwuler', 0.6243183612823486),\n",
       " ('fremdgegangen', 0.6242802143096924),\n",
       " ('glaeubiger_Mensch', 0.624239444732666),\n",
       " ('bescheuert', 0.623638927936554),\n",
       " ('echter_Fan', 0.6222174763679504),\n",
       " ('Du_wolltest', 0.6217906475067139),\n",
       " ('leidtut', 0.6200867295265198),\n",
       " ('Kontrollfreak', 0.6200068593025208),\n",
       " ('Quotenfrau', 0.6186720728874207),\n",
       " ('ausziehe', 0.6185448169708252),\n",
       " ('uebelst', 0.6183826327323914),\n",
       " ('Hurensohn', 0.6173065304756165),\n",
       " ('groessenwahnsinnig', 0.617201030254364),\n",
       " ('Heulsuse', 0.6168603897094727),\n",
       " ('Lesbe', 0.6163421273231506),\n",
       " ('Arschloecher', 0.6161147952079773),\n",
       " ('eingebildet', 0.615867018699646),\n",
       " ('veraeppelt', 0.6149943470954895),\n",
       " ('vorlaut', 0.6149485111236572),\n",
       " ('rumlaeuft', 0.6145592331886292)]"
      ]
     },
     "execution_count": 11,
     "metadata": {},
     "output_type": "execute_result"
    }
   ],
   "source": [
    "model.most_similar(positive=['schwul'], topn=50)"
   ]
  },
  {
   "cell_type": "markdown",
   "id": "b54d5078",
   "metadata": {},
   "source": [
    "### Feminismus"
   ]
  },
  {
   "cell_type": "code",
   "execution_count": 12,
   "id": "0b1ff4c4",
   "metadata": {},
   "outputs": [
    {
     "data": {
      "text/plain": [
       "[('feministische', 0.7393956184387207),\n",
       " ('sexuelle_Befreiung', 0.7383657693862915),\n",
       " ('Frauenbewegung', 0.7298169732093811),\n",
       " ('Emanzipation', 0.7230749130249023),\n",
       " ('Feministinnen', 0.7158890962600708),\n",
       " ('feministischen', 0.6990504264831543),\n",
       " ('Rassismus_Sexismus', 0.6942546367645264),\n",
       " ('Sexismus', 0.687390923500061),\n",
       " ('Maennerbild', 0.6804164052009583),\n",
       " ('Sexualitaet', 0.6799560785293579),\n",
       " ('feministischer', 0.6774656176567078),\n",
       " ('Fundamentalismus', 0.675777792930603),\n",
       " ('Geschlechterrollen', 0.6714828610420227),\n",
       " ('Antikapitalismus', 0.6705081462860107),\n",
       " ('Konservatismus', 0.6688237190246582),\n",
       " ('68ern', 0.668380081653595),\n",
       " ('Liberalismus', 0.6681305170059204),\n",
       " ('Dissidenz', 0.6662600636482239),\n",
       " ('antifeministische', 0.6656634211540222),\n",
       " ('Alltagssexismus', 0.6648677587509155),\n",
       " ('Frauenhass', 0.6636050939559937),\n",
       " ('Kapitalismuskritik', 0.662997841835022),\n",
       " ('Frauenemanzipation', 0.662792444229126),\n",
       " ('Veganismus', 0.6614989042282104),\n",
       " ('Misogynie', 0.6612091064453125),\n",
       " ('Geschlechterpolitik', 0.658515453338623),\n",
       " ('emanzipatorische', 0.6573087573051453),\n",
       " ('weibliche_Sexualitaet', 0.6572504639625549),\n",
       " ('Political_Correctness', 0.6563723683357239),\n",
       " ('Maennerrechtsbewegung', 0.6559721231460571),\n",
       " ('Islamismus', 0.6550487875938416),\n",
       " ('Sexismus_Rassismus', 0.6541061401367188),\n",
       " ('feministisch', 0.6529816389083862),\n",
       " ('Paternalismus', 0.6528923511505127),\n",
       " ('Kapitalismus', 0.6523001194000244),\n",
       " ('Neoliberalismus', 0.6511257290840149),\n",
       " ('Anarchismus', 0.6503648161888123),\n",
       " ('Pluralismus', 0.6503629684448242),\n",
       " ('Alice_Schwarzer', 0.6484779715538025),\n",
       " ('Diskurs', 0.6479688882827759),\n",
       " ('emanzipatorischen', 0.6474584341049194),\n",
       " ('Systemkritik', 0.6472969055175781),\n",
       " ('Aktivismus', 0.6454067826271057),\n",
       " ('Islam', 0.6449350714683533),\n",
       " ('Machismo', 0.6440422534942627),\n",
       " ('Frauenfrage', 0.6434105634689331),\n",
       " ('Schwulsein', 0.6428223848342896),\n",
       " ('Konsumkritik', 0.6426925659179688),\n",
       " ('Konsumismus', 0.6416909694671631),\n",
       " ('Sexualmoral', 0.6416106820106506)]"
      ]
     },
     "execution_count": 12,
     "metadata": {},
     "output_type": "execute_result"
    }
   ],
   "source": [
    "model.most_similar(positive=['Feminismus'], topn=50)"
   ]
  },
  {
   "cell_type": "markdown",
   "id": "0f6a0eaf",
   "metadata": {},
   "source": [
    "### Roboter"
   ]
  },
  {
   "cell_type": "code",
   "execution_count": 13,
   "id": "d8428868",
   "metadata": {},
   "outputs": [
    {
     "data": {
      "text/plain": [
       "[('Robotern', 0.7334266304969788),\n",
       " ('Kirobo', 0.7013474106788635),\n",
       " ('Quadrocopter', 0.6612380743026733),\n",
       " ('Flugroboter', 0.6600983142852783),\n",
       " ('3-D-Drucker', 0.6522179841995239),\n",
       " ('3D-Drucker', 0.6516438126564026),\n",
       " ('Roboters', 0.6513009667396545),\n",
       " ('ferngesteuerte', 0.645732581615448),\n",
       " ('Oktokopter', 0.6437172889709473),\n",
       " ('Kampfroboter', 0.643065333366394),\n",
       " ('Mini-Computer', 0.6391275525093079),\n",
       " ('zusammenschrauben', 0.6388798356056213),\n",
       " ('computergesteuerten', 0.6259481310844421),\n",
       " ('Industrieroboter', 0.6251970529556274),\n",
       " ('Pulsmesser', 0.6233386397361755),\n",
       " ('Mikrochips', 0.6213945150375366),\n",
       " ('durchs_Weltall', 0.6207461953163147),\n",
       " ('Dummys', 0.6195557117462158),\n",
       " ('Greifarm', 0.616397500038147),\n",
       " ('Wiimote', 0.616247832775116),\n",
       " ('zusammenzubauen', 0.611467719078064),\n",
       " ('Fernsteuerung', 0.6112048029899597),\n",
       " ('Roentgenblick', 0.6094838380813599),\n",
       " ('Cyborgs', 0.6079831123352051),\n",
       " ('Wetterballon', 0.6074890494346619),\n",
       " ('Raumschiffe', 0.6056021451950073),\n",
       " ('Quadrokopter', 0.6054459810256958),\n",
       " ('Raumanzug', 0.6052630543708801),\n",
       " ('Sensor', 0.6049296259880066),\n",
       " ('Joystick', 0.6034570336341858),\n",
       " ('zusammenbaut', 0.6016019582748413),\n",
       " ('Lego-Figuren', 0.6009246706962585),\n",
       " ('R2-D2', 0.6007593274116516),\n",
       " ('Raumschiff', 0.6005541086196899),\n",
       " ('Sensoren', 0.59974205493927),\n",
       " ('Sprachbefehle', 0.5985155701637268),\n",
       " ('Astronauten', 0.5965119004249573),\n",
       " ('Humanoiden', 0.5961320996284485),\n",
       " ('Teleportation', 0.5960602164268494),\n",
       " ('3D-Druck', 0.5960092544555664),\n",
       " ('Reinraum', 0.5950672030448914),\n",
       " ('ferngesteuerten', 0.5949734449386597),\n",
       " ('Wearables', 0.593132495880127),\n",
       " ('kuenstlicher_Intelligenz', 0.5927167534828186),\n",
       " ('Simulation', 0.5916916131973267),\n",
       " ('Wii-Fernbedienung', 0.5901767611503601),\n",
       " ('Raumstation', 0.5901726484298706),\n",
       " ('Mars_fliegen', 0.5901165008544922),\n",
       " ('Clank', 0.5885377526283264),\n",
       " ('loeten', 0.5882348418235779)]"
      ]
     },
     "execution_count": 13,
     "metadata": {},
     "output_type": "execute_result"
    }
   ],
   "source": [
    "model.most_similar(positive=['Roboter'], topn=50)"
   ]
  },
  {
   "cell_type": "markdown",
   "id": "61972808",
   "metadata": {},
   "source": [
    "### schwadronieren"
   ]
  },
  {
   "cell_type": "code",
   "execution_count": 14,
   "id": "75ff4cd1",
   "metadata": {},
   "outputs": [
    {
     "data": {
      "text/plain": [
       "[('schwadroniert', 0.7765207886695862),\n",
       " ('mokieren', 0.7635422348976135),\n",
       " ('Gequatsche', 0.7511188387870789),\n",
       " ('ereifern', 0.7337616086006165),\n",
       " ('Frustrierten', 0.732723593711853),\n",
       " ('Gutmenschentum', 0.7293014526367188),\n",
       " ('schwadronierte', 0.7196743488311768),\n",
       " ('echauffieren', 0.7184065580368042),\n",
       " ('Krokodilstraenen', 0.7104637026786804),\n",
       " ('scheinheiligen', 0.7098892331123352),\n",
       " ('Herrenwitze', 0.7097393870353699),\n",
       " ('Redet', 0.7089059352874756),\n",
       " ('Felde_zieht', 0.7079243659973145),\n",
       " ('Berliner_Politikbetrieb', 0.7074588537216187),\n",
       " ('Gelaber', 0.7071934938430786),\n",
       " ('raesonieren', 0.7067897319793701),\n",
       " ('Nase_ruempfen', 0.701944887638092),\n",
       " ('Gutmenschen', 0.7017240524291992),\n",
       " ('Geschwafel', 0.7005497813224792),\n",
       " ('mokiert', 0.700070321559906),\n",
       " ('witzeln', 0.6953638195991516),\n",
       " ('noergeln', 0.6950718760490417),\n",
       " ('unangenehme_Wahrheiten', 0.6946257948875427),\n",
       " ('menscheln', 0.6939440965652466),\n",
       " ('Besserwisserei', 0.6921437382698059),\n",
       " ('laestern', 0.6915284991264343),\n",
       " ('maulen', 0.6913593411445618),\n",
       " ('Rainer_Bruederles', 0.6913543343544006),\n",
       " ('Straenge_schlagen', 0.6912938356399536),\n",
       " ('unbequeme_Wahrheiten', 0.6907896995544434),\n",
       " ('hofieren', 0.690280556678772),\n",
       " ('Wand_malen', 0.6894718408584595),\n",
       " ('Blauaeugigkeit', 0.6893866658210754),\n",
       " ('doofen', 0.689232587814331),\n",
       " ('Laestern', 0.6886290311813354),\n",
       " ('aufzuregen', 0.6882615089416504),\n",
       " ('kuschen', 0.6881287693977356),\n",
       " ('Ohren_hauen', 0.6863884329795837),\n",
       " ('political_correctness', 0.6860442161560059),\n",
       " ('spoettelt', 0.685874879360199),\n",
       " ('herzuziehen', 0.6835546493530273),\n",
       " ('Politikbetriebs', 0.6831433773040771),\n",
       " ('Noergelei', 0.6829959154129028),\n",
       " ('Gejammer', 0.6824410557746887),\n",
       " ('Ewiggestrigen', 0.6823590993881226),\n",
       " ('mault', 0.6823353171348572),\n",
       " ('Tiefstapelei', 0.6821653246879578),\n",
       " ('Neiddebatte', 0.6816323399543762),\n",
       " ('Merkel-CDU', 0.6815687417984009),\n",
       " ('Lamentieren', 0.6814075112342834)]"
      ]
     },
     "execution_count": 14,
     "metadata": {},
     "output_type": "execute_result"
    }
   ],
   "source": [
    "model.most_similar(positive=['schwadronieren'], topn=50)"
   ]
  },
  {
   "cell_type": "markdown",
   "id": "95c46b26",
   "metadata": {},
   "source": [
    "### Ampel"
   ]
  },
  {
   "cell_type": "code",
   "execution_count": 17,
   "id": "0a94e10e",
   "metadata": {},
   "outputs": [
    {
     "data": {
      "text/plain": [
       "[('Fussgaengerampel', 0.8374642729759216),\n",
       " ('Ampelanlage', 0.8154311776161194),\n",
       " ('Ampel_Kreuzung', 0.8015949726104736),\n",
       " ('Kreuzung', 0.769700825214386),\n",
       " ('Baustellenampel', 0.7665086388587952),\n",
       " ('Ampeln', 0.7662797570228577),\n",
       " ('Zebrastreifen', 0.7625373601913452),\n",
       " ('Ampelkreuzung', 0.7548903822898865),\n",
       " ('Fussgaengerueberweg', 0.7498918175697327),\n",
       " ('Linksabbieger', 0.7474932074546814),\n",
       " ('Ampel_Rot', 0.7462756037712097),\n",
       " ('Bedarfsampel', 0.7456492185592651),\n",
       " ('Ueberweg', 0.7402632236480713),\n",
       " ('Lichtzeichenanlage', 0.7369253039360046),\n",
       " ('Linksabbiegerspur', 0.735771894454956),\n",
       " ('Abbieger', 0.7347221374511719),\n",
       " ('Kreisverkehr', 0.7299556732177734),\n",
       " ('Geradeausspur', 0.7293041348457336),\n",
       " ('Busspur', 0.7246271371841431),\n",
       " ('Kreisel', 0.7206924557685852),\n",
       " ('Abbiegespur', 0.7191241979598999),\n",
       " ('Gruenphase', 0.7157478928565979),\n",
       " ('Ampel_rot', 0.7136111855506897),\n",
       " ('Bahnuebergang', 0.713551938533783),\n",
       " ('Fussgaengerfurt', 0.7109078168869019),\n",
       " ('Rotlicht', 0.710380494594574),\n",
       " ('Linksabbiegespur', 0.7097984552383423),\n",
       " ('Stopp-Schild', 0.7091384530067444),\n",
       " ('rechts_abbiegen', 0.7090914845466614),\n",
       " ('Sperrflaeche', 0.7068900465965271),\n",
       " ('Gruenlicht', 0.7063243985176086),\n",
       " ('Querungshilfe', 0.7049446702003479),\n",
       " ('Haltelinie', 0.7026487588882446),\n",
       " ('Signalanlage', 0.701535165309906),\n",
       " ('Ampelschaltung', 0.7002202272415161),\n",
       " ('roten_Ampel', 0.700095534324646),\n",
       " ('Rechtsabbiegerspur', 0.6999796032905579),\n",
       " ('Rechtsabbieger', 0.6991267800331116),\n",
       " ('Verkehrsinsel', 0.6965087652206421),\n",
       " ('Einfaedelspur', 0.6951740384101868),\n",
       " ('Mittelinsel', 0.6943982243537903),\n",
       " ('Vorfahrtsstrasse', 0.6940992474555969),\n",
       " ('Ampel_Gruen', 0.693587064743042),\n",
       " ('geblinkt', 0.6934766173362732),\n",
       " ('Fussgaenger', 0.6920631527900696),\n",
       " ('Schranke', 0.6911436915397644),\n",
       " ('Bahnunterfuehrung', 0.6865024566650391),\n",
       " ('Kreuzung_ueberqueren', 0.6856921911239624),\n",
       " ('rote_Ampel', 0.6839156150817871),\n",
       " ('Fahrbahnverengung', 0.6837285757064819)]"
      ]
     },
     "execution_count": 17,
     "metadata": {},
     "output_type": "execute_result"
    }
   ],
   "source": [
    "model.most_similar(positive=['Ampel'], topn=50)"
   ]
  },
  {
   "cell_type": "markdown",
   "id": "148225e0",
   "metadata": {},
   "source": [
    "### Batterie"
   ]
  },
  {
   "cell_type": "code",
   "execution_count": 18,
   "id": "f6e8c02b",
   "metadata": {},
   "outputs": [
    {
     "data": {
      "text/plain": [
       "[('Akkus', 0.8310737609863281),\n",
       " ('Batterien', 0.806445837020874),\n",
       " ('Akku', 0.7806811928749084),\n",
       " ('Steckdose', 0.7570148706436157),\n",
       " ('Lithium-Ionen-Akkus', 0.7506780028343201),\n",
       " ('Lithium-Ionen-Batterie', 0.7499291896820068),\n",
       " ('Haushaltssteckdose', 0.7374464273452759),\n",
       " ('Starterbatterie', 0.7325615286827087),\n",
       " ('Lichtmaschine', 0.7265921235084534),\n",
       " ('Lithium-Ionen-Batterien', 0.7251371741294861),\n",
       " ('Bordelektronik', 0.7211644053459167),\n",
       " ('Generator', 0.719230592250824),\n",
       " ('Akkumulator', 0.7070470452308655),\n",
       " ('Autobatterie', 0.7017815709114075),\n",
       " ('Lithium-Ionen-Akku', 0.7006772756576538),\n",
       " ('Traktionsbatterie', 0.7006241083145142),\n",
       " ('Rekuperation', 0.7002805471420288),\n",
       " ('Lithium-Ionen-Akkumulator', 0.6993001699447632),\n",
       " ('Solarmodul', 0.6981649398803711),\n",
       " ('Hydraulikpumpe', 0.6959496736526489),\n",
       " ('Zuendspule', 0.6908495426177979),\n",
       " ('Anlasser', 0.6898943185806274),\n",
       " ('Synchrongeneratoren', 0.6890895366668701),\n",
       " ('Akkumulatoren', 0.6885196566581726),\n",
       " ('Druckspeicher', 0.6884981393814087),\n",
       " ('Ladegeraet', 0.6884628534317017),\n",
       " ('Verbindungskabel', 0.6865738034248352),\n",
       " ('Fahrzeugbatterie', 0.6855980157852173),\n",
       " ('Verbrennungsmotor', 0.6841285228729248),\n",
       " ('Steuerelektronik', 0.6831411719322205),\n",
       " ('Netzteil', 0.6820281147956848),\n",
       " ('Energierueckgewinnung', 0.6814671754837036),\n",
       " ('Luftfilter', 0.68086177110672),\n",
       " ('Bremsenergie', 0.6795709729194641),\n",
       " ('Kuehlaggregat', 0.678688645362854),\n",
       " ('Motorbetrieb', 0.6785311698913574),\n",
       " ('Nebenaggregate', 0.6781561374664307),\n",
       " ('Vorschaltgeraet', 0.6766082048416138),\n",
       " ('Kraftstoffpumpe', 0.6758860349655151),\n",
       " ('Doppelkupplung', 0.6750607490539551),\n",
       " ('Nutzbremse', 0.6749585866928101),\n",
       " ('Elektromotors', 0.6741440892219543),\n",
       " ('Standheizung', 0.6738983392715454),\n",
       " ('Kondensator', 0.6735904812812805),\n",
       " ('Stand-by-Modus', 0.6730223894119263),\n",
       " ('Ladekabel', 0.6728706359863281),\n",
       " ('Zuendverteiler', 0.6726276874542236),\n",
       " ('Stromspeicher', 0.6718884110450745),\n",
       " ('Kochplatte', 0.6716397404670715),\n",
       " ('Stromgenerator', 0.6716289520263672)]"
      ]
     },
     "execution_count": 18,
     "metadata": {},
     "output_type": "execute_result"
    }
   ],
   "source": [
    "model.most_similar(positive=['Batterie'], topn=50)"
   ]
  },
  {
   "cell_type": "markdown",
   "id": "63564433",
   "metadata": {},
   "source": [
    "### Revolution"
   ]
  },
  {
   "cell_type": "code",
   "execution_count": 20,
   "id": "c81464b0",
   "metadata": {},
   "outputs": [
    {
     "data": {
      "text/plain": [
       "[('revolutionaeren', 0.7118714451789856),\n",
       " ('Rebellion', 0.7046591639518738),\n",
       " ('Revolutionen', 0.7020705342292786),\n",
       " ('Revolte', 0.7020101547241211),\n",
       " ('Aufstand', 0.691943347454071),\n",
       " ('arabischen_Fruehling', 0.6858044862747192),\n",
       " ('Sturz_Mubaraks', 0.6816447377204895),\n",
       " ('Revolutionaere', 0.6722613573074341),\n",
       " ('aegyptischen_Revolution', 0.6722286343574524),\n",
       " ('Diktatur', 0.6677111983299255),\n",
       " ('revolutionaere', 0.6626136302947998),\n",
       " ('Umsturz', 0.6603602170944214),\n",
       " ('Arabischen_Fruehling', 0.6598866581916809),\n",
       " ('Mubarak-Regime', 0.6591724753379822),\n",
       " ('Arabellion', 0.6574277281761169),\n",
       " ('Konterrevolution', 0.653097927570343),\n",
       " ('Arabischen_Fruehlings', 0.6342843174934387),\n",
       " ('Demokratie', 0.633989691734314),\n",
       " ('proletarische_Revolution', 0.6327313184738159),\n",
       " ('Putsch', 0.6311132311820984),\n",
       " ('Militaerherrschaft', 0.6284484267234802),\n",
       " ('Sozialismus', 0.627879798412323),\n",
       " ('Ayatollahs', 0.6278094053268433),\n",
       " ('Staatsstreich', 0.6276175379753113),\n",
       " ('arabischen_Fruehlings', 0.6259524822235107),\n",
       " ('arabische_Fruehling', 0.6254411339759827),\n",
       " ('Sturz_Hosni', 0.6228250861167908),\n",
       " ('Massenprotest', 0.6209751963615417),\n",
       " ('Umwaelzung', 0.6188551187515259),\n",
       " ('Ben_Ali', 0.617270290851593),\n",
       " ('Mursi-Sturz', 0.6171835660934448),\n",
       " ('Aufstaende', 0.6161897778511047),\n",
       " ('Machthaber_Husni', 0.615330159664154),\n",
       " ('Aufstands', 0.6147257089614868),\n",
       " ('Sturz_Diktators', 0.6143520474433899),\n",
       " ('Ben_Alis', 0.6124468445777893),\n",
       " ('aegyptische_Volk', 0.611621618270874),\n",
       " ('Demokratiebewegung', 0.6115275621414185),\n",
       " ('Kapitalismus', 0.6105890274047852),\n",
       " ('Sturz_Regimes', 0.6096820831298828),\n",
       " ('Militaerputsch', 0.6082314848899841),\n",
       " ('Volksaufstand', 0.6078435182571411),\n",
       " ('Plutokratie', 0.6073282957077026),\n",
       " ('Tamarud', 0.6057003736495972),\n",
       " ('Volksbewegung', 0.6049301624298096),\n",
       " ('Sozialismus_Kommunismus', 0.603861927986145),\n",
       " ('Aufstandes', 0.6035267114639282),\n",
       " ('Absetzung_Mursis', 0.6009822487831116),\n",
       " ('Absetzung_Praesidenten', 0.599705696105957),\n",
       " ('Strassenproteste', 0.5982205867767334)]"
      ]
     },
     "execution_count": 20,
     "metadata": {},
     "output_type": "execute_result"
    }
   ],
   "source": [
    "model.most_similar(positive=['Revolution'], topn=50)"
   ]
  },
  {
   "cell_type": "markdown",
   "id": "b4efa910",
   "metadata": {},
   "source": [
    "### krass"
   ]
  },
  {
   "cell_type": "code",
   "execution_count": 10,
   "id": "0855bb66",
   "metadata": {},
   "outputs": [
    {
     "data": {
      "text/plain": [
       "[('bloed', 0.7266381978988647),\n",
       " ('geil', 0.7245705127716064),\n",
       " ('bescheuert', 0.7223949432373047),\n",
       " ('furchtbar', 0.7180526256561279),\n",
       " ('deprimierend', 0.717827320098877),\n",
       " ('eklig', 0.7130731344223022),\n",
       " ('doof', 0.7121332287788391),\n",
       " ('schlimm', 0.7095143795013428),\n",
       " ('komisch', 0.7062684893608093),\n",
       " ('nervig', 0.7035499215126038),\n",
       " ('peinlich', 0.7000223398208618),\n",
       " ('daemlich', 0.6985241770744324),\n",
       " ('schrecklich', 0.6955981850624084),\n",
       " ('cool', 0.6892462968826294),\n",
       " ('fies', 0.6879756450653076),\n",
       " ('scheisse', 0.6861993074417114),\n",
       " ('echt', 0.682623565196991),\n",
       " ('irre', 0.6825587749481201),\n",
       " ('unsexy', 0.6801878809928894),\n",
       " ('laecherlich', 0.6758877635002136),\n",
       " ('irgendwie_komisch', 0.6718078255653381),\n",
       " ('pervers', 0.670128345489502),\n",
       " ('albern', 0.6700239181518555),\n",
       " ('deppert', 0.6697468161582947),\n",
       " ('abartig', 0.6685810685157776),\n",
       " ('grotesk', 0.6685585379600525),\n",
       " ('unterste_Schublade', 0.6683605313301086),\n",
       " ('schoen', 0.6682025194168091),\n",
       " ('toll', 0.6658902168273926),\n",
       " ('beaengstigend', 0.6649889945983887),\n",
       " ('unverschaemt', 0.6645653247833252),\n",
       " ('banal', 0.6640621423721313),\n",
       " ('witzig', 0.6626031398773193),\n",
       " ('spassig', 0.662371814250946),\n",
       " ('lustig', 0.6613955497741699),\n",
       " ('ulkig', 0.6601948738098145),\n",
       " ('kribbelig', 0.6559193134307861),\n",
       " ('putzig', 0.6556136608123779),\n",
       " ('ekelig', 0.6548675894737244),\n",
       " ('bescheuerte', 0.6544716358184814),\n",
       " ('kleinkariert', 0.6537412405014038),\n",
       " ('Laecherlich', 0.6504350304603577),\n",
       " ('erschreckend', 0.6500599384307861),\n",
       " ('absolute_Frechheit', 0.648481011390686),\n",
       " ('pubertaer', 0.6482952833175659),\n",
       " ('aufregend', 0.6477673053741455),\n",
       " ('wehgetan', 0.6474630832672119),\n",
       " ('soooo', 0.6470994353294373),\n",
       " ('ekelhaft', 0.6464226245880127),\n",
       " ('fuerchterlich', 0.6463168859481812)]"
      ]
     },
     "execution_count": 10,
     "metadata": {},
     "output_type": "execute_result"
    }
   ],
   "source": [
    "model.most_similar(positive=['krass'], topn=50)"
   ]
  },
  {
   "cell_type": "markdown",
   "id": "8eff4987",
   "metadata": {},
   "source": [
    "## Visualisierung"
   ]
  },
  {
   "cell_type": "code",
   "execution_count": 8,
   "id": "25d36d9e",
   "metadata": {},
   "outputs": [],
   "source": [
    "vocab = list(model.key_to_index)\n",
    "X = model[vocab]"
   ]
  },
  {
   "cell_type": "code",
   "execution_count": null,
   "id": "96efbf4f",
   "metadata": {},
   "outputs": [],
   "source": [
    "tsne = TSNE(n_components=2)\n",
    "X_tsne = tsne.fit_transform(X)"
   ]
  },
  {
   "cell_type": "code",
   "execution_count": null,
   "id": "98b6c272",
   "metadata": {},
   "outputs": [],
   "source": []
  }
 ],
 "metadata": {
  "kernelspec": {
   "display_name": "Python 3 (ipykernel)",
   "language": "python",
   "name": "python3"
  },
  "language_info": {
   "codemirror_mode": {
    "name": "ipython",
    "version": 3
   },
   "file_extension": ".py",
   "mimetype": "text/x-python",
   "name": "python",
   "nbconvert_exporter": "python",
   "pygments_lexer": "ipython3",
   "version": "3.9.9"
  },
  "toc": {
   "base_numbering": 1,
   "nav_menu": {},
   "number_sections": true,
   "sideBar": true,
   "skip_h1_title": false,
   "title_cell": "Table of Contents",
   "title_sidebar": "Contents",
   "toc_cell": false,
   "toc_position": {},
   "toc_section_display": true,
   "toc_window_display": true
  },
  "varInspector": {
   "cols": {
    "lenName": 16,
    "lenType": 16,
    "lenVar": 40
   },
   "kernels_config": {
    "python": {
     "delete_cmd_postfix": "",
     "delete_cmd_prefix": "del ",
     "library": "var_list.py",
     "varRefreshCmd": "print(var_dic_list())"
    },
    "r": {
     "delete_cmd_postfix": ") ",
     "delete_cmd_prefix": "rm(",
     "library": "var_list.r",
     "varRefreshCmd": "cat(var_dic_list()) "
    }
   },
   "types_to_exclude": [
    "module",
    "function",
    "builtin_function_or_method",
    "instance",
    "_Feature"
   ],
   "window_display": false
  }
 },
 "nbformat": 4,
 "nbformat_minor": 5
}
