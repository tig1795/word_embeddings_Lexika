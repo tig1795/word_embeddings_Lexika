{
 "cells": [
  {
   "cell_type": "markdown",
   "id": "8acbeb8b",
   "metadata": {},
   "source": [
    "# Imports"
   ]
  },
  {
   "cell_type": "code",
   "execution_count": 1,
   "id": "b53d0e7d",
   "metadata": {},
   "outputs": [
    {
     "data": {
      "text/plain": [
       "PreTrainedTokenizerFast(name_or_path='redewiedergabe/bert-base-historical-german-rw-cased', vocab_size=30000, model_max_len=512, is_fast=True, padding_side='right', special_tokens={'unk_token': '[UNK]', 'sep_token': '[SEP]', 'pad_token': '[PAD]', 'cls_token': '[CLS]', 'mask_token': '[MASK]'})"
      ]
     },
     "execution_count": 1,
     "metadata": {},
     "output_type": "execute_result"
    }
   ],
   "source": [
    "from transformers import AutoTokenizer, AutoModelForMaskedLM\n",
    "\n",
    "#Vortrainiertes Model Tokenzizer laden(Vokabular)\n",
    "\n",
    "tokenizer = AutoTokenizer.from_pretrained(\"redewiedergabe/bert-base-historical-german-rw-cased\")\n",
    "tokenizer"
   ]
  },
  {
   "cell_type": "markdown",
   "id": "41f868fa",
   "metadata": {},
   "source": [
    "# Inspect Bert Vocabulary"
   ]
  },
  {
   "cell_type": "markdown",
   "id": "162e127f",
   "metadata": {},
   "source": [
    "## Vocab Dump"
   ]
  },
  {
   "cell_type": "code",
   "execution_count": 2,
   "id": "625970ca",
   "metadata": {},
   "outputs": [],
   "source": [
    "with open(\"vocabulary.txt\", 'w') as f:\n",
    "    \n",
    "    # For each token...\n",
    "    for token in tokenizer.vocab.keys():\n",
    "        \n",
    "        # Write it out and escape any unicode characters.            \n",
    "        f.write(token + '\\n')"
   ]
  },
  {
   "cell_type": "markdown",
   "id": "49b1646e",
   "metadata": {},
   "source": [
    "## Einzelne Zeichen"
   ]
  },
  {
   "cell_type": "code",
   "execution_count": 3,
   "id": "4bc116bc",
   "metadata": {},
   "outputs": [],
   "source": [
    "one_chars = []\n",
    "one_chars_hashes = []\n",
    "\n",
    "# For each token in the vocabulary...\n",
    "for token in tokenizer.vocab.keys():\n",
    "    \n",
    "    # Record any single-character tokens.\n",
    "    if len(token) == 1:\n",
    "        one_chars.append(token)\n",
    "    \n",
    "    # Record single-character tokens preceded by the two hashes.    \n",
    "    elif len(token) == 3 and token[0:2] == '##':\n",
    "        one_chars_hashes.append(token)"
   ]
  },
  {
   "cell_type": "code",
   "execution_count": 4,
   "id": "a30ee655",
   "metadata": {},
   "outputs": [
    {
     "name": "stdout",
     "output_type": "stream",
     "text": [
      "Number of single character tokens: 89 \n",
      "\n",
      "K v x ) Ö < 2 P # y R J F [ U ( b O t 6 5 f 0 8 d e p ä Ä j c s % 7 V ö r € ' /\n",
      "h A B S 1 u I X - G Y g \" N ] 9 M Z § * w n z . k a H = C | Q & o ü m 4 , E T Ü\n",
      "D + W i 3 L : l ;\n"
     ]
    }
   ],
   "source": [
    "print('Number of single character tokens:', len(one_chars), '\\n')\n",
    "\n",
    "# Print all of the single characters, 40 per row.\n",
    "\n",
    "# For every batch of 40 tokens...\n",
    "for i in range(0, len(one_chars), 40):\n",
    "    \n",
    "    # Limit the end index so we don't go past the end of the list.\n",
    "    end = min(i + 40, len(one_chars) + 1)\n",
    "    \n",
    "    # Print out the tokens, separated by a space.\n",
    "    print(' '.join(one_chars[i:end]))"
   ]
  },
  {
   "cell_type": "code",
   "execution_count": 5,
   "id": "92726010",
   "metadata": {},
   "outputs": [
    {
     "name": "stdout",
     "output_type": "stream",
     "text": [
      "Number of single character tokens with hashes: 103 \n",
      "\n",
      "W 9 C , D = E F u P 6 § * J 2 w Q % Ö q < h i f > Ä ) [ O l M T n m 8 s ( ! 0 b\n",
      "5 $ ^ o 7 ö 3 : A g d | ä x - X c & e K I G ß k \\ 1 R + . L v { 4 € ; ] @ a ~ z\n",
      "ü # Ü U N ` } B r / _ Z \" ' y p V S j ? Y t H\n"
     ]
    }
   ],
   "source": [
    "print('Number of single character tokens with hashes:', len(one_chars_hashes), '\\n')\n",
    "\n",
    "# Print all of the single characters, 40 per row.\n",
    "\n",
    "# Strip the hash marks, since they just clutter the display.\n",
    "tokens = [token.replace('##', '') for token in one_chars_hashes]\n",
    "\n",
    "# For every batch of 40 tokens...\n",
    "for i in range(0, len(tokens), 40):\n",
    "    \n",
    "    # Limit the end index so we don't go past the end of the list.\n",
    "    end = min(i + 40, len(tokens) + 1)\n",
    "    \n",
    "    # Print out the tokens, separated by a space.\n",
    "    print(' '.join(tokens[i:end]))"
   ]
  },
  {
   "cell_type": "code",
   "execution_count": 6,
   "id": "e9cc43da",
   "metadata": {},
   "outputs": [
    {
     "name": "stdout",
     "output_type": "stream",
     "text": [
      "Are the two sets identical? False\n"
     ]
    }
   ],
   "source": [
    "print('Are the two sets identical?', set(one_chars) == set(tokens))"
   ]
  },
  {
   "cell_type": "markdown",
   "id": "d066c87d",
   "metadata": {},
   "source": [
    "## Teilwörter vs. Ganze Wörter"
   ]
  },
  {
   "cell_type": "code",
   "execution_count": 7,
   "id": "e5a8e66e",
   "metadata": {},
   "outputs": [
    {
     "name": "stderr",
     "output_type": "stream",
     "text": [
      "/usr/local/lib/python3.9/site-packages/seaborn/_decorators.py:36: FutureWarning: Pass the following variable as a keyword arg: x. From version 0.12, the only valid positional argument will be `data`, and passing other arguments without an explicit keyword will result in an error or misinterpretation.\n",
      "  warnings.warn(\n"
     ]
    },
    {
     "name": "stdout",
     "output_type": "stream",
     "text": [
      "Maximum token length: 18\n"
     ]
    },
    {
     "data": {
      "image/png": "[encoded data removed]",
      "text/plain": [
       "<Figure size 720x360 with 1 Axes>"
      ]
     },
     "metadata": {},
     "output_type": "display_data"
    }
   ],
   "source": [
    "import matplotlib.pyplot as plt\n",
    "import seaborn as sns\n",
    "import numpy as np\n",
    "\n",
    "sns.set(style='darkgrid')\n",
    "\n",
    "# Vergrößert den Plot und die Schriftgröße.\n",
    "sns.set(font_scale=1.5)\n",
    "plt.rcParams[\"figure.figsize\"] = (10,5)\n",
    "\n",
    "# Messen der Länge jedes Tokens im Vokabular.\n",
    "token_lengths = [len(token) for token in tokenizer.vocab.keys()]\n",
    "\n",
    "# Darstellung der Anzahl der Token jeder Länge.\n",
    "sns.countplot(token_lengths)\n",
    "plt.title('Vocab Token Lengths')\n",
    "plt.xlabel('Token Length')\n",
    "plt.ylabel('# of Tokens')\n",
    "\n",
    "print('Maximum token length:', max(token_lengths))"
   ]
  },
  {
   "cell_type": "markdown",
   "id": "c64bb44c",
   "metadata": {},
   "source": [
    "Betrachten wir nur die Token, die mit '##' beginnen."
   ]
  },
  {
   "cell_type": "code",
   "execution_count": 8,
   "id": "be102930",
   "metadata": {},
   "outputs": [],
   "source": [
    "num_subwords = 0\n",
    "\n",
    "subword_lengths = []\n",
    "\n",
    "# For each token in the vocabulary...\n",
    "for token in tokenizer.vocab.keys():\n",
    "    \n",
    "    # If it's a subword...\n",
    "    if len(token) >= 2 and token[0:2] == '##':\n",
    "        \n",
    "        # Tally all subwords\n",
    "        num_subwords += 1\n",
    "\n",
    "        # Measure the sub word length (without the hashes)\n",
    "        length = len(token) - 2\n",
    "\n",
    "        # Record the lengths.        \n",
    "        subword_lengths.append(length)"
   ]
  },
  {
   "cell_type": "markdown",
   "id": "6e4d2f94",
   "metadata": {},
   "source": [
    "Wie viele \"##\"-Zeichen gibt es im Vergleich zum vollständigen Wortschatz?"
   ]
  },
  {
   "cell_type": "code",
   "execution_count": 9,
   "id": "8dc482ae",
   "metadata": {},
   "outputs": [
    {
     "name": "stdout",
     "output_type": "stream",
     "text": [
      "Number of subwords: 9,860 of 30,000\n",
      "32.9%\n"
     ]
    }
   ],
   "source": [
    "vocab_size = len(tokenizer.vocab.keys())\n",
    "\n",
    "print('Number of subwords: {:,} of {:,}'.format(num_subwords, vocab_size))\n",
    "\n",
    "# Calculate the percentage of words that are '##' subwords.\n",
    "prcnt = float(num_subwords) / vocab_size * 100.0\n",
    "\n",
    "print('%.1f%%' % prcnt)"
   ]
  },
  {
   "cell_type": "code",
   "execution_count": 10,
   "id": "4ec1c208",
   "metadata": {},
   "outputs": [
    {
     "name": "stderr",
     "output_type": "stream",
     "text": [
      "/usr/local/lib/python3.9/site-packages/seaborn/_decorators.py:36: FutureWarning: Pass the following variable as a keyword arg: x. From version 0.12, the only valid positional argument will be `data`, and passing other arguments without an explicit keyword will result in an error or misinterpretation.\n",
      "  warnings.warn(\n"
     ]
    },
    {
     "data": {
      "text/plain": [
       "Text(0, 0.5, '# of ## Subwords')"
      ]
     },
     "execution_count": 10,
     "metadata": {},
     "output_type": "execute_result"
    },
    {
     "data": {
      "image/png": "[encoded data removed]",
      "text/plain": [
       "<Figure size 720x360 with 1 Axes>"
      ]
     },
     "metadata": {},
     "output_type": "display_data"
    }
   ],
   "source": [
    "sns.countplot(subword_lengths)\n",
    "plt.title('Subword Token Lengths (w/o \"##\")')\n",
    "plt.xlabel('Subword Length')\n",
    "plt.ylabel('# of ## Subwords')"
   ]
  },
  {
   "cell_type": "markdown",
   "id": "0d262c32",
   "metadata": {},
   "source": [
    "##  Rechtschreibfehler"
   ]
  },
  {
   "cell_type": "code",
   "execution_count": 11,
   "id": "72e436a5",
   "metadata": {},
   "outputs": [
    {
     "data": {
      "text/plain": [
       "False"
      ]
     },
     "execution_count": 11,
     "metadata": {},
     "output_type": "execute_result"
    }
   ],
   "source": [
    "'Feminismus' in tokenizer.vocab # Right"
   ]
  },
  {
   "cell_type": "code",
   "execution_count": 12,
   "id": "80ccd2ba",
   "metadata": {},
   "outputs": [
    {
     "data": {
      "text/plain": [
       "False"
      ]
     },
     "execution_count": 12,
     "metadata": {},
     "output_type": "execute_result"
    }
   ],
   "source": [
    "'Eselsbrücke' in tokenizer.vocab # Wrong"
   ]
  },
  {
   "cell_type": "code",
   "execution_count": 13,
   "id": "795e9e01",
   "metadata": {},
   "outputs": [
    {
     "data": {
      "text/plain": [
       "False"
      ]
     },
     "execution_count": 13,
     "metadata": {},
     "output_type": "execute_result"
    }
   ],
   "source": [
    "'Toilette' in tokenizer.vocab # Right"
   ]
  },
  {
   "cell_type": "code",
   "execution_count": 15,
   "id": "fc790919",
   "metadata": {},
   "outputs": [
    {
     "data": {
      "text/plain": [
       "True"
      ]
     },
     "execution_count": 15,
     "metadata": {},
     "output_type": "execute_result"
    }
   ],
   "source": [
    "'Batterie' in tokenizer.vocab # Wrong"
   ]
  },
  {
   "cell_type": "code",
   "execution_count": 31,
   "id": "002908fe",
   "metadata": {},
   "outputs": [
    {
     "data": {
      "text/plain": [
       "False"
      ]
     },
     "execution_count": 31,
     "metadata": {},
     "output_type": "execute_result"
    }
   ],
   "source": [
    "'Rauchwaren' in tokenizer.vocab"
   ]
  },
  {
   "cell_type": "code",
   "execution_count": 16,
   "id": "169d6af7",
   "metadata": {},
   "outputs": [
    {
     "data": {
      "text/plain": [
       "False"
      ]
     },
     "execution_count": 16,
     "metadata": {},
     "output_type": "execute_result"
    }
   ],
   "source": [
    "'wichsen' in tokenizer.vocab # Right"
   ]
  },
  {
   "cell_type": "code",
   "execution_count": 17,
   "id": "638f8877",
   "metadata": {},
   "outputs": [
    {
     "data": {
      "text/plain": [
       "False"
      ]
     },
     "execution_count": 17,
     "metadata": {},
     "output_type": "execute_result"
    }
   ],
   "source": [
    "'blöde' in tokenizer.vocab # Wrong"
   ]
  },
  {
   "cell_type": "code",
   "execution_count": 18,
   "id": "991aea8a",
   "metadata": {},
   "outputs": [
    {
     "data": {
      "text/plain": [
       "True"
      ]
     },
     "execution_count": 18,
     "metadata": {},
     "output_type": "execute_result"
    }
   ],
   "source": [
    "'Panzer' in tokenizer.vocab"
   ]
  },
  {
   "cell_type": "code",
   "execution_count": 19,
   "id": "cc33d544",
   "metadata": {},
   "outputs": [
    {
     "data": {
      "text/plain": [
       "False"
      ]
     },
     "execution_count": 19,
     "metadata": {},
     "output_type": "execute_result"
    }
   ],
   "source": [
    "'ausgepowert' in tokenizer.vocab"
   ]
  },
  {
   "cell_type": "code",
   "execution_count": 30,
   "id": "9471f5ea",
   "metadata": {},
   "outputs": [
    {
     "data": {
      "text/plain": [
       "True"
      ]
     },
     "execution_count": 30,
     "metadata": {},
     "output_type": "execute_result"
    }
   ],
   "source": [
    "'Widerstand' in tokenizer.vocab"
   ]
  },
  {
   "cell_type": "markdown",
   "id": "df618eab",
   "metadata": {},
   "source": [
    "## Was ist mit Apostrophen?"
   ]
  },
  {
   "cell_type": "code",
   "execution_count": 20,
   "id": "932ce498",
   "metadata": {},
   "outputs": [
    {
     "data": {
      "text/plain": [
       "False"
      ]
     },
     "execution_count": 20,
     "metadata": {},
     "output_type": "execute_result"
    }
   ],
   "source": [
    "\"can't\" in tokenizer.vocab"
   ]
  },
  {
   "cell_type": "code",
   "execution_count": 21,
   "id": "dabb404f",
   "metadata": {},
   "outputs": [
    {
     "data": {
      "text/plain": [
       "False"
      ]
     },
     "execution_count": 21,
     "metadata": {},
     "output_type": "execute_result"
    }
   ],
   "source": [
    "\"cant\" in tokenizer.vocab"
   ]
  },
  {
   "cell_type": "markdown",
   "id": "672aa835",
   "metadata": {},
   "source": [
    "## Anfangs- vs. Mittelteilwörter"
   ]
  },
  {
   "cell_type": "code",
   "execution_count": 22,
   "id": "d481d494",
   "metadata": {},
   "outputs": [
    {
     "name": "stdout",
     "output_type": "stream",
     "text": [
      "Did not find a token for ell\n"
     ]
    }
   ],
   "source": [
    "# Für jedes Token des Vokabulars...\n",
    "for token in tokenizer.vocab.keys():\n",
    "    \n",
    "    # Wenn es ein Teilwort ist...\n",
    "    if len(token) >= 2 and token[0:2] == '##':\n",
    "        if not token[2:] in tokenizer.vocab:\n",
    "            print('Did not find a token for', token[2:])\n",
    "            break"
   ]
  },
  {
   "cell_type": "code",
   "execution_count": 23,
   "id": "7c788219",
   "metadata": {},
   "outputs": [
    {
     "data": {
      "text/plain": [
       "True"
      ]
     },
     "execution_count": 23,
     "metadata": {},
     "output_type": "execute_result"
    }
   ],
   "source": [
    "'##ly' in tokenizer.vocab"
   ]
  },
  {
   "cell_type": "code",
   "execution_count": 24,
   "id": "be748246",
   "metadata": {},
   "outputs": [
    {
     "data": {
      "text/plain": [
       "False"
      ]
     },
     "execution_count": 24,
     "metadata": {},
     "output_type": "execute_result"
    }
   ],
   "source": [
    "'ly' in tokenizer.vocab"
   ]
  },
  {
   "cell_type": "markdown",
   "id": "92f653bd",
   "metadata": {},
   "source": [
    "## Namen"
   ]
  },
  {
   "cell_type": "code",
   "execution_count": 25,
   "id": "a264e5e8",
   "metadata": {},
   "outputs": [
    {
     "name": "stdout",
     "output_type": "stream",
     "text": [
      "Beginning file download with wget module\n",
      "100% [........................................................] 179353 / 179353"
     ]
    },
    {
     "data": {
      "text/plain": [
       "'first-names (1).txt'"
      ]
     },
     "execution_count": 25,
     "metadata": {},
     "output_type": "execute_result"
    }
   ],
   "source": [
    "import wget\n",
    "import random \n",
    "\n",
    "print('Beginning file download with wget module')\n",
    "\n",
    "url = 'http://www.gutenberg.org/files/3201/files/NAMES.TXT'\n",
    "wget.download(url, 'first-names.txt')"
   ]
  },
  {
   "cell_type": "code",
   "execution_count": 26,
   "id": "444fe015",
   "metadata": {},
   "outputs": [
    {
     "name": "stdout",
     "output_type": "stream",
     "text": [
      "Number of names: 21,985\n",
      "Example: sand\n"
     ]
    }
   ],
   "source": [
    "# Einlesen.\n",
    "with open('first-names.txt', 'rb') as f:\n",
    "    names_encoded = f.readlines()\n",
    "\n",
    "names = []\n",
    "\n",
    "# Dekodierung der Namen, Umwandlung in Kleinbuchstaben und Entfernen von Zeilenumbrüchen.\n",
    "for name in names_encoded:\n",
    "    try:\n",
    "        names.append(name.rstrip().lower().decode('utf-8'))\n",
    "    except:\n",
    "        continue\n",
    "\n",
    "print('Number of names: {:,}'.format(len(names)))\n",
    "print('Example:', random.choice(names))"
   ]
  },
  {
   "cell_type": "code",
   "execution_count": 27,
   "id": "30da172c",
   "metadata": {},
   "outputs": [
    {
     "name": "stdout",
     "output_type": "stream",
     "text": [
      "258 names in the vocabulary\n"
     ]
    }
   ],
   "source": [
    "num_names = 0\n",
    "\n",
    "# Für jeden Namen in unserer Liste...\n",
    "for name in names:\n",
    "\n",
    "    # Wenn es im Vokabular steht...\n",
    "    if name in tokenizer.vocab:\n",
    "        # Abrechnen.\n",
    "        num_names += 1\n",
    "\n",
    "print('{:,} names in the vocabulary'.format(num_names))"
   ]
  },
  {
   "cell_type": "markdown",
   "id": "08384d8a",
   "metadata": {},
   "source": [
    "## Zahlen"
   ]
  },
  {
   "cell_type": "code",
   "execution_count": 28,
   "id": "9d8c1d32",
   "metadata": {},
   "outputs": [
    {
     "name": "stdout",
     "output_type": "stream",
     "text": [
      "Vocab includes 452 numbers.\n"
     ]
    }
   ],
   "source": [
    "# Zählen, wie viele Zahlen im Wortschatz enthalten sind.\n",
    "count = 0\n",
    "\n",
    "# Für jedes Token des Vokabulars...\n",
    "for token in tokenizer.vocab.keys():\n",
    "\n",
    "    # Zählen, wenn es eine Zahl ist.\n",
    "    if token.isdigit():\n",
    "        count += 1\n",
    "        \n",
    "        # Beliebige Zahlen >= 10,000?\n",
    "        if len(token) > 4:\n",
    "            print(token)\n",
    "\n",
    "print('Vocab includes {:,} numbers.'.format(count))"
   ]
  },
  {
   "cell_type": "code",
   "execution_count": 29,
   "id": "2e6eec4c",
   "metadata": {},
   "outputs": [
    {
     "name": "stdout",
     "output_type": "stream",
     "text": [
      "Vocab includes 229 of 421 dates from 1600 - 2021\n"
     ]
    }
   ],
   "source": [
    "# Zählen, wie viele Daten zwischen 1600 und 2021 enthalten sind.\n",
    "count = 0 \n",
    "for i in range(1600, 2021):\n",
    "    if str(i) in tokenizer.vocab:\n",
    "        count += 1\n",
    "\n",
    "print('Vocab includes {:,} of 421 dates from 1600 - 2021'.format(count))"
   ]
  },
  {
   "cell_type": "code",
   "execution_count": null,
   "id": "64a817aa",
   "metadata": {},
   "outputs": [],
   "source": []
  }
 ],
 "metadata": {
  "kernelspec": {
   "display_name": "Python 3 (ipykernel)",
   "language": "python",
   "name": "python3"
  },
  "language_info": {
   "codemirror_mode": {
    "name": "ipython",
    "version": 3
   },
   "file_extension": ".py",
   "mimetype": "text/x-python",
   "name": "python",
   "nbconvert_exporter": "python",
   "pygments_lexer": "ipython3",
   "version": "3.9.10"
  },
  "toc": {
   "base_numbering": 1,
   "nav_menu": {},
   "number_sections": true,
   "sideBar": true,
   "skip_h1_title": false,
   "title_cell": "Table of Contents",
   "title_sidebar": "Contents",
   "toc_cell": false,
   "toc_position": {},
   "toc_section_display": true,
   "toc_window_display": true
  },
  "varInspector": {
   "cols": {
    "lenName": 16,
    "lenType": 16,
    "lenVar": 40
   },
   "kernels_config": {
    "python": {
     "delete_cmd_postfix": "",
     "delete_cmd_prefix": "del ",
     "library": "var_list.py",
     "varRefreshCmd": "print(var_dic_list())"
    },
    "r": {
     "delete_cmd_postfix": ") ",
     "delete_cmd_prefix": "rm(",
     "library": "var_list.r",
     "varRefreshCmd": "cat(var_dic_list()) "
    }
   },
   "types_to_exclude": [
    "module",
    "function",
    "builtin_function_or_method",
    "instance",
    "_Feature"
   ],
   "window_display": false
  }
 },
 "nbformat": 4,
 "nbformat_minor": 5
}
