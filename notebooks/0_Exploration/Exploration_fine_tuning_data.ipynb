{
 "cells": [
  {
   "cell_type": "markdown",
   "id": "ba0c8d1f",
   "metadata": {},
   "source": [
    "# Imports"
   ]
  },
  {
   "cell_type": "code",
   "execution_count": 1,
   "id": "325aa699",
   "metadata": {},
   "outputs": [],
   "source": [
    "import pandas as pd\n",
    "import numpy as np\n",
    "from collections import Counter\n",
    "\n",
    "import matplotlib.pyplot as plt\n",
    "import seaborn as sns"
   ]
  },
  {
   "cell_type": "code",
   "execution_count": 2,
   "id": "eac93271",
   "metadata": {},
   "outputs": [],
   "source": [
    "data = pd.read_csv(\"../1_Bert/Fine_Tuning/data/wikicorpus.csv\")"
   ]
  },
  {
   "cell_type": "code",
   "execution_count": 3,
   "id": "8ff72f44",
   "metadata": {},
   "outputs": [
    {
     "data": {
      "text/html": [
       "<div>\n",
       "<style scoped>\n",
       "    .dataframe tbody tr th:only-of-type {\n",
       "        vertical-align: middle;\n",
       "    }\n",
       "\n",
       "    .dataframe tbody tr th {\n",
       "        vertical-align: top;\n",
       "    }\n",
       "\n",
       "    .dataframe thead th {\n",
       "        text-align: right;\n",
       "    }\n",
       "</style>\n",
       "<table border=\"1\" class=\"dataframe\">\n",
       "  <thead>\n",
       "    <tr style=\"text-align: right;\">\n",
       "      <th></th>\n",
       "      <th>id</th>\n",
       "      <th>category</th>\n",
       "      <th>length</th>\n",
       "      <th>text</th>\n",
       "    </tr>\n",
       "  </thead>\n",
       "  <tbody>\n",
       "    <tr>\n",
       "      <th>0</th>\n",
       "      <td>0</td>\n",
       "      <td>Fernsehserie nach Staat</td>\n",
       "      <td>107</td>\n",
       "      <td>Tāmar und Schawqīya (arabisch تامر وشوقية, DMG...</td>\n",
       "    </tr>\n",
       "    <tr>\n",
       "      <th>1</th>\n",
       "      <td>1</td>\n",
       "      <td>Fernsehserie nach Staat</td>\n",
       "      <td>518</td>\n",
       "      <td>Achtung: Streng geheim! (Originaltitel: Missio...</td>\n",
       "    </tr>\n",
       "    <tr>\n",
       "      <th>2</th>\n",
       "      <td>2</td>\n",
       "      <td>Fernsehserie nach Staat</td>\n",
       "      <td>877</td>\n",
       "      <td>Alien Surfgirls ist eine australische Jugendse...</td>\n",
       "    </tr>\n",
       "    <tr>\n",
       "      <th>3</th>\n",
       "      <td>3</td>\n",
       "      <td>Fernsehserie nach Staat</td>\n",
       "      <td>1199</td>\n",
       "      <td>All Saints ist eine australische Fernsehserie ...</td>\n",
       "    </tr>\n",
       "    <tr>\n",
       "      <th>4</th>\n",
       "      <td>4</td>\n",
       "      <td>Fernsehserie nach Staat</td>\n",
       "      <td>142</td>\n",
       "      <td>Alle lieben Diggy ist eine australische Zeiche...</td>\n",
       "    </tr>\n",
       "    <tr>\n",
       "      <th>...</th>\n",
       "      <td>...</td>\n",
       "      <td>...</td>\n",
       "      <td>...</td>\n",
       "      <td>...</td>\n",
       "    </tr>\n",
       "    <tr>\n",
       "      <th>6937</th>\n",
       "      <td>6937</td>\n",
       "      <td>Kreditgeschäft</td>\n",
       "      <td>102</td>\n",
       "      <td>Weiche Daten ist eine wörtliche Lehnübersetzun...</td>\n",
       "    </tr>\n",
       "    <tr>\n",
       "      <th>6938</th>\n",
       "      <td>6938</td>\n",
       "      <td>Kreditgeschäft</td>\n",
       "      <td>202</td>\n",
       "      <td>Als Wertermittlungsgebühr wird in Deutschland ...</td>\n",
       "    </tr>\n",
       "    <tr>\n",
       "      <th>6939</th>\n",
       "      <td>6939</td>\n",
       "      <td>Kreditgeschäft</td>\n",
       "      <td>2275</td>\n",
       "      <td>In Deutschland beschreibt der Begriff Widerruf...</td>\n",
       "    </tr>\n",
       "    <tr>\n",
       "      <th>6940</th>\n",
       "      <td>6940</td>\n",
       "      <td>Kreditgeschäft</td>\n",
       "      <td>516</td>\n",
       "      <td>Das Zahlungsdiensteaufsichtsgesetz (ZAG) regel...</td>\n",
       "    </tr>\n",
       "    <tr>\n",
       "      <th>6941</th>\n",
       "      <td>6941</td>\n",
       "      <td>Kreditgeschäft</td>\n",
       "      <td>401</td>\n",
       "      <td>Zahlungsort ist im Schuldrecht der Ort, an dem...</td>\n",
       "    </tr>\n",
       "  </tbody>\n",
       "</table>\n",
       "<p>6942 rows × 4 columns</p>\n",
       "</div>"
      ],
      "text/plain": [
       "        id                 category  length  \\\n",
       "0        0  Fernsehserie nach Staat     107   \n",
       "1        1  Fernsehserie nach Staat     518   \n",
       "2        2  Fernsehserie nach Staat     877   \n",
       "3        3  Fernsehserie nach Staat    1199   \n",
       "4        4  Fernsehserie nach Staat     142   \n",
       "...    ...                      ...     ...   \n",
       "6937  6937           Kreditgeschäft     102   \n",
       "6938  6938           Kreditgeschäft     202   \n",
       "6939  6939           Kreditgeschäft    2275   \n",
       "6940  6940           Kreditgeschäft     516   \n",
       "6941  6941           Kreditgeschäft     401   \n",
       "\n",
       "                                                   text  \n",
       "0     Tāmar und Schawqīya (arabisch تامر وشوقية, DMG...  \n",
       "1     Achtung: Streng geheim! (Originaltitel: Missio...  \n",
       "2     Alien Surfgirls ist eine australische Jugendse...  \n",
       "3     All Saints ist eine australische Fernsehserie ...  \n",
       "4     Alle lieben Diggy ist eine australische Zeiche...  \n",
       "...                                                 ...  \n",
       "6937  Weiche Daten ist eine wörtliche Lehnübersetzun...  \n",
       "6938  Als Wertermittlungsgebühr wird in Deutschland ...  \n",
       "6939  In Deutschland beschreibt der Begriff Widerruf...  \n",
       "6940  Das Zahlungsdiensteaufsichtsgesetz (ZAG) regel...  \n",
       "6941  Zahlungsort ist im Schuldrecht der Ort, an dem...  \n",
       "\n",
       "[6942 rows x 4 columns]"
      ]
     },
     "execution_count": 3,
     "metadata": {},
     "output_type": "execute_result"
    }
   ],
   "source": [
    "data"
   ]
  },
  {
   "cell_type": "markdown",
   "id": "3142d022",
   "metadata": {},
   "source": [
    "# Anzahl der Kategorien und Texte, dazugehörige Verteilungen"
   ]
  },
  {
   "cell_type": "code",
   "execution_count": 8,
   "id": "17f0f212",
   "metadata": {},
   "outputs": [
    {
     "data": {
      "text/plain": [
       "array(['Fernsehserie nach Staat', 'Internet', 'Wirtschaft',\n",
       "       'Chemikaliengruppe', 'Oper', 'Literaturwissenschaft', 'Logik',\n",
       "       'Western', 'Film nach Staat', 'See in Deutschland',\n",
       "       'Burg in Deutschland', 'Herrscher nach Titel',\n",
       "       'Deutsche Vereine nach Bundesland', 'Literatur (Romantik)',\n",
       "       'Computerspiel nach Plattform', 'Kostümkunde', 'Krankheit',\n",
       "       'Krieg nach Typ', 'Album nach Typ', 'Gemälde nach Jahrhundert',\n",
       "       'Soziologie', 'Wald', 'Kunst (Deutschland)',\n",
       "       'Planung und Organisation', 'Kreditgeschäft', 'PKW-Modell',\n",
       "       'Alternative-Rock-Band', 'Einzelsprache', 'Millionenstadt',\n",
       "       'Frauenfußball'], dtype=object)"
      ]
     },
     "execution_count": 8,
     "metadata": {},
     "output_type": "execute_result"
    }
   ],
   "source": [
    "data['category'].unique()"
   ]
  },
  {
   "cell_type": "code",
   "execution_count": 12,
   "id": "592fb1c3",
   "metadata": {},
   "outputs": [],
   "source": [
    "for i,row in data.iterrows():\n",
    "    c = Counter(row.text.split())\n",
    "    data.at[i, 'number_of_tokens'] = sum(c.values())\n",
    "    data.at[i, 'number_of_types'] = int(len(c))"
   ]
  },
  {
   "cell_type": "code",
   "execution_count": 13,
   "id": "d607e6b5",
   "metadata": {},
   "outputs": [
    {
     "data": {
      "text/html": [
       "<div>\n",
       "<style scoped>\n",
       "    .dataframe tbody tr th:only-of-type {\n",
       "        vertical-align: middle;\n",
       "    }\n",
       "\n",
       "    .dataframe tbody tr th {\n",
       "        vertical-align: top;\n",
       "    }\n",
       "\n",
       "    .dataframe thead th {\n",
       "        text-align: right;\n",
       "    }\n",
       "</style>\n",
       "<table border=\"1\" class=\"dataframe\">\n",
       "  <thead>\n",
       "    <tr style=\"text-align: right;\">\n",
       "      <th></th>\n",
       "      <th>id</th>\n",
       "      <th>category</th>\n",
       "      <th>length</th>\n",
       "      <th>text</th>\n",
       "      <th>number_of_tokens</th>\n",
       "      <th>number_of_types</th>\n",
       "    </tr>\n",
       "  </thead>\n",
       "  <tbody>\n",
       "    <tr>\n",
       "      <th>0</th>\n",
       "      <td>0</td>\n",
       "      <td>Fernsehserie nach Staat</td>\n",
       "      <td>107</td>\n",
       "      <td>Tāmar und Schawqīya (arabisch تامر وشوقية, DMG...</td>\n",
       "      <td>86.0</td>\n",
       "      <td>63.0</td>\n",
       "    </tr>\n",
       "    <tr>\n",
       "      <th>1</th>\n",
       "      <td>1</td>\n",
       "      <td>Fernsehserie nach Staat</td>\n",
       "      <td>518</td>\n",
       "      <td>Achtung: Streng geheim! (Originaltitel: Missio...</td>\n",
       "      <td>455.0</td>\n",
       "      <td>297.0</td>\n",
       "    </tr>\n",
       "    <tr>\n",
       "      <th>2</th>\n",
       "      <td>2</td>\n",
       "      <td>Fernsehserie nach Staat</td>\n",
       "      <td>877</td>\n",
       "      <td>Alien Surfgirls ist eine australische Jugendse...</td>\n",
       "      <td>775.0</td>\n",
       "      <td>395.0</td>\n",
       "    </tr>\n",
       "    <tr>\n",
       "      <th>3</th>\n",
       "      <td>3</td>\n",
       "      <td>Fernsehserie nach Staat</td>\n",
       "      <td>1199</td>\n",
       "      <td>All Saints ist eine australische Fernsehserie ...</td>\n",
       "      <td>1094.0</td>\n",
       "      <td>527.0</td>\n",
       "    </tr>\n",
       "    <tr>\n",
       "      <th>4</th>\n",
       "      <td>4</td>\n",
       "      <td>Fernsehserie nach Staat</td>\n",
       "      <td>142</td>\n",
       "      <td>Alle lieben Diggy ist eine australische Zeiche...</td>\n",
       "      <td>128.0</td>\n",
       "      <td>104.0</td>\n",
       "    </tr>\n",
       "  </tbody>\n",
       "</table>\n",
       "</div>"
      ],
      "text/plain": [
       "   id                 category  length  \\\n",
       "0   0  Fernsehserie nach Staat     107   \n",
       "1   1  Fernsehserie nach Staat     518   \n",
       "2   2  Fernsehserie nach Staat     877   \n",
       "3   3  Fernsehserie nach Staat    1199   \n",
       "4   4  Fernsehserie nach Staat     142   \n",
       "\n",
       "                                                text  number_of_tokens  \\\n",
       "0  Tāmar und Schawqīya (arabisch تامر وشوقية, DMG...              86.0   \n",
       "1  Achtung: Streng geheim! (Originaltitel: Missio...             455.0   \n",
       "2  Alien Surfgirls ist eine australische Jugendse...             775.0   \n",
       "3  All Saints ist eine australische Fernsehserie ...            1094.0   \n",
       "4  Alle lieben Diggy ist eine australische Zeiche...             128.0   \n",
       "\n",
       "   number_of_types  \n",
       "0             63.0  \n",
       "1            297.0  \n",
       "2            395.0  \n",
       "3            527.0  \n",
       "4            104.0  "
      ]
     },
     "execution_count": 13,
     "metadata": {},
     "output_type": "execute_result"
    }
   ],
   "source": [
    "data.head(5)"
   ]
  },
  {
   "cell_type": "code",
   "execution_count": 14,
   "id": "bd8c83e1",
   "metadata": {},
   "outputs": [
    {
     "name": "stdout",
     "output_type": "stream",
     "text": [
      "30\n"
     ]
    }
   ],
   "source": [
    "datas = np.unique(data.category)\n",
    "print(len(np.unique(data.category)))\n",
    "# np.unique(songs.decades)"
   ]
  },
  {
   "cell_type": "code",
   "execution_count": 15,
   "id": "28a9e6a8",
   "metadata": {},
   "outputs": [],
   "source": [
    "mean ={}\n",
    "for a in datas:\n",
    "    mean[a] = int(np.mean(data.number_of_tokens[data.category==a]))"
   ]
  },
  {
   "cell_type": "code",
   "execution_count": 16,
   "id": "dd338535",
   "metadata": {},
   "outputs": [
    {
     "name": "stderr",
     "output_type": "stream",
     "text": [
      "/usr/local/lib/python3.9/site-packages/seaborn/distributions.py:2619: FutureWarning: `distplot` is a deprecated function and will be removed in a future version. Please adapt your code to use either `displot` (a figure-level function with similar flexibility) or `histplot` (an axes-level function for histograms).\n",
      "  warnings.warn(msg, FutureWarning)\n",
      "/usr/local/lib/python3.9/site-packages/seaborn/distributions.py:2103: FutureWarning: The `axis` variable is no longer used and will be removed. Instead, assign variables directly to `x` or `y`.\n",
      "  warnings.warn(msg, FutureWarning)\n"
     ]
    },
    {
     "data": {
      "image/png": "[encoded data removed]",
      "text/plain": [
       "<Figure size 432x288 with 1 Axes>"
      ]
     },
     "metadata": {
      "needs_background": "light"
     },
     "output_type": "display_data"
    }
   ],
   "source": [
    "ax = sns.distplot(list(mean.values()), rug=True, kde=False)\n",
    "ax.set_xlabel(\"text length\")\n",
    "ax.set_ylabel(\"occurence\")\n",
    "ax.set_title(\"Distribution of textlength\")\n",
    "#plt.savefig(\"../../images/Bilder_Abschlusspräsi/preprocessing/songlength_alterdatensatz\")\n",
    "plt.show()"
   ]
  },
  {
   "cell_type": "markdown",
   "id": "f7bd9fa2",
   "metadata": {},
   "source": [
    "# Bearbeitung der Labels\n"
   ]
  },
  {
   "cell_type": "code",
   "execution_count": 7,
   "id": "262475aa",
   "metadata": {},
   "outputs": [
    {
     "name": "stdout",
     "output_type": "stream",
     "text": [
      "        id  category  length  \\\n",
      "0        0         1     107   \n",
      "1        1         1     518   \n",
      "2        2         1     877   \n",
      "3        3         1    1199   \n",
      "4        4         1     142   \n",
      "...    ...       ...     ...   \n",
      "6937  6937        25     102   \n",
      "6938  6938        25     202   \n",
      "6939  6939        25    2275   \n",
      "6940  6940        25     516   \n",
      "6941  6941        25     401   \n",
      "\n",
      "                                                   text  \n",
      "0     Tāmar und Schawqīya (arabisch تامر وشوقية, DMG...  \n",
      "1     Achtung: Streng geheim! (Originaltitel: Missio...  \n",
      "2     Alien Surfgirls ist eine australische Jugendse...  \n",
      "3     All Saints ist eine australische Fernsehserie ...  \n",
      "4     Alle lieben Diggy ist eine australische Zeiche...  \n",
      "...                                                 ...  \n",
      "6937  Weiche Daten ist eine wörtliche Lehnübersetzun...  \n",
      "6938  Als Wertermittlungsgebühr wird in Deutschland ...  \n",
      "6939  In Deutschland beschreibt der Begriff Widerruf...  \n",
      "6940  Das Zahlungsdiensteaufsichtsgesetz (ZAG) regel...  \n",
      "6941  Zahlungsort ist im Schuldrecht der Ort, an dem...  \n",
      "\n",
      "[6942 rows x 4 columns]\n"
     ]
    }
   ],
   "source": [
    "data[\"category\"].replace({\"Wirtschaft\": 3, \"Chemikaliengruppe\": 4, \"Oper\": 5, \"Literaturwissenschaft\": 6, \n",
    "                          \"Logik\": 7, \"Western\": 8, \"Film nach Staat\": 9, \"See in Deutschland\": 10,\n",
    "                          \"Burg in Deutschland\": 11, \"Herrscher nach Titel\": 12,\"Deutsche Vereine nach Bundesland\": 13, \n",
    "                          \"Computerspiel nach Plattform\": 14, \"Kostümkunde\": 15, \"Krankheit\": 16, \"Krieg nach Typ\": 17, \n",
    "                          \"Literatur (Romantik)\": 18, \"Album nach Typ\": 19, \"Gemälde nach Jahrhundert\": 20,\n",
    "                          \"Soziologie\": 21, \"Wald\": 22, \"Kunst (Deutschland)\": 23, \"Planung und Organisation\": 24,\n",
    "                          \"Kreditgeschäft\": 25, \"PKW-Modell\": 26, \"Alternative-Rock-Band\": 27, \"Einzelsprache\": 28,\n",
    "                          \"Millionenstadt\": 29, \"Frauenfußball\": 30}, inplace=True)\n",
    "print(data)"
   ]
  },
  {
   "cell_type": "code",
   "execution_count": 8,
   "id": "4baa63af",
   "metadata": {},
   "outputs": [
    {
     "data": {
      "text/html": [
       "<div>\n",
       "<style scoped>\n",
       "    .dataframe tbody tr th:only-of-type {\n",
       "        vertical-align: middle;\n",
       "    }\n",
       "\n",
       "    .dataframe tbody tr th {\n",
       "        vertical-align: top;\n",
       "    }\n",
       "\n",
       "    .dataframe thead th {\n",
       "        text-align: right;\n",
       "    }\n",
       "</style>\n",
       "<table border=\"1\" class=\"dataframe\">\n",
       "  <thead>\n",
       "    <tr style=\"text-align: right;\">\n",
       "      <th></th>\n",
       "      <th>id</th>\n",
       "      <th>category</th>\n",
       "      <th>length</th>\n",
       "      <th>text</th>\n",
       "    </tr>\n",
       "  </thead>\n",
       "  <tbody>\n",
       "    <tr>\n",
       "      <th>0</th>\n",
       "      <td>0</td>\n",
       "      <td>1</td>\n",
       "      <td>107</td>\n",
       "      <td>Tāmar und Schawqīya (arabisch تامر وشوقية, DMG...</td>\n",
       "    </tr>\n",
       "    <tr>\n",
       "      <th>1</th>\n",
       "      <td>1</td>\n",
       "      <td>1</td>\n",
       "      <td>518</td>\n",
       "      <td>Achtung: Streng geheim! (Originaltitel: Missio...</td>\n",
       "    </tr>\n",
       "    <tr>\n",
       "      <th>2</th>\n",
       "      <td>2</td>\n",
       "      <td>1</td>\n",
       "      <td>877</td>\n",
       "      <td>Alien Surfgirls ist eine australische Jugendse...</td>\n",
       "    </tr>\n",
       "    <tr>\n",
       "      <th>3</th>\n",
       "      <td>3</td>\n",
       "      <td>1</td>\n",
       "      <td>1199</td>\n",
       "      <td>All Saints ist eine australische Fernsehserie ...</td>\n",
       "    </tr>\n",
       "    <tr>\n",
       "      <th>4</th>\n",
       "      <td>4</td>\n",
       "      <td>1</td>\n",
       "      <td>142</td>\n",
       "      <td>Alle lieben Diggy ist eine australische Zeiche...</td>\n",
       "    </tr>\n",
       "  </tbody>\n",
       "</table>\n",
       "</div>"
      ],
      "text/plain": [
       "   id  category  length                                               text\n",
       "0   0         1     107  Tāmar und Schawqīya (arabisch تامر وشوقية, DMG...\n",
       "1   1         1     518  Achtung: Streng geheim! (Originaltitel: Missio...\n",
       "2   2         1     877  Alien Surfgirls ist eine australische Jugendse...\n",
       "3   3         1    1199  All Saints ist eine australische Fernsehserie ...\n",
       "4   4         1     142  Alle lieben Diggy ist eine australische Zeiche..."
      ]
     },
     "execution_count": 8,
     "metadata": {},
     "output_type": "execute_result"
    }
   ],
   "source": [
    "data.head(5)"
   ]
  },
  {
   "cell_type": "code",
   "execution_count": 9,
   "id": "99f427a5",
   "metadata": {},
   "outputs": [
    {
     "data": {
      "text/plain": [
       "array([ 1,  2,  3,  4,  5,  6,  7,  8,  9, 10, 11, 12, 13, 18, 14, 15, 16,\n",
       "       17, 19, 20, 21, 22, 23, 24, 25, 26, 27, 28, 29, 30])"
      ]
     },
     "execution_count": 9,
     "metadata": {},
     "output_type": "execute_result"
    }
   ],
   "source": [
    "data['category'].unique()"
   ]
  },
  {
   "cell_type": "code",
   "execution_count": 10,
   "id": "466ceb41",
   "metadata": {},
   "outputs": [],
   "source": [
    "data.to_csv('../1_Bert/Fine_Tuning/wikicorpus2.csv', index=False)"
   ]
  },
  {
   "cell_type": "code",
   "execution_count": 12,
   "id": "4d7213eb",
   "metadata": {},
   "outputs": [],
   "source": [
    "test = pd.read_csv('../1_Bert/Fine_Tuning/data/wikicorpus2.csv')"
   ]
  },
  {
   "cell_type": "code",
   "execution_count": 13,
   "id": "598c2b91",
   "metadata": {},
   "outputs": [
    {
     "data": {
      "text/html": [
       "<div>\n",
       "<style scoped>\n",
       "    .dataframe tbody tr th:only-of-type {\n",
       "        vertical-align: middle;\n",
       "    }\n",
       "\n",
       "    .dataframe tbody tr th {\n",
       "        vertical-align: top;\n",
       "    }\n",
       "\n",
       "    .dataframe thead th {\n",
       "        text-align: right;\n",
       "    }\n",
       "</style>\n",
       "<table border=\"1\" class=\"dataframe\">\n",
       "  <thead>\n",
       "    <tr style=\"text-align: right;\">\n",
       "      <th></th>\n",
       "      <th>id</th>\n",
       "      <th>category</th>\n",
       "      <th>length</th>\n",
       "      <th>text</th>\n",
       "    </tr>\n",
       "  </thead>\n",
       "  <tbody>\n",
       "    <tr>\n",
       "      <th>0</th>\n",
       "      <td>0</td>\n",
       "      <td>1</td>\n",
       "      <td>107</td>\n",
       "      <td>Tāmar und Schawqīya (arabisch تامر وشوقية, DMG...</td>\n",
       "    </tr>\n",
       "    <tr>\n",
       "      <th>1</th>\n",
       "      <td>1</td>\n",
       "      <td>1</td>\n",
       "      <td>518</td>\n",
       "      <td>Achtung: Streng geheim! (Originaltitel: Missio...</td>\n",
       "    </tr>\n",
       "    <tr>\n",
       "      <th>2</th>\n",
       "      <td>2</td>\n",
       "      <td>1</td>\n",
       "      <td>877</td>\n",
       "      <td>Alien Surfgirls ist eine australische Jugendse...</td>\n",
       "    </tr>\n",
       "    <tr>\n",
       "      <th>3</th>\n",
       "      <td>3</td>\n",
       "      <td>1</td>\n",
       "      <td>1199</td>\n",
       "      <td>All Saints ist eine australische Fernsehserie ...</td>\n",
       "    </tr>\n",
       "    <tr>\n",
       "      <th>4</th>\n",
       "      <td>4</td>\n",
       "      <td>1</td>\n",
       "      <td>142</td>\n",
       "      <td>Alle lieben Diggy ist eine australische Zeiche...</td>\n",
       "    </tr>\n",
       "  </tbody>\n",
       "</table>\n",
       "</div>"
      ],
      "text/plain": [
       "   id  category  length                                               text\n",
       "0   0         1     107  Tāmar und Schawqīya (arabisch تامر وشوقية, DMG...\n",
       "1   1         1     518  Achtung: Streng geheim! (Originaltitel: Missio...\n",
       "2   2         1     877  Alien Surfgirls ist eine australische Jugendse...\n",
       "3   3         1    1199  All Saints ist eine australische Fernsehserie ...\n",
       "4   4         1     142  Alle lieben Diggy ist eine australische Zeiche..."
      ]
     },
     "execution_count": 13,
     "metadata": {},
     "output_type": "execute_result"
    }
   ],
   "source": [
    "test.head(5)"
   ]
  },
  {
   "cell_type": "code",
   "execution_count": null,
   "id": "6bca25a9",
   "metadata": {},
   "outputs": [],
   "source": []
  }
 ],
 "metadata": {
  "kernelspec": {
   "display_name": "Python 3 (ipykernel)",
   "language": "python",
   "name": "python3"
  },
  "language_info": {
   "codemirror_mode": {
    "name": "ipython",
    "version": 3
   },
   "file_extension": ".py",
   "mimetype": "text/x-python",
   "name": "python",
   "nbconvert_exporter": "python",
   "pygments_lexer": "ipython3",
   "version": "3.9.10"
  },
  "toc": {
   "base_numbering": 1,
   "nav_menu": {},
   "number_sections": true,
   "sideBar": true,
   "skip_h1_title": false,
   "title_cell": "Table of Contents",
   "title_sidebar": "Contents",
   "toc_cell": false,
   "toc_position": {},
   "toc_section_display": true,
   "toc_window_display": true
  },
  "varInspector": {
   "cols": {
    "lenName": 16,
    "lenType": 16,
    "lenVar": 40
   },
   "kernels_config": {
    "python": {
     "delete_cmd_postfix": "",
     "delete_cmd_prefix": "del ",
     "library": "var_list.py",
     "varRefreshCmd": "print(var_dic_list())"
    },
    "r": {
     "delete_cmd_postfix": ") ",
     "delete_cmd_prefix": "rm(",
     "library": "var_list.r",
     "varRefreshCmd": "cat(var_dic_list()) "
    }
   },
   "types_to_exclude": [
    "module",
    "function",
    "builtin_function_or_method",
    "instance",
    "_Feature"
   ],
   "window_display": false
  }
 },
 "nbformat": 4,
 "nbformat_minor": 5
}
