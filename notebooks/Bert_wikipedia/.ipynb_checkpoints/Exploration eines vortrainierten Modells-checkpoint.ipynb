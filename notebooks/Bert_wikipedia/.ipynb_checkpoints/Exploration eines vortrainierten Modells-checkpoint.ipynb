{
 "cells": [
  {
   "cell_type": "markdown",
   "id": "01891ae4",
   "metadata": {},
   "source": [
    "# Imports"
   ]
  },
  {
   "cell_type": "code",
   "execution_count": 1,
   "id": "c6e51294",
   "metadata": {},
   "outputs": [],
   "source": [
    "import torch\n",
    "from pytorch_pretrained_bert import BertTokenizer"
   ]
  },
  {
   "cell_type": "code",
   "execution_count": 2,
   "id": "f589ed70",
   "metadata": {},
   "outputs": [
    {
     "data": {
      "text/plain": [
       "<pytorch_pretrained_bert.tokenization.BertTokenizer at 0x11499eb50>"
      ]
     },
     "execution_count": 2,
     "metadata": {},
     "output_type": "execute_result"
    }
   ],
   "source": [
    "#Vortrainiertes Modell Tokenizer laden (Vokabular) \n",
    "\n",
    "tokenizer = BertTokenizer.from_pretrained('bert-base-uncased') \n",
    "tokenizer"
   ]
  },
  {
   "cell_type": "markdown",
   "id": "70f25e8a",
   "metadata": {},
   "source": [
    "# Inspect Bert Vocabulary"
   ]
  },
  {
   "cell_type": "markdown",
   "id": "38522e50",
   "metadata": {},
   "source": [
    "## Vocab Dump"
   ]
  },
  {
   "cell_type": "markdown",
   "id": "808d34e3",
   "metadata": {},
   "source": [
    "Ruft die gesamte Liste der \"Token\" ab und schreibt diese in Textdateien, damit sie durchgesehen werden können."
   ]
  },
  {
   "cell_type": "code",
   "execution_count": 3,
   "id": "c273eb95",
   "metadata": {},
   "outputs": [],
   "source": [
    "with open(\"vocabulary.txt\", 'w') as f:\n",
    "    \n",
    "    # For each token...\n",
    "    for token in tokenizer.vocab.keys():\n",
    "        \n",
    "        # Write it out and escape any unicode characters.            \n",
    "        f.write(token + '\\n')"
   ]
  },
  {
   "cell_type": "markdown",
   "id": "bb21714c",
   "metadata": {},
   "source": [
    "Wenn ich mir das Vokabular ansehe, sehe ich das:\n",
    "Die ersten 999 Token (1-indiziert) scheinen reserviert zu sein, und die meisten haben die Form [unused957].\n",
    "1 - [PAD]\n",
    "101 - [UNK]\n",
    "102 - [CLS]\n",
    "103 - [SEP]\n",
    "104 - [MASK]\n",
    "Die Zeilen 1000-1996 scheinen ein Dump von einzelnen Zeichen zu sein.\n",
    "Sie scheinen nicht nach Häufigkeit sortiert zu sein (z. B. sind die Buchstaben des Alphabets alle aufeinanderfolgend).\n",
    "Das erste Wort ist \"the\" an Position 1997.\n",
    "Von da an scheinen die Wörter nach Häufigkeit sortiert zu sein.\n",
    "Die ersten ~18 Wörter sind ganze Wörter, und Nummer 2016 ist ##s, vermutlich das häufigste Teilwort.\n",
    "Das letzte ganze Wort befindet sich auf Platz 29612, \"necessitated\".\n",
    "Einige lustige Einschlüsse:\n",
    "Starbucks\n",
    "triassisch\n",
    "Abolitionist\n",
    "1679"
   ]
  },
  {
   "cell_type": "markdown",
   "id": "4c6f11da",
   "metadata": {},
   "source": [
    "## Einzelne Zeichen"
   ]
  },
  {
   "cell_type": "markdown",
   "id": "c1ede20b",
   "metadata": {},
   "source": [
    "Der folgende Code gibt alle Einzelzeichen im Vokabular aus, sowie alle Einzelzeichen mit vorangestelltem \"##\".\n",
    "Es stellt sich heraus, dass es sich um übereinstimmende Mengen handelt - für jedes einzelne Zeichen gibt es auch eine '##'-Version. Es gibt 997 Einzelzeichen-Token.\n",
    "Die folgende Zelle iteriert über das Vokabular und zieht alle Einzelzeichen heraus."
   ]
  },
  {
   "cell_type": "code",
   "execution_count": 5,
   "id": "aab2854c",
   "metadata": {},
   "outputs": [],
   "source": [
    "one_chars = []\n",
    "one_chars_hashes = []\n",
    "\n",
    "# For each token in the vocabulary...\n",
    "for token in tokenizer.vocab.keys():\n",
    "    \n",
    "    # Record any single-character tokens.\n",
    "    if len(token) == 1:\n",
    "        one_chars.append(token)\n",
    "    \n",
    "    # Record single-character tokens preceded by the two hashes.    \n",
    "    elif len(token) == 3 and token[0:2] == '##':\n",
    "        one_chars_hashes.append(token)"
   ]
  },
  {
   "cell_type": "code",
   "execution_count": 6,
   "id": "8e4e503e",
   "metadata": {},
   "outputs": [
    {
     "name": "stdout",
     "output_type": "stream",
     "text": [
      "Number of single character tokens: 997 \n",
      "\n",
      "! \" # $ % & ' ( ) * + , - . / 0 1 2 3 4 5 6 7 8 9 : ; < = > ? @ [ \\ ] ^ _ ` a b\n",
      "c d e f g h i j k l m n o p q r s t u v w x y z { | } ~ ¡ ¢ £ ¤ ¥ ¦ § ¨ © ª « ¬\n",
      "® ° ± ² ³ ´ µ ¶ · ¹ º » ¼ ½ ¾ ¿ × ß æ ð ÷ ø þ đ ħ ı ł ŋ œ ƒ ɐ ɑ ɒ ɔ ɕ ə ɛ ɡ ɣ ɨ\n",
      "ɪ ɫ ɬ ɯ ɲ ɴ ɹ ɾ ʀ ʁ ʂ ʃ ʉ ʊ ʋ ʌ ʎ ʐ ʑ ʒ ʔ ʰ ʲ ʳ ʷ ʸ ʻ ʼ ʾ ʿ ˈ ː ˡ ˢ ˣ ˤ α β γ δ\n",
      "ε ζ η θ ι κ λ μ ν ξ ο π ρ ς σ τ υ φ χ ψ ω а б в г д е ж з и к л м н о п р с т у\n",
      "ф х ц ч ш щ ъ ы ь э ю я ђ є і ј љ њ ћ ӏ ա բ գ դ ե թ ի լ կ հ մ յ ն ո պ ս վ տ ր ւ\n",
      "ք ־ א ב ג ד ה ו ז ח ט י ך כ ל ם מ ן נ ס ע ף פ ץ צ ק ר ש ת ، ء ا ب ة ت ث ج ح خ د\n",
      "ذ ر ز س ش ص ض ط ظ ع غ ـ ف ق ك ل م ن ه و ى ي ٹ پ چ ک گ ں ھ ہ ی ے अ आ उ ए क ख ग च\n",
      "ज ट ड ण त थ द ध न प ब भ म य र ल व श ष स ह ा ि ी ो । ॥ ং অ আ ই উ এ ও ক খ গ চ ছ জ\n",
      "ট ড ণ ত থ দ ধ ন প ব ভ ম য র ল শ ষ স হ া ি ী ে க ச ட த ந ன ப ம ய ர ல ள வ ா ி ு ே\n",
      "ை ನ ರ ಾ ක ය ර ල ව ා ก ง ต ท น พ ม ย ร ล ว ส อ า เ ་ ། ག ང ད ན པ བ མ འ ར ལ ས မ ა\n",
      "ბ გ დ ე ვ თ ი კ ლ მ ნ ო რ ს ტ უ ᄀ ᄂ ᄃ ᄅ ᄆ ᄇ ᄉ ᄊ ᄋ ᄌ ᄎ ᄏ ᄐ ᄑ ᄒ ᅡ ᅢ ᅥ ᅦ ᅧ ᅩ ᅪ ᅭ ᅮ\n",
      "ᅯ ᅲ ᅳ ᅴ ᅵ ᆨ ᆫ ᆯ ᆷ ᆸ ᆼ ᴬ ᴮ ᴰ ᴵ ᴺ ᵀ ᵃ ᵇ ᵈ ᵉ ᵍ ᵏ ᵐ ᵒ ᵖ ᵗ ᵘ ᵢ ᵣ ᵤ ᵥ ᶜ ᶠ ‐ ‑ ‒ – — ―\n",
      "‖ ‘ ’ ‚ “ ” „ † ‡ • … ‰ ′ ″ › ‿ ⁄ ⁰ ⁱ ⁴ ⁵ ⁶ ⁷ ⁸ ⁹ ⁺ ⁻ ⁿ ₀ ₁ ₂ ₃ ₄ ₅ ₆ ₇ ₈ ₉ ₊ ₍\n",
      "₎ ₐ ₑ ₒ ₓ ₕ ₖ ₗ ₘ ₙ ₚ ₛ ₜ ₤ ₩ € ₱ ₹ ℓ № ℝ ™ ⅓ ⅔ ← ↑ → ↓ ↔ ↦ ⇄ ⇌ ⇒ ∂ ∅ ∆ ∇ ∈ − ∗\n",
      "∘ √ ∞ ∧ ∨ ∩ ∪ ≈ ≡ ≤ ≥ ⊂ ⊆ ⊕ ⊗ ⋅ ─ │ ■ ▪ ● ★ ☆ ☉ ♠ ♣ ♥ ♦ ♭ ♯ ⟨ ⟩ ⱼ ⺩ ⺼ ⽥ 、 。 〈 〉\n",
      "《 》 「 」 『 』 〜 あ い う え お か き く け こ さ し す せ そ た ち っ つ て と な に ぬ ね の は ひ ふ へ ほ ま み\n",
      "む め も や ゆ よ ら り る れ ろ を ん ァ ア ィ イ ウ ェ エ オ カ キ ク ケ コ サ シ ス セ タ チ ッ ツ テ ト ナ ニ ノ ハ\n",
      "ヒ フ ヘ ホ マ ミ ム メ モ ャ ュ ョ ラ リ ル レ ロ ワ ン ・ ー 一 三 上 下 不 世 中 主 久 之 也 事 二 五 井 京 人 亻 仁\n",
      "介 代 仮 伊 会 佐 侍 保 信 健 元 光 八 公 内 出 分 前 劉 力 加 勝 北 区 十 千 南 博 原 口 古 史 司 合 吉 同 名 和 囗 四\n",
      "国 國 土 地 坂 城 堂 場 士 夏 外 大 天 太 夫 奈 女 子 学 宀 宇 安 宗 定 宣 宮 家 宿 寺 將 小 尚 山 岡 島 崎 川 州 巿 帝\n",
      "平 年 幸 广 弘 張 彳 後 御 德 心 忄 志 忠 愛 成 我 戦 戸 手 扌 政 文 新 方 日 明 星 春 昭 智 曲 書 月 有 朝 木 本 李 村\n",
      "東 松 林 森 楊 樹 橋 歌 止 正 武 比 氏 民 水 氵 氷 永 江 沢 河 治 法 海 清 漢 瀬 火 版 犬 王 生 田 男 疒 発 白 的 皇 目\n",
      "相 省 真 石 示 社 神 福 禾 秀 秋 空 立 章 竹 糹 美 義 耳 良 艹 花 英 華 葉 藤 行 街 西 見 訁 語 谷 貝 貴 車 軍 辶 道 郎\n",
      "郡 部 都 里 野 金 鈴 镇 長 門 間 阝 阿 陳 陽 雄 青 面 風 食 香 馬 高 龍 龸 ﬁ ﬂ ！ （ ） ， － ． ／ ： ？ ～\n"
     ]
    }
   ],
   "source": [
    "print('Number of single character tokens:', len(one_chars), '\\n')\n",
    "\n",
    "# Print all of the single characters, 40 per row.\n",
    "\n",
    "# For every batch of 40 tokens...\n",
    "for i in range(0, len(one_chars), 40):\n",
    "    \n",
    "    # Limit the end index so we don't go past the end of the list.\n",
    "    end = min(i + 40, len(one_chars) + 1)\n",
    "    \n",
    "    # Print out the tokens, separated by a space.\n",
    "    print(' '.join(one_chars[i:end]))"
   ]
  },
  {
   "cell_type": "code",
   "execution_count": 7,
   "id": "6a1a300e",
   "metadata": {},
   "outputs": [
    {
     "name": "stdout",
     "output_type": "stream",
     "text": [
      "Number of single character tokens with hashes: 997 \n",
      "\n",
      "s a e i n o d r y t l m u h k c g p 2 z 1 b 3 f 4 6 7 x v 8 5 9 0 w j q ° ₂ а и\n",
      "² ₃ ı ₁ ⁺ ½ о ه ي α е د ن ν ø р ₄ ₀ ر я ³ ι ł н ᵢ ₙ ß ة ς م − т ː ل ь к ♭ η ی в\n",
      "ا × ¹ ы ה ɛ л ! \" # $ % & ' ( ) * + , - . / : ; < = > ? @ [ \\ ] ^ _ ` { | } ~ ¡\n",
      "¢ £ ¤ ¥ ¦ § ¨ © ª « ¬ ® ± ´ µ ¶ · º » ¼ ¾ ¿ æ ð ÷ þ đ ħ ŋ œ ƒ ɐ ɑ ɒ ɔ ɕ ə ɡ ɣ ɨ\n",
      "ɪ ɫ ɬ ɯ ɲ ɴ ɹ ɾ ʀ ʁ ʂ ʃ ʉ ʊ ʋ ʌ ʎ ʐ ʑ ʒ ʔ ʰ ʲ ʳ ʷ ʸ ʻ ʼ ʾ ʿ ˈ ˡ ˢ ˣ ˤ β γ δ ε ζ\n",
      "θ κ λ μ ξ ο π ρ σ τ υ φ χ ψ ω б г д ж з м п с у ф х ц ч ш щ ъ э ю ђ є і ј љ њ ћ\n",
      "ӏ ա բ գ դ ե թ ի լ կ հ մ յ ն ո պ ս վ տ ր ւ ք ־ א ב ג ד ו ז ח ט י ך כ ל ם מ ן נ ס\n",
      "ע ף פ ץ צ ק ר ש ת ، ء ب ت ث ج ح خ ذ ز س ش ص ض ط ظ ع غ ـ ف ق ك و ى ٹ پ چ ک گ ں ھ\n",
      "ہ ے अ आ उ ए क ख ग च ज ट ड ण त थ द ध न प ब भ म य र ल व श ष स ह ा ि ी ो । ॥ ং অ আ\n",
      "ই উ এ ও ক খ গ চ ছ জ ট ড ণ ত থ দ ধ ন প ব ভ ম য র ল শ ষ স হ া ি ী ে க ச ட த ந ன ப\n",
      "ம ய ர ல ள வ ா ி ு ே ை ನ ರ ಾ ක ය ර ල ව ා ก ง ต ท น พ ม ย ร ล ว ส อ า เ ་ ། ག ང ད\n",
      "ན པ བ མ འ ར ལ ས မ ა ბ გ დ ე ვ თ ი კ ლ მ ნ ო რ ს ტ უ ᄀ ᄂ ᄃ ᄅ ᄆ ᄇ ᄉ ᄊ ᄋ ᄌ ᄎ ᄏ ᄐ ᄑ\n",
      "ᄒ ᅡ ᅢ ᅥ ᅦ ᅧ ᅩ ᅪ ᅭ ᅮ ᅯ ᅲ ᅳ ᅴ ᅵ ᆨ ᆫ ᆯ ᆷ ᆸ ᆼ ᴬ ᴮ ᴰ ᴵ ᴺ ᵀ ᵃ ᵇ ᵈ ᵉ ᵍ ᵏ ᵐ ᵒ ᵖ ᵗ ᵘ ᵣ ᵤ\n",
      "ᵥ ᶜ ᶠ ‐ ‑ ‒ – — ― ‖ ‘ ’ ‚ “ ” „ † ‡ • … ‰ ′ ″ › ‿ ⁄ ⁰ ⁱ ⁴ ⁵ ⁶ ⁷ ⁸ ⁹ ⁻ ⁿ ₅ ₆ ₇ ₈\n",
      "₉ ₊ ₍ ₎ ₐ ₑ ₒ ₓ ₕ ₖ ₗ ₘ ₚ ₛ ₜ ₤ ₩ € ₱ ₹ ℓ № ℝ ™ ⅓ ⅔ ← ↑ → ↓ ↔ ↦ ⇄ ⇌ ⇒ ∂ ∅ ∆ ∇ ∈\n",
      "∗ ∘ √ ∞ ∧ ∨ ∩ ∪ ≈ ≡ ≤ ≥ ⊂ ⊆ ⊕ ⊗ ⋅ ─ │ ■ ▪ ● ★ ☆ ☉ ♠ ♣ ♥ ♦ ♯ ⟨ ⟩ ⱼ ⺩ ⺼ ⽥ 、 。 〈 〉\n",
      "《 》 「 」 『 』 〜 あ い う え お か き く け こ さ し す せ そ た ち っ つ て と な に ぬ ね の は ひ ふ へ ほ ま み\n",
      "む め も や ゆ よ ら り る れ ろ を ん ァ ア ィ イ ウ ェ エ オ カ キ ク ケ コ サ シ ス セ タ チ ッ ツ テ ト ナ ニ ノ ハ\n",
      "ヒ フ ヘ ホ マ ミ ム メ モ ャ ュ ョ ラ リ ル レ ロ ワ ン ・ ー 一 三 上 下 不 世 中 主 久 之 也 事 二 五 井 京 人 亻 仁\n",
      "介 代 仮 伊 会 佐 侍 保 信 健 元 光 八 公 内 出 分 前 劉 力 加 勝 北 区 十 千 南 博 原 口 古 史 司 合 吉 同 名 和 囗 四\n",
      "国 國 土 地 坂 城 堂 場 士 夏 外 大 天 太 夫 奈 女 子 学 宀 宇 安 宗 定 宣 宮 家 宿 寺 將 小 尚 山 岡 島 崎 川 州 巿 帝\n",
      "平 年 幸 广 弘 張 彳 後 御 德 心 忄 志 忠 愛 成 我 戦 戸 手 扌 政 文 新 方 日 明 星 春 昭 智 曲 書 月 有 朝 木 本 李 村\n",
      "東 松 林 森 楊 樹 橋 歌 止 正 武 比 氏 民 水 氵 氷 永 江 沢 河 治 法 海 清 漢 瀬 火 版 犬 王 生 田 男 疒 発 白 的 皇 目\n",
      "相 省 真 石 示 社 神 福 禾 秀 秋 空 立 章 竹 糹 美 義 耳 良 艹 花 英 華 葉 藤 行 街 西 見 訁 語 谷 貝 貴 車 軍 辶 道 郎\n",
      "郡 部 都 里 野 金 鈴 镇 長 門 間 阝 阿 陳 陽 雄 青 面 風 食 香 馬 高 龍 龸 ﬁ ﬂ ！ （ ） ， － ． ／ ： ？ ～\n"
     ]
    }
   ],
   "source": [
    "print('Number of single character tokens with hashes:', len(one_chars_hashes), '\\n')\n",
    "\n",
    "# Print all of the single characters, 40 per row.\n",
    "\n",
    "# Strip the hash marks, since they just clutter the display.\n",
    "tokens = [token.replace('##', '') for token in one_chars_hashes]\n",
    "\n",
    "# For every batch of 40 tokens...\n",
    "for i in range(0, len(tokens), 40):\n",
    "    \n",
    "    # Limit the end index so we don't go past the end of the list.\n",
    "    end = min(i + 40, len(tokens) + 1)\n",
    "    \n",
    "    # Print out the tokens, separated by a space.\n",
    "    print(' '.join(tokens[i:end]))"
   ]
  },
  {
   "cell_type": "code",
   "execution_count": 8,
   "id": "16fd244c",
   "metadata": {},
   "outputs": [
    {
     "name": "stdout",
     "output_type": "stream",
     "text": [
      "Are the two sets identical? True\n"
     ]
    }
   ],
   "source": [
    "print('Are the two sets identical?', set(one_chars) == set(tokens))"
   ]
  },
  {
   "cell_type": "markdown",
   "id": "ef41a573",
   "metadata": {},
   "source": [
    "## Teilwörter vs. Ganze Wörter"
   ]
  },
  {
   "cell_type": "markdown",
   "id": "21e65004",
   "metadata": {},
   "source": [
    "Lassen Sie uns einige statistische Daten zum Wortschatz sammeln."
   ]
  },
  {
   "cell_type": "code",
   "execution_count": 14,
   "id": "5641ebec",
   "metadata": {},
   "outputs": [
    {
     "name": "stderr",
     "output_type": "stream",
     "text": [
      "/usr/local/lib/python3.9/site-packages/seaborn/_decorators.py:36: FutureWarning: Pass the following variable as a keyword arg: x. From version 0.12, the only valid positional argument will be `data`, and passing other arguments without an explicit keyword will result in an error or misinterpretation.\n",
      "  warnings.warn(\n"
     ]
    },
    {
     "name": "stdout",
     "output_type": "stream",
     "text": [
      "Maximum token length: 18\n"
     ]
    },
    {
     "data": {
      "image/png": "[encoded data removed]",
      "text/plain": [
       "<Figure size 720x360 with 1 Axes>"
      ]
     },
     "metadata": {},
     "output_type": "display_data"
    }
   ],
   "source": [
    "import matplotlib.pyplot as plt\n",
    "import seaborn as sns\n",
    "import numpy as np\n",
    "\n",
    "sns.set(style='darkgrid')\n",
    "\n",
    "# Vergrößert den Plot und die Schriftgröße.\n",
    "sns.set(font_scale=1.5)\n",
    "plt.rcParams[\"figure.figsize\"] = (10,5)\n",
    "\n",
    "# Messen der Länge jedes Tokens im Vokabular.\n",
    "token_lengths = [len(token) for token in tokenizer.vocab.keys()]\n",
    "\n",
    "# Darstellung der Anzahl der Token jeder Länge.\n",
    "sns.countplot(token_lengths)\n",
    "plt.title('Vocab Token Lengths')\n",
    "plt.xlabel('Token Length')\n",
    "plt.ylabel('# of Tokens')\n",
    "\n",
    "print('Maximum token length:', max(token_lengths))"
   ]
  },
  {
   "cell_type": "markdown",
   "id": "18b55205",
   "metadata": {},
   "source": [
    "Betrachten wir nur die Token, die mit '##' beginnen."
   ]
  },
  {
   "cell_type": "code",
   "execution_count": 15,
   "id": "616ee12a",
   "metadata": {},
   "outputs": [],
   "source": [
    "num_subwords = 0\n",
    "\n",
    "subword_lengths = []\n",
    "\n",
    "# For each token in the vocabulary...\n",
    "for token in tokenizer.vocab.keys():\n",
    "    \n",
    "    # If it's a subword...\n",
    "    if len(token) >= 2 and token[0:2] == '##':\n",
    "        \n",
    "        # Tally all subwords\n",
    "        num_subwords += 1\n",
    "\n",
    "        # Measure the sub word length (without the hashes)\n",
    "        length = len(token) - 2\n",
    "\n",
    "        # Record the lengths.        \n",
    "        subword_lengths.append(length)"
   ]
  },
  {
   "cell_type": "markdown",
   "id": "cf4bd3fc",
   "metadata": {},
   "source": [
    "Wie viele \"##\"-Zeichen gibt es im Vergleich zum vollständigen Wortschatz?"
   ]
  },
  {
   "cell_type": "code",
   "execution_count": 16,
   "id": "960fe413",
   "metadata": {},
   "outputs": [
    {
     "name": "stdout",
     "output_type": "stream",
     "text": [
      "Number of subwords: 5,828 of 30,522\n",
      "19.1%\n"
     ]
    }
   ],
   "source": [
    "vocab_size = len(tokenizer.vocab.keys())\n",
    "\n",
    "print('Number of subwords: {:,} of {:,}'.format(num_subwords, vocab_size))\n",
    "\n",
    "# Calculate the percentage of words that are '##' subwords.\n",
    "prcnt = float(num_subwords) / vocab_size * 100.0\n",
    "\n",
    "print('%.1f%%' % prcnt)"
   ]
  },
  {
   "cell_type": "markdown",
   "id": "737b42d7",
   "metadata": {},
   "source": [
    "Aufzeichnen der Teilwortlängen (ohne die beiden \"##\"-Zeichen)"
   ]
  },
  {
   "cell_type": "code",
   "execution_count": 20,
   "id": "75cc7406",
   "metadata": {},
   "outputs": [
    {
     "name": "stderr",
     "output_type": "stream",
     "text": [
      "/usr/local/lib/python3.9/site-packages/seaborn/_decorators.py:36: FutureWarning: Pass the following variable as a keyword arg: x. From version 0.12, the only valid positional argument will be `data`, and passing other arguments without an explicit keyword will result in an error or misinterpretation.\n",
      "  warnings.warn(\n"
     ]
    },
    {
     "data": {
      "text/plain": [
       "Text(0, 0.5, '# of ## Subwords')"
      ]
     },
     "execution_count": 20,
     "metadata": {},
     "output_type": "execute_result"
    },
    {
     "data": {
      "image/png": "[encoded data removed]",
      "text/plain": [
       "<Figure size 720x360 with 1 Axes>"
      ]
     },
     "metadata": {},
     "output_type": "display_data"
    }
   ],
   "source": [
    "sns.countplot(subword_lengths)\n",
    "plt.title('Subword Token Lengths (w/o \"##\")')\n",
    "plt.xlabel('Subword Length')\n",
    "plt.ylabel('# of ## Subwords')"
   ]
  },
  {
   "cell_type": "markdown",
   "id": "4cd511ac",
   "metadata": {},
   "source": [
    "## Rechtschreibfehler"
   ]
  },
  {
   "cell_type": "code",
   "execution_count": 21,
   "id": "2361c54b",
   "metadata": {},
   "outputs": [
    {
     "data": {
      "text/plain": [
       "False"
      ]
     },
     "execution_count": 21,
     "metadata": {},
     "output_type": "execute_result"
    }
   ],
   "source": [
    "'misspelled' in tokenizer.vocab # Right"
   ]
  },
  {
   "cell_type": "code",
   "execution_count": 22,
   "id": "21debf4d",
   "metadata": {},
   "outputs": [
    {
     "data": {
      "text/plain": [
       "False"
      ]
     },
     "execution_count": 22,
     "metadata": {},
     "output_type": "execute_result"
    }
   ],
   "source": [
    "'mispelled' in tokenizer.vocab # Wrong"
   ]
  },
  {
   "cell_type": "code",
   "execution_count": 23,
   "id": "cf1abf79",
   "metadata": {},
   "outputs": [
    {
     "data": {
      "text/plain": [
       "True"
      ]
     },
     "execution_count": 23,
     "metadata": {},
     "output_type": "execute_result"
    }
   ],
   "source": [
    "'government' in tokenizer.vocab # Right"
   ]
  },
  {
   "cell_type": "code",
   "execution_count": 24,
   "id": "f3883647",
   "metadata": {},
   "outputs": [
    {
     "data": {
      "text/plain": [
       "False"
      ]
     },
     "execution_count": 24,
     "metadata": {},
     "output_type": "execute_result"
    }
   ],
   "source": [
    "'goverment' in tokenizer.vocab # Wrong"
   ]
  },
  {
   "cell_type": "code",
   "execution_count": 25,
   "id": "97db9e57",
   "metadata": {},
   "outputs": [
    {
     "data": {
      "text/plain": [
       "True"
      ]
     },
     "execution_count": 25,
     "metadata": {},
     "output_type": "execute_result"
    }
   ],
   "source": [
    "'beginning' in tokenizer.vocab # Right"
   ]
  },
  {
   "cell_type": "code",
   "execution_count": 26,
   "id": "8de9a251",
   "metadata": {},
   "outputs": [
    {
     "data": {
      "text/plain": [
       "False"
      ]
     },
     "execution_count": 26,
     "metadata": {},
     "output_type": "execute_result"
    }
   ],
   "source": [
    "'begining' in tokenizer.vocab # Wrong"
   ]
  },
  {
   "cell_type": "code",
   "execution_count": 27,
   "id": "da6951e5",
   "metadata": {},
   "outputs": [
    {
     "data": {
      "text/plain": [
       "True"
      ]
     },
     "execution_count": 27,
     "metadata": {},
     "output_type": "execute_result"
    }
   ],
   "source": [
    "'separate' in tokenizer.vocab # Right"
   ]
  },
  {
   "cell_type": "code",
   "execution_count": 28,
   "id": "dc6c1ff7",
   "metadata": {},
   "outputs": [
    {
     "data": {
      "text/plain": [
       "False"
      ]
     },
     "execution_count": 28,
     "metadata": {},
     "output_type": "execute_result"
    }
   ],
   "source": [
    "'seperate' in tokenizer.vocab # Wrong"
   ]
  },
  {
   "cell_type": "markdown",
   "id": "537b1fee",
   "metadata": {},
   "source": [
    "## Was ist mit Apostrophen?"
   ]
  },
  {
   "cell_type": "code",
   "execution_count": 29,
   "id": "c91076db",
   "metadata": {},
   "outputs": [
    {
     "data": {
      "text/plain": [
       "False"
      ]
     },
     "execution_count": 29,
     "metadata": {},
     "output_type": "execute_result"
    }
   ],
   "source": [
    "\"can't\" in tokenizer.vocab"
   ]
  },
  {
   "cell_type": "code",
   "execution_count": 30,
   "id": "1d5121fe",
   "metadata": {},
   "outputs": [
    {
     "data": {
      "text/plain": [
       "False"
      ]
     },
     "execution_count": 30,
     "metadata": {},
     "output_type": "execute_result"
    }
   ],
   "source": [
    "\"cant\" in tokenizer.vocab"
   ]
  },
  {
   "cell_type": "markdown",
   "id": "739347a4",
   "metadata": {},
   "source": [
    "## Anfangs- vs. Mittelteilwörter"
   ]
  },
  {
   "cell_type": "markdown",
   "id": "7f3c47cb",
   "metadata": {},
   "source": [
    "Für einzelne Zeichen gibt es sowohl die Einzelzeichen- als auch die \"##\"-Version für jedes Zeichen. Gilt das auch für Teilwörter?"
   ]
  },
  {
   "cell_type": "code",
   "execution_count": 32,
   "id": "ac0f489e",
   "metadata": {},
   "outputs": [
    {
     "name": "stdout",
     "output_type": "stream",
     "text": [
      "Did not find a token for ly\n"
     ]
    }
   ],
   "source": [
    "# Für jedes Token des Vokabulars...\n",
    "for token in tokenizer.vocab.keys():\n",
    "    \n",
    "    # Wenn es ein Teilwort ist...\n",
    "    if len(token) >= 2 and token[0:2] == '##':\n",
    "        if not token[2:] in tokenizer.vocab:\n",
    "            print('Did not find a token for', token[2:])\n",
    "            break"
   ]
  },
  {
   "cell_type": "code",
   "execution_count": 33,
   "id": "1cb80838",
   "metadata": {},
   "outputs": [
    {
     "data": {
      "text/plain": [
       "True"
      ]
     },
     "execution_count": 33,
     "metadata": {},
     "output_type": "execute_result"
    }
   ],
   "source": [
    "'##ly' in tokenizer.vocab"
   ]
  },
  {
   "cell_type": "code",
   "execution_count": 34,
   "id": "e1b6907c",
   "metadata": {},
   "outputs": [
    {
     "data": {
      "text/plain": [
       "False"
      ]
     },
     "execution_count": 34,
     "metadata": {},
     "output_type": "execute_result"
    }
   ],
   "source": [
    "'ly' in tokenizer.vocab"
   ]
  },
  {
   "cell_type": "markdown",
   "id": "10533364",
   "metadata": {},
   "source": [
    "## Namen"
   ]
  },
  {
   "cell_type": "code",
   "execution_count": 38,
   "id": "54e67310",
   "metadata": {},
   "outputs": [
    {
     "name": "stdout",
     "output_type": "stream",
     "text": [
      "Beginning file download with wget module\n",
      "100% [........................................................] 179353 / 179353"
     ]
    },
    {
     "data": {
      "text/plain": [
       "'first-names.txt'"
      ]
     },
     "execution_count": 38,
     "metadata": {},
     "output_type": "execute_result"
    }
   ],
   "source": [
    "import wget\n",
    "import random \n",
    "\n",
    "print('Beginning file download with wget module')\n",
    "\n",
    "url = 'http://www.gutenberg.org/files/3201/files/NAMES.TXT'\n",
    "wget.download(url, 'first-names.txt')"
   ]
  },
  {
   "cell_type": "code",
   "execution_count": 39,
   "id": "a349661c",
   "metadata": {},
   "outputs": [
    {
     "name": "stdout",
     "output_type": "stream",
     "text": [
      "Number of names: 21,985\n",
      "Example: baptlsta\n"
     ]
    }
   ],
   "source": [
    "# Einlesen.\n",
    "with open('first-names.txt', 'rb') as f:\n",
    "    names_encoded = f.readlines()\n",
    "\n",
    "names = []\n",
    "\n",
    "# Dekodierung der Namen, Umwandlung in Kleinbuchstaben und Entfernen von Zeilenumbrüchen.\n",
    "for name in names_encoded:\n",
    "    try:\n",
    "        names.append(name.rstrip().lower().decode('utf-8'))\n",
    "    except:\n",
    "        continue\n",
    "\n",
    "print('Number of names: {:,}'.format(len(names)))\n",
    "print('Example:', random.choice(names))\n"
   ]
  },
  {
   "cell_type": "code",
   "execution_count": 40,
   "id": "5899eefb",
   "metadata": {},
   "outputs": [
    {
     "name": "stdout",
     "output_type": "stream",
     "text": [
      "3,869 names in the vocabulary\n"
     ]
    }
   ],
   "source": [
    "num_names = 0\n",
    "\n",
    "# Für jeden Namen in unserer Liste...\n",
    "for name in names:\n",
    "\n",
    "    # Wenn es im Vokabular steht...\n",
    "    if name in tokenizer.vocab:\n",
    "        # Abrechnen.\n",
    "        num_names += 1\n",
    "\n",
    "print('{:,} names in the vocabulary'.format(num_names))"
   ]
  },
  {
   "cell_type": "markdown",
   "id": "810d87cd",
   "metadata": {},
   "source": [
    "**Weitere Forschung**\n",
    "* Weitere moderne Namen hinzufügen\n",
    "    * Dieses Repo / diese Datei enthält einige modernere Namen. Der Dateidownload funktioniert allerdings nicht.\n",
    "    * `https://raw.githubusercontent.com/arineng/arincli/master/lib/male-first-names.txt`\n",
    "* Hinzufügen von gebräuchlichen Namen aus anderen Sprachen."
   ]
  },
  {
   "cell_type": "markdown",
   "id": "0670bb7b",
   "metadata": {},
   "source": [
    "## Zahlen"
   ]
  },
  {
   "cell_type": "code",
   "execution_count": 41,
   "id": "2396ec5b",
   "metadata": {},
   "outputs": [
    {
     "name": "stdout",
     "output_type": "stream",
     "text": [
      "Vocab includes 881 numbers.\n"
     ]
    }
   ],
   "source": [
    "# Zählen, wie viele Zahlen im Wortschatz enthalten sind.\n",
    "count = 0\n",
    "\n",
    "# Für jedes Token des Vokabulars...\n",
    "for token in tokenizer.vocab.keys():\n",
    "\n",
    "    # Zählen, wenn es eine Zahl ist.\n",
    "    if token.isdigit():\n",
    "        count += 1\n",
    "        \n",
    "        # Beliebige Zahlen >= 10,000?\n",
    "        if len(token) > 4:\n",
    "            print(token)\n",
    "\n",
    "print('Vocab includes {:,} numbers.'.format(count))"
   ]
  },
  {
   "cell_type": "code",
   "execution_count": 42,
   "id": "5743f99e",
   "metadata": {},
   "outputs": [
    {
     "name": "stdout",
     "output_type": "stream",
     "text": [
      "Vocab includes 384 of 421 dates from 1600 - 2021\n"
     ]
    }
   ],
   "source": [
    "# Zählen, wie viele Daten zwischen 1600 und 2021 enthalten sind.\n",
    "count = 0 \n",
    "for i in range(1600, 2021):\n",
    "    if str(i) in tokenizer.vocab:\n",
    "        count += 1\n",
    "\n",
    "print('Vocab includes {:,} of 421 dates from 1600 - 2021'.format(count))"
   ]
  },
  {
   "cell_type": "code",
   "execution_count": null,
   "id": "1fbde8e9",
   "metadata": {},
   "outputs": [],
   "source": []
  }
 ],
 "metadata": {
  "kernelspec": {
   "display_name": "Python 3 (ipykernel)",
   "language": "python",
   "name": "python3"
  },
  "language_info": {
   "codemirror_mode": {
    "name": "ipython",
    "version": 3
   },
   "file_extension": ".py",
   "mimetype": "text/x-python",
   "name": "python",
   "nbconvert_exporter": "python",
   "pygments_lexer": "ipython3",
   "version": "3.9.9"
  },
  "toc": {
   "base_numbering": 1,
   "nav_menu": {},
   "number_sections": true,
   "sideBar": true,
   "skip_h1_title": false,
   "title_cell": "Table of Contents",
   "title_sidebar": "Contents",
   "toc_cell": false,
   "toc_position": {},
   "toc_section_display": true,
   "toc_window_display": true
  },
  "varInspector": {
   "cols": {
    "lenName": 16,
    "lenType": 16,
    "lenVar": 40
   },
   "kernels_config": {
    "python": {
     "delete_cmd_postfix": "",
     "delete_cmd_prefix": "del ",
     "library": "var_list.py",
     "varRefreshCmd": "print(var_dic_list())"
    },
    "r": {
     "delete_cmd_postfix": ") ",
     "delete_cmd_prefix": "rm(",
     "library": "var_list.r",
     "varRefreshCmd": "cat(var_dic_list()) "
    }
   },
   "types_to_exclude": [
    "module",
    "function",
    "builtin_function_or_method",
    "instance",
    "_Feature"
   ],
   "window_display": false
  }
 },
 "nbformat": 4,
 "nbformat_minor": 5
}
