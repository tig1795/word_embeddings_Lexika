{
 "cells": [
  {
   "cell_type": "code",
   "execution_count": 4,
   "id": "bc7b8157",
   "metadata": {},
   "outputs": [
    {
     "name": "stderr",
     "output_type": "stream",
     "text": [
      "Some weights of the model checkpoint at bert-base-german-cased were not used when initializing BertForMaskedLM: ['cls.seq_relationship.bias', 'cls.seq_relationship.weight']\n",
      "- This IS expected if you are initializing BertForMaskedLM from the checkpoint of a model trained on another task or with another architecture (e.g. initializing a BertForSequenceClassification model from a BertForPreTraining model).\n",
      "- This IS NOT expected if you are initializing BertForMaskedLM from the checkpoint of a model that you expect to be exactly identical (initializing a BertForSequenceClassification model from a BertForSequenceClassification model).\n"
     ]
    },
    {
     "name": "stdout",
     "output_type": "stream",
     "text": [
      "Eine Bewegung wie der, [unused_punctuation2], beschäftigt sich mit Gleichberechtigung.\n",
      "Eine Bewegung wie der, der, beschäftigt sich mit Gleichberechtigung.\n",
      "Eine Bewegung wie der, ##e, beschäftigt sich mit Gleichberechtigung.\n",
      "Eine Bewegung wie der, von, beschäftigt sich mit Gleichberechtigung.\n",
      "Eine Bewegung wie der, ##ische, beschäftigt sich mit Gleichberechtigung.\n",
      "Eine Bewegung wie der, ##ale, beschäftigt sich mit Gleichberechtigung.\n",
      "Eine Bewegung wie der, in, beschäftigt sich mit Gleichberechtigung.\n",
      "Eine Bewegung wie der, [unused_punctuation0], beschäftigt sich mit Gleichberechtigung.\n",
      "Eine Bewegung wie der, ##er, beschäftigt sich mit Gleichberechtigung.\n",
      "Eine Bewegung wie der, ##co, beschäftigt sich mit Gleichberechtigung.\n"
     ]
    }
   ],
   "source": [
    "from transformers import BertTokenizer, BertForMaskedLM\n",
    "from torch.nn import functional as F\n",
    "import torch\n",
    "tokenizer = BertTokenizer.from_pretrained('bert-base-german-cased')\n",
    "model = BertForMaskedLM.from_pretrained('bert-base-german-cased',    return_dict = True)\n",
    "text = \"Die französische, \" + tokenizer.mask_token + \", beschäftigt sich mit Gleichberechtigung.\"\n",
    "input = tokenizer.encode_plus(text, return_tensors = \"pt\")\n",
    "mask_index = torch.where(input[\"input_ids\"][0] == tokenizer.mask_token_id)\n",
    "output = model(**input)\n",
    "logits = output.logits\n",
    "softmax = F.softmax(logits, dim = -1)\n",
    "mask_word = softmax[0, mask_index, :]\n",
    "top_10 = torch.topk(mask_word, 10, dim = 1)[1][0]\n",
    "for token in top_10:\n",
    "   word = tokenizer.decode([token])\n",
    "   new_sentence = text.replace(tokenizer.mask_token, word)\n",
    "   print(new_sentence)"
   ]
  },
  {
   "cell_type": "code",
   "execution_count": null,
   "id": "1ab537c6",
   "metadata": {},
   "outputs": [],
   "source": []
  }
 ],
 "metadata": {
  "kernelspec": {
   "display_name": "Python 3 (ipykernel)",
   "language": "python",
   "name": "python3"
  },
  "language_info": {
   "codemirror_mode": {
    "name": "ipython",
    "version": 3
   },
   "file_extension": ".py",
   "mimetype": "text/x-python",
   "name": "python",
   "nbconvert_exporter": "python",
   "pygments_lexer": "ipython3",
   "version": "3.9.9"
  },
  "toc": {
   "base_numbering": 1,
   "nav_menu": {},
   "number_sections": true,
   "sideBar": true,
   "skip_h1_title": false,
   "title_cell": "Table of Contents",
   "title_sidebar": "Contents",
   "toc_cell": false,
   "toc_position": {},
   "toc_section_display": true,
   "toc_window_display": false
  },
  "varInspector": {
   "cols": {
    "lenName": 16,
    "lenType": 16,
    "lenVar": 40
   },
   "kernels_config": {
    "python": {
     "delete_cmd_postfix": "",
     "delete_cmd_prefix": "del ",
     "library": "var_list.py",
     "varRefreshCmd": "print(var_dic_list())"
    },
    "r": {
     "delete_cmd_postfix": ") ",
     "delete_cmd_prefix": "rm(",
     "library": "var_list.r",
     "varRefreshCmd": "cat(var_dic_list()) "
    }
   },
   "types_to_exclude": [
    "module",
    "function",
    "builtin_function_or_method",
    "instance",
    "_Feature"
   ],
   "window_display": false
  }
 },
 "nbformat": 4,
 "nbformat_minor": 5
}
