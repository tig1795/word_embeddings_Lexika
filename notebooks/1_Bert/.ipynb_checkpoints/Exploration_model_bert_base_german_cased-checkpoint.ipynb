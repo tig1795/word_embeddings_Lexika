{
 "cells": [
  {
   "cell_type": "markdown",
   "id": "01891ae4",
   "metadata": {},
   "source": [
    "# Imports"
   ]
  },
  {
   "cell_type": "code",
   "execution_count": 68,
   "id": "c6e51294",
   "metadata": {},
   "outputs": [
    {
     "data": {
      "text/plain": [
       "PreTrainedTokenizerFast(name_or_path='bert-base-german-cased', vocab_size=30000, model_max_len=512, is_fast=True, padding_side='right', special_tokens={'unk_token': '[UNK]', 'sep_token': '[SEP]', 'pad_token': '[PAD]', 'cls_token': '[CLS]', 'mask_token': '[MASK]'})"
      ]
     },
     "execution_count": 68,
     "metadata": {},
     "output_type": "execute_result"
    }
   ],
   "source": [
    "from transformers import AutoTokenizer, AutoModelForMaskedLM\n",
    "\n",
    "#Vortrainiertes Model Tokenzizer laden(Vokabular)\n",
    "\n",
    "tokenizer = AutoTokenizer.from_pretrained(\"bert-base-german-cased\")\n",
    "tokenizer"
   ]
  },
  {
   "cell_type": "markdown",
   "id": "70f25e8a",
   "metadata": {},
   "source": [
    "# Inspect Bert Vocabulary"
   ]
  },
  {
   "cell_type": "markdown",
   "id": "38522e50",
   "metadata": {},
   "source": [
    "## Vocab Dump"
   ]
  },
  {
   "cell_type": "markdown",
   "id": "808d34e3",
   "metadata": {},
   "source": [
    "Ruft die gesamte Liste der \"Token\" ab und schreibt diese in Textdateien, damit sie durchgesehen werden können."
   ]
  },
  {
   "cell_type": "code",
   "execution_count": 69,
   "id": "c273eb95",
   "metadata": {},
   "outputs": [],
   "source": [
    "with open(\"vocabulary.txt\", 'w') as f:\n",
    "    \n",
    "    # For each token...\n",
    "    for token in tokenizer.vocab.keys():\n",
    "        \n",
    "        # Write it out and escape any unicode characters.            \n",
    "        f.write(token + '\\n')"
   ]
  },
  {
   "cell_type": "markdown",
   "id": "bb21714c",
   "metadata": {},
   "source": [
    "Wenn ich mir das Vokabular ansehe, sehe ich das:\n",
    "Die ersten 999 Token (1-indiziert) scheinen reserviert zu sein, und die meisten haben die Form [unused957].\n",
    "1 - [PAD]\n",
    "101 - [UNK]\n",
    "102 - [CLS]\n",
    "103 - [SEP]\n",
    "104 - [MASK]\n",
    "Die Zeilen 1000-1996 scheinen ein Dump von einzelnen Zeichen zu sein.\n",
    "Sie scheinen nicht nach Häufigkeit sortiert zu sein (z. B. sind die Buchstaben des Alphabets alle aufeinanderfolgend).\n",
    "Das erste Wort ist \"the\" an Position 1997.\n",
    "Von da an scheinen die Wörter nach Häufigkeit sortiert zu sein.\n",
    "Die ersten ~18 Wörter sind ganze Wörter, und Nummer 2016 ist ##s, vermutlich das häufigste Teilwort.\n",
    "Das letzte ganze Wort befindet sich auf Platz 29612, \"necessitated\".\n",
    "Einige lustige Einschlüsse:\n",
    "Starbucks\n",
    "triassisch\n",
    "Abolitionist\n",
    "1679"
   ]
  },
  {
   "cell_type": "markdown",
   "id": "4c6f11da",
   "metadata": {},
   "source": [
    "## Einzelne Zeichen"
   ]
  },
  {
   "cell_type": "markdown",
   "id": "c1ede20b",
   "metadata": {},
   "source": [
    "Der folgende Code gibt alle Einzelzeichen im Vokabular aus, sowie alle Einzelzeichen mit vorangestelltem \"##\".\n",
    "Es stellt sich heraus, dass es sich um übereinstimmende Mengen handelt - für jedes einzelne Zeichen gibt es auch eine '##'-Version. Es gibt 997 Einzelzeichen-Token.\n",
    "Die folgende Zelle iteriert über das Vokabular und zieht alle Einzelzeichen heraus."
   ]
  },
  {
   "cell_type": "code",
   "execution_count": 70,
   "id": "aab2854c",
   "metadata": {},
   "outputs": [],
   "source": [
    "one_chars = []\n",
    "one_chars_hashes = []\n",
    "\n",
    "# For each token in the vocabulary...\n",
    "for token in tokenizer.vocab.keys():\n",
    "    \n",
    "    # Record any single-character tokens.\n",
    "    if len(token) == 1:\n",
    "        one_chars.append(token)\n",
    "    \n",
    "    # Record single-character tokens preceded by the two hashes.    \n",
    "    elif len(token) == 3 and token[0:2] == '##':\n",
    "        one_chars_hashes.append(token)"
   ]
  },
  {
   "cell_type": "code",
   "execution_count": 71,
   "id": "8e4e503e",
   "metadata": {},
   "outputs": [
    {
     "name": "stdout",
     "output_type": "stream",
     "text": [
      "Number of single character tokens: 101 \n",
      "\n",
      "E $ T + ? w 0 b J y M Ü ^ D ( v m § Ä < Z & W i z n ö } ~ C 4 V e ! ] Y g B G _\n",
      "` > = 9 S 7 Q o . t / ; O r ä 1 l [ X a ü H 6 f 8 3 P 5 € h { I R * F k c : d -\n",
      "| j u x \\ p L ) , # K U s A ' @ \" N Ö 2 %\n"
     ]
    }
   ],
   "source": [
    "print('Number of single character tokens:', len(one_chars), '\\n')\n",
    "\n",
    "# Print all of the single characters, 40 per row.\n",
    "\n",
    "# For every batch of 40 tokens...\n",
    "for i in range(0, len(one_chars), 40):\n",
    "    \n",
    "    # Limit the end index so we don't go past the end of the list.\n",
    "    end = min(i + 40, len(one_chars) + 1)\n",
    "    \n",
    "    # Print out the tokens, separated by a space.\n",
    "    print(' '.join(one_chars[i:end]))"
   ]
  },
  {
   "cell_type": "code",
   "execution_count": 72,
   "id": "6a1a300e",
   "metadata": {},
   "outputs": [
    {
     "name": "stdout",
     "output_type": "stream",
     "text": [
      "Number of single character tokens with hashes: 70 \n",
      "\n",
      "o W € 2 8 L X Ä l H c m U C G 3 T 9 5 0 Ö b a D J ä f I P y 7 h O p j E B 6 w M\n",
      "ö Ü s ß z q 4 S t F R x 1 Z d r A g k K V ü e i n u Y v N Q\n"
     ]
    }
   ],
   "source": [
    "print('Number of single character tokens with hashes:', len(one_chars_hashes), '\\n')\n",
    "\n",
    "# Print all of the single characters, 40 per row.\n",
    "\n",
    "# Strip the hash marks, since they just clutter the display.\n",
    "tokens = [token.replace('##', '') for token in one_chars_hashes]\n",
    "\n",
    "# For every batch of 40 tokens...\n",
    "for i in range(0, len(tokens), 40):\n",
    "    \n",
    "    # Limit the end index so we don't go past the end of the list.\n",
    "    end = min(i + 40, len(tokens) + 1)\n",
    "    \n",
    "    # Print out the tokens, separated by a space.\n",
    "    print(' '.join(tokens[i:end]))"
   ]
  },
  {
   "cell_type": "code",
   "execution_count": 73,
   "id": "16fd244c",
   "metadata": {},
   "outputs": [
    {
     "name": "stdout",
     "output_type": "stream",
     "text": [
      "Are the two sets identical? False\n"
     ]
    }
   ],
   "source": [
    "print('Are the two sets identical?', set(one_chars) == set(tokens))"
   ]
  },
  {
   "cell_type": "markdown",
   "id": "ef41a573",
   "metadata": {},
   "source": [
    "## Teilwörter vs. Ganze Wörter"
   ]
  },
  {
   "cell_type": "markdown",
   "id": "21e65004",
   "metadata": {},
   "source": [
    "Lassen Sie uns einige statistische Daten zum Wortschatz sammeln."
   ]
  },
  {
   "cell_type": "code",
   "execution_count": 74,
   "id": "5641ebec",
   "metadata": {},
   "outputs": [
    {
     "name": "stderr",
     "output_type": "stream",
     "text": [
      "/usr/local/lib/python3.9/site-packages/seaborn/_decorators.py:36: FutureWarning: Pass the following variable as a keyword arg: x. From version 0.12, the only valid positional argument will be `data`, and passing other arguments without an explicit keyword will result in an error or misinterpretation.\n",
      "  warnings.warn(\n"
     ]
    },
    {
     "name": "stdout",
     "output_type": "stream",
     "text": [
      "Maximum token length: 22\n"
     ]
    },
    {
     "data": {
      "image/png": "[encoded data removed]",
      "text/plain": [
       "<Figure size 720x360 with 1 Axes>"
      ]
     },
     "metadata": {},
     "output_type": "display_data"
    }
   ],
   "source": [
    "import matplotlib.pyplot as plt\n",
    "import seaborn as sns\n",
    "import numpy as np\n",
    "\n",
    "sns.set(style='darkgrid')\n",
    "\n",
    "# Vergrößert den Plot und die Schriftgröße.\n",
    "sns.set(font_scale=1.5)\n",
    "plt.rcParams[\"figure.figsize\"] = (10,5)\n",
    "\n",
    "# Messen der Länge jedes Tokens im Vokabular.\n",
    "token_lengths = [len(token) for token in tokenizer.vocab.keys()]\n",
    "\n",
    "# Darstellung der Anzahl der Token jeder Länge.\n",
    "sns.countplot(token_lengths)\n",
    "plt.title('Vocab Token Lengths')\n",
    "plt.xlabel('Token Length')\n",
    "plt.ylabel('# of Tokens')\n",
    "\n",
    "print('Maximum token length:', max(token_lengths))"
   ]
  },
  {
   "cell_type": "markdown",
   "id": "18b55205",
   "metadata": {},
   "source": [
    "Betrachten wir nur die Token, die mit '##' beginnen."
   ]
  },
  {
   "cell_type": "code",
   "execution_count": 75,
   "id": "616ee12a",
   "metadata": {},
   "outputs": [],
   "source": [
    "num_subwords = 0\n",
    "\n",
    "subword_lengths = []\n",
    "\n",
    "# For each token in the vocabulary...\n",
    "for token in tokenizer.vocab.keys():\n",
    "    \n",
    "    # If it's a subword...\n",
    "    if len(token) >= 2 and token[0:2] == '##':\n",
    "        \n",
    "        # Tally all subwords\n",
    "        num_subwords += 1\n",
    "\n",
    "        # Measure the sub word length (without the hashes)\n",
    "        length = len(token) - 2\n",
    "\n",
    "        # Record the lengths.        \n",
    "        subword_lengths.append(length)"
   ]
  },
  {
   "cell_type": "markdown",
   "id": "cf4bd3fc",
   "metadata": {},
   "source": [
    "Wie viele \"##\"-Zeichen gibt es im Vergleich zum vollständigen Wortschatz?"
   ]
  },
  {
   "cell_type": "code",
   "execution_count": 76,
   "id": "960fe413",
   "metadata": {},
   "outputs": [
    {
     "name": "stdout",
     "output_type": "stream",
     "text": [
      "Number of subwords: 9,827 of 30,000\n",
      "32.8%\n"
     ]
    }
   ],
   "source": [
    "vocab_size = len(tokenizer.vocab.keys())\n",
    "\n",
    "print('Number of subwords: {:,} of {:,}'.format(num_subwords, vocab_size))\n",
    "\n",
    "# Calculate the percentage of words that are '##' subwords.\n",
    "prcnt = float(num_subwords) / vocab_size * 100.0\n",
    "\n",
    "print('%.1f%%' % prcnt)"
   ]
  },
  {
   "cell_type": "markdown",
   "id": "737b42d7",
   "metadata": {},
   "source": [
    "Aufzeichnen der Teilwortlängen (ohne die beiden \"##\"-Zeichen)"
   ]
  },
  {
   "cell_type": "code",
   "execution_count": 77,
   "id": "75cc7406",
   "metadata": {},
   "outputs": [
    {
     "name": "stderr",
     "output_type": "stream",
     "text": [
      "/usr/local/lib/python3.9/site-packages/seaborn/_decorators.py:36: FutureWarning: Pass the following variable as a keyword arg: x. From version 0.12, the only valid positional argument will be `data`, and passing other arguments without an explicit keyword will result in an error or misinterpretation.\n",
      "  warnings.warn(\n"
     ]
    },
    {
     "data": {
      "text/plain": [
       "Text(0, 0.5, '# of ## Subwords')"
      ]
     },
     "execution_count": 77,
     "metadata": {},
     "output_type": "execute_result"
    },
    {
     "data": {
      "image/png": "[encoded data removed]",
      "text/plain": [
       "<Figure size 720x360 with 1 Axes>"
      ]
     },
     "metadata": {},
     "output_type": "display_data"
    }
   ],
   "source": [
    "sns.countplot(subword_lengths)\n",
    "plt.title('Subword Token Lengths (w/o \"##\")')\n",
    "plt.xlabel('Subword Length')\n",
    "plt.ylabel('# of ## Subwords')"
   ]
  },
  {
   "cell_type": "markdown",
   "id": "4cd511ac",
   "metadata": {},
   "source": [
    "## Rechtschreibfehler"
   ]
  },
  {
   "cell_type": "code",
   "execution_count": 78,
   "id": "2361c54b",
   "metadata": {},
   "outputs": [
    {
     "data": {
      "text/plain": [
       "True"
      ]
     },
     "execution_count": 78,
     "metadata": {},
     "output_type": "execute_result"
    }
   ],
   "source": [
    "'Roboter' in tokenizer.vocab # Right"
   ]
  },
  {
   "cell_type": "code",
   "execution_count": 79,
   "id": "21debf4d",
   "metadata": {},
   "outputs": [
    {
     "data": {
      "text/plain": [
       "False"
      ]
     },
     "execution_count": 79,
     "metadata": {},
     "output_type": "execute_result"
    }
   ],
   "source": [
    "'schwadronieren' in tokenizer.vocab # Wrong"
   ]
  },
  {
   "cell_type": "code",
   "execution_count": 80,
   "id": "cf1abf79",
   "metadata": {},
   "outputs": [
    {
     "data": {
      "text/plain": [
       "True"
      ]
     },
     "execution_count": 80,
     "metadata": {},
     "output_type": "execute_result"
    }
   ],
   "source": [
    "'Abstand' in tokenizer.vocab # Right"
   ]
  },
  {
   "cell_type": "code",
   "execution_count": 81,
   "id": "f3883647",
   "metadata": {},
   "outputs": [
    {
     "data": {
      "text/plain": [
       "True"
      ]
     },
     "execution_count": 81,
     "metadata": {},
     "output_type": "execute_result"
    }
   ],
   "source": [
    "'Ökonomie' in tokenizer.vocab # Wrong"
   ]
  },
  {
   "cell_type": "code",
   "execution_count": 82,
   "id": "97db9e57",
   "metadata": {},
   "outputs": [
    {
     "data": {
      "text/plain": [
       "False"
      ]
     },
     "execution_count": 82,
     "metadata": {},
     "output_type": "execute_result"
    }
   ],
   "source": [
    "'Ampel' in tokenizer.vocab # Right"
   ]
  },
  {
   "cell_type": "code",
   "execution_count": 83,
   "id": "8de9a251",
   "metadata": {},
   "outputs": [
    {
     "data": {
      "text/plain": [
       "True"
      ]
     },
     "execution_count": 83,
     "metadata": {},
     "output_type": "execute_result"
    }
   ],
   "source": [
    "'Batterie' in tokenizer.vocab # Wrong"
   ]
  },
  {
   "cell_type": "code",
   "execution_count": 84,
   "id": "da6951e5",
   "metadata": {},
   "outputs": [
    {
     "data": {
      "text/plain": [
       "False"
      ]
     },
     "execution_count": 84,
     "metadata": {},
     "output_type": "execute_result"
    }
   ],
   "source": [
    "'wichsen' in tokenizer.vocab # Right"
   ]
  },
  {
   "cell_type": "code",
   "execution_count": 85,
   "id": "dc6c1ff7",
   "metadata": {},
   "outputs": [
    {
     "data": {
      "text/plain": [
       "True"
      ]
     },
     "execution_count": 85,
     "metadata": {},
     "output_type": "execute_result"
    }
   ],
   "source": [
    "'Revolution' in tokenizer.vocab # Wrong"
   ]
  },
  {
   "cell_type": "code",
   "execution_count": 86,
   "id": "57bc0b7d",
   "metadata": {},
   "outputs": [
    {
     "data": {
      "text/plain": [
       "False"
      ]
     },
     "execution_count": 86,
     "metadata": {},
     "output_type": "execute_result"
    }
   ],
   "source": [
    "'krass' in tokenizer.vocab"
   ]
  },
  {
   "cell_type": "markdown",
   "id": "537b1fee",
   "metadata": {},
   "source": [
    "## Was ist mit Apostrophen?"
   ]
  },
  {
   "cell_type": "code",
   "execution_count": 87,
   "id": "c91076db",
   "metadata": {},
   "outputs": [
    {
     "data": {
      "text/plain": [
       "False"
      ]
     },
     "execution_count": 87,
     "metadata": {},
     "output_type": "execute_result"
    }
   ],
   "source": [
    "\"can't\" in tokenizer.vocab"
   ]
  },
  {
   "cell_type": "code",
   "execution_count": 88,
   "id": "1d5121fe",
   "metadata": {},
   "outputs": [
    {
     "data": {
      "text/plain": [
       "False"
      ]
     },
     "execution_count": 88,
     "metadata": {},
     "output_type": "execute_result"
    }
   ],
   "source": [
    "\"cant\" in tokenizer.vocab"
   ]
  },
  {
   "cell_type": "markdown",
   "id": "739347a4",
   "metadata": {},
   "source": [
    "## Anfangs- vs. Mittelteilwörter"
   ]
  },
  {
   "cell_type": "markdown",
   "id": "7f3c47cb",
   "metadata": {},
   "source": [
    "Für einzelne Zeichen gibt es sowohl die Einzelzeichen- als auch die \"##\"-Version für jedes Zeichen. Gilt das auch für Teilwörter?"
   ]
  },
  {
   "cell_type": "code",
   "execution_count": 89,
   "id": "ac0f489e",
   "metadata": {},
   "outputs": [
    {
     "name": "stdout",
     "output_type": "stream",
     "text": [
      "Did not find a token for bü\n"
     ]
    }
   ],
   "source": [
    "# Für jedes Token des Vokabulars...\n",
    "for token in tokenizer.vocab.keys():\n",
    "    \n",
    "    # Wenn es ein Teilwort ist...\n",
    "    if len(token) >= 2 and token[0:2] == '##':\n",
    "        if not token[2:] in tokenizer.vocab:\n",
    "            print('Did not find a token for', token[2:])\n",
    "            break"
   ]
  },
  {
   "cell_type": "code",
   "execution_count": 90,
   "id": "1cb80838",
   "metadata": {},
   "outputs": [
    {
     "data": {
      "text/plain": [
       "True"
      ]
     },
     "execution_count": 90,
     "metadata": {},
     "output_type": "execute_result"
    }
   ],
   "source": [
    "'##ly' in tokenizer.vocab"
   ]
  },
  {
   "cell_type": "code",
   "execution_count": 91,
   "id": "e1b6907c",
   "metadata": {},
   "outputs": [
    {
     "data": {
      "text/plain": [
       "False"
      ]
     },
     "execution_count": 91,
     "metadata": {},
     "output_type": "execute_result"
    }
   ],
   "source": [
    "'ly' in tokenizer.vocab"
   ]
  },
  {
   "cell_type": "markdown",
   "id": "10533364",
   "metadata": {},
   "source": [
    "## Namen"
   ]
  },
  {
   "cell_type": "code",
   "execution_count": 92,
   "id": "54e67310",
   "metadata": {},
   "outputs": [
    {
     "name": "stdout",
     "output_type": "stream",
     "text": [
      "Beginning file download with wget module\n",
      "100% [........................................................] 179353 / 179353"
     ]
    },
    {
     "data": {
      "text/plain": [
       "'first-names.txt'"
      ]
     },
     "execution_count": 92,
     "metadata": {},
     "output_type": "execute_result"
    }
   ],
   "source": [
    "import wget\n",
    "import random \n",
    "\n",
    "print('Beginning file download with wget module')\n",
    "\n",
    "url = 'http://www.gutenberg.org/files/3201/files/NAMES.TXT'\n",
    "wget.download(url, 'first-names.txt')"
   ]
  },
  {
   "cell_type": "code",
   "execution_count": 93,
   "id": "a349661c",
   "metadata": {},
   "outputs": [
    {
     "name": "stdout",
     "output_type": "stream",
     "text": [
      "Number of names: 21,985\n",
      "Example: dimitri\n"
     ]
    }
   ],
   "source": [
    "# Einlesen.\n",
    "with open('first-names.txt', 'rb') as f:\n",
    "    names_encoded = f.readlines()\n",
    "\n",
    "names = []\n",
    "\n",
    "# Dekodierung der Namen, Umwandlung in Kleinbuchstaben und Entfernen von Zeilenumbrüchen.\n",
    "for name in names_encoded:\n",
    "    try:\n",
    "        names.append(name.rstrip().lower().decode('utf-8'))\n",
    "    except:\n",
    "        continue\n",
    "\n",
    "print('Number of names: {:,}'.format(len(names)))\n",
    "print('Example:', random.choice(names))\n"
   ]
  },
  {
   "cell_type": "code",
   "execution_count": 95,
   "id": "5899eefb",
   "metadata": {},
   "outputs": [
    {
     "name": "stdout",
     "output_type": "stream",
     "text": [
      "258 names in the vocabulary\n"
     ]
    }
   ],
   "source": [
    "num_names = 0\n",
    "\n",
    "# Für jeden Namen in unserer Liste...\n",
    "for name in names:\n",
    "\n",
    "    # Wenn es im Vokabular steht...\n",
    "    if name in tokenizer.vocab:\n",
    "        # Abrechnen.\n",
    "        num_names += 1\n",
    "\n",
    "print('{:,} names in the vocabulary'.format(num_names))"
   ]
  },
  {
   "cell_type": "markdown",
   "id": "810d87cd",
   "metadata": {},
   "source": [
    "**Weitere Forschung**\n",
    "* Weitere moderne Namen hinzufügen\n",
    "    * Dieses Repo / diese Datei enthält einige modernere Namen. Der Dateidownload funktioniert allerdings nicht.\n",
    "    * `https://raw.githubusercontent.com/arineng/arincli/master/lib/male-first-names.txt`\n",
    "* Hinzufügen von gebräuchlichen Namen aus anderen Sprachen."
   ]
  },
  {
   "cell_type": "markdown",
   "id": "0670bb7b",
   "metadata": {},
   "source": [
    "## Zahlen"
   ]
  },
  {
   "cell_type": "code",
   "execution_count": 96,
   "id": "2396ec5b",
   "metadata": {},
   "outputs": [
    {
     "name": "stdout",
     "output_type": "stream",
     "text": [
      "Vocab includes 452 numbers.\n"
     ]
    }
   ],
   "source": [
    "# Zählen, wie viele Zahlen im Wortschatz enthalten sind.\n",
    "count = 0\n",
    "\n",
    "# Für jedes Token des Vokabulars...\n",
    "for token in tokenizer.vocab.keys():\n",
    "\n",
    "    # Zählen, wenn es eine Zahl ist.\n",
    "    if token.isdigit():\n",
    "        count += 1\n",
    "        \n",
    "        # Beliebige Zahlen >= 10,000?\n",
    "        if len(token) > 4:\n",
    "            print(token)\n",
    "\n",
    "print('Vocab includes {:,} numbers.'.format(count))"
   ]
  },
  {
   "cell_type": "code",
   "execution_count": 97,
   "id": "5743f99e",
   "metadata": {},
   "outputs": [
    {
     "name": "stdout",
     "output_type": "stream",
     "text": [
      "Vocab includes 229 of 421 dates from 1600 - 2021\n"
     ]
    }
   ],
   "source": [
    "# Zählen, wie viele Daten zwischen 1600 und 2021 enthalten sind.\n",
    "count = 0 \n",
    "for i in range(1600, 2021):\n",
    "    if str(i) in tokenizer.vocab:\n",
    "        count += 1\n",
    "\n",
    "print('Vocab includes {:,} of 421 dates from 1600 - 2021'.format(count))"
   ]
  },
  {
   "cell_type": "code",
   "execution_count": null,
   "id": "1fbde8e9",
   "metadata": {},
   "outputs": [],
   "source": []
  }
 ],
 "metadata": {
  "kernelspec": {
   "display_name": "Python 3 (ipykernel)",
   "language": "python",
   "name": "python3"
  },
  "language_info": {
   "codemirror_mode": {
    "name": "ipython",
    "version": 3
   },
   "file_extension": ".py",
   "mimetype": "text/x-python",
   "name": "python",
   "nbconvert_exporter": "python",
   "pygments_lexer": "ipython3",
   "version": "3.9.9"
  },
  "toc": {
   "base_numbering": 1,
   "nav_menu": {},
   "number_sections": true,
   "sideBar": true,
   "skip_h1_title": false,
   "title_cell": "Table of Contents",
   "title_sidebar": "Contents",
   "toc_cell": false,
   "toc_position": {},
   "toc_section_display": true,
   "toc_window_display": true
  },
  "varInspector": {
   "cols": {
    "lenName": 16,
    "lenType": 16,
    "lenVar": 40
   },
   "kernels_config": {
    "python": {
     "delete_cmd_postfix": "",
     "delete_cmd_prefix": "del ",
     "library": "var_list.py",
     "varRefreshCmd": "print(var_dic_list())"
    },
    "r": {
     "delete_cmd_postfix": ") ",
     "delete_cmd_prefix": "rm(",
     "library": "var_list.r",
     "varRefreshCmd": "cat(var_dic_list()) "
    }
   },
   "types_to_exclude": [
    "module",
    "function",
    "builtin_function_or_method",
    "instance",
    "_Feature"
   ],
   "window_display": false
  }
 },
 "nbformat": 4,
 "nbformat_minor": 5
}
