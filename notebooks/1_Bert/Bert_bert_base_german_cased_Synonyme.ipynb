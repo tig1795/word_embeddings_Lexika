{
  "nbformat": 4,
  "nbformat_minor": 0,
  "metadata": {
    "colab": {
      "name": "Bert_bert-base-german-cased-Synonyme",
      "provenance": [],
      "collapsed_sections": [],
      "toc_visible": true,
      "authorship_tag": "ABX9TyP0t9qcX79400Glmu54Roxd",
      "include_colab_link": true
    },
    "kernelspec": {
      "name": "python3",
      "display_name": "Python 3"
    },
    "language_info": {
      "name": "python"
    },
    "accelerator": "GPU",
    "widgets": {
      "application/vnd.jupyter.widget-state+json": {
        "e6bc0a080a85496f95b787a854b4fbb8": {
          "model_module": "@jupyter-widgets/controls",
          "model_name": "HBoxModel",
          "model_module_version": "1.5.0",
          "state": {
            "_view_name": "HBoxView",
            "_dom_classes": [],
            "_model_name": "HBoxModel",
            "_view_module": "@jupyter-widgets/controls",
            "_model_module_version": "1.5.0",
            "_view_count": null,
            "_view_module_version": "1.5.0",
            "box_style": "",
            "layout": "IPY_MODEL_f79e6f5e75f245dc8796d126aaa959c8",
            "_model_module": "@jupyter-widgets/controls",
            "children": [
              "IPY_MODEL_d6d6554f4d74437faccc93bceeb0ca11",
              "IPY_MODEL_165c6a6be421423f9202afd5e457f078",
              "IPY_MODEL_5afd0cf55b8e41e8b55c02cc3dabeb8a"
            ]
          }
        },
        "f79e6f5e75f245dc8796d126aaa959c8": {
          "model_module": "@jupyter-widgets/base",
          "model_name": "LayoutModel",
          "model_module_version": "1.2.0",
          "state": {
            "_view_name": "LayoutView",
            "grid_template_rows": null,
            "right": null,
            "justify_content": null,
            "_view_module": "@jupyter-widgets/base",
            "overflow": null,
            "_model_module_version": "1.2.0",
            "_view_count": null,
            "flex_flow": null,
            "width": null,
            "min_width": null,
            "border": null,
            "align_items": null,
            "bottom": null,
            "_model_module": "@jupyter-widgets/base",
            "top": null,
            "grid_column": null,
            "overflow_y": null,
            "overflow_x": null,
            "grid_auto_flow": null,
            "grid_area": null,
            "grid_template_columns": null,
            "flex": null,
            "_model_name": "LayoutModel",
            "justify_items": null,
            "grid_row": null,
            "max_height": null,
            "align_content": null,
            "visibility": null,
            "align_self": null,
            "height": null,
            "min_height": null,
            "padding": null,
            "grid_auto_rows": null,
            "grid_gap": null,
            "max_width": null,
            "order": null,
            "_view_module_version": "1.2.0",
            "grid_template_areas": null,
            "object_position": null,
            "object_fit": null,
            "grid_auto_columns": null,
            "margin": null,
            "display": null,
            "left": null
          }
        },
        "d6d6554f4d74437faccc93bceeb0ca11": {
          "model_module": "@jupyter-widgets/controls",
          "model_name": "HTMLModel",
          "model_module_version": "1.5.0",
          "state": {
            "_view_name": "HTMLView",
            "style": "IPY_MODEL_a1ca7a603130469fa14426ebf41ad381",
            "_dom_classes": [],
            "description": "",
            "_model_name": "HTMLModel",
            "placeholder": "​",
            "_view_module": "@jupyter-widgets/controls",
            "_model_module_version": "1.5.0",
            "value": "Downloading: 100%",
            "_view_count": null,
            "_view_module_version": "1.5.0",
            "description_tooltip": null,
            "_model_module": "@jupyter-widgets/controls",
            "layout": "IPY_MODEL_297bbc015d514b1b9029553118d372c6"
          }
        },
        "165c6a6be421423f9202afd5e457f078": {
          "model_module": "@jupyter-widgets/controls",
          "model_name": "FloatProgressModel",
          "model_module_version": "1.5.0",
          "state": {
            "_view_name": "ProgressView",
            "style": "IPY_MODEL_ecb9ebb4170f4cdba80fa7e356ac77b2",
            "_dom_classes": [],
            "description": "",
            "_model_name": "FloatProgressModel",
            "bar_style": "success",
            "max": 29,
            "_view_module": "@jupyter-widgets/controls",
            "_model_module_version": "1.5.0",
            "value": 29,
            "_view_count": null,
            "_view_module_version": "1.5.0",
            "orientation": "horizontal",
            "min": 0,
            "description_tooltip": null,
            "_model_module": "@jupyter-widgets/controls",
            "layout": "IPY_MODEL_723bb3d425b04411aa0455fd39a8996d"
          }
        },
        "5afd0cf55b8e41e8b55c02cc3dabeb8a": {
          "model_module": "@jupyter-widgets/controls",
          "model_name": "HTMLModel",
          "model_module_version": "1.5.0",
          "state": {
            "_view_name": "HTMLView",
            "style": "IPY_MODEL_f6144b99251341d3be85f149c7b1e00e",
            "_dom_classes": [],
            "description": "",
            "_model_name": "HTMLModel",
            "placeholder": "​",
            "_view_module": "@jupyter-widgets/controls",
            "_model_module_version": "1.5.0",
            "value": " 29.0/29.0 [00:00&lt;00:00, 117B/s]",
            "_view_count": null,
            "_view_module_version": "1.5.0",
            "description_tooltip": null,
            "_model_module": "@jupyter-widgets/controls",
            "layout": "IPY_MODEL_8884c8d2ff1c4e00a876b724c7fb0b10"
          }
        },
        "a1ca7a603130469fa14426ebf41ad381": {
          "model_module": "@jupyter-widgets/controls",
          "model_name": "DescriptionStyleModel",
          "model_module_version": "1.5.0",
          "state": {
            "_view_name": "StyleView",
            "_model_name": "DescriptionStyleModel",
            "description_width": "",
            "_view_module": "@jupyter-widgets/base",
            "_model_module_version": "1.5.0",
            "_view_count": null,
            "_view_module_version": "1.2.0",
            "_model_module": "@jupyter-widgets/controls"
          }
        },
        "297bbc015d514b1b9029553118d372c6": {
          "model_module": "@jupyter-widgets/base",
          "model_name": "LayoutModel",
          "model_module_version": "1.2.0",
          "state": {
            "_view_name": "LayoutView",
            "grid_template_rows": null,
            "right": null,
            "justify_content": null,
            "_view_module": "@jupyter-widgets/base",
            "overflow": null,
            "_model_module_version": "1.2.0",
            "_view_count": null,
            "flex_flow": null,
            "width": null,
            "min_width": null,
            "border": null,
            "align_items": null,
            "bottom": null,
            "_model_module": "@jupyter-widgets/base",
            "top": null,
            "grid_column": null,
            "overflow_y": null,
            "overflow_x": null,
            "grid_auto_flow": null,
            "grid_area": null,
            "grid_template_columns": null,
            "flex": null,
            "_model_name": "LayoutModel",
            "justify_items": null,
            "grid_row": null,
            "max_height": null,
            "align_content": null,
            "visibility": null,
            "align_self": null,
            "height": null,
            "min_height": null,
            "padding": null,
            "grid_auto_rows": null,
            "grid_gap": null,
            "max_width": null,
            "order": null,
            "_view_module_version": "1.2.0",
            "grid_template_areas": null,
            "object_position": null,
            "object_fit": null,
            "grid_auto_columns": null,
            "margin": null,
            "display": null,
            "left": null
          }
        },
        "ecb9ebb4170f4cdba80fa7e356ac77b2": {
          "model_module": "@jupyter-widgets/controls",
          "model_name": "ProgressStyleModel",
          "model_module_version": "1.5.0",
          "state": {
            "_view_name": "StyleView",
            "_model_name": "ProgressStyleModel",
            "description_width": "",
            "_view_module": "@jupyter-widgets/base",
            "_model_module_version": "1.5.0",
            "_view_count": null,
            "_view_module_version": "1.2.0",
            "bar_color": null,
            "_model_module": "@jupyter-widgets/controls"
          }
        },
        "723bb3d425b04411aa0455fd39a8996d": {
          "model_module": "@jupyter-widgets/base",
          "model_name": "LayoutModel",
          "model_module_version": "1.2.0",
          "state": {
            "_view_name": "LayoutView",
            "grid_template_rows": null,
            "right": null,
            "justify_content": null,
            "_view_module": "@jupyter-widgets/base",
            "overflow": null,
            "_model_module_version": "1.2.0",
            "_view_count": null,
            "flex_flow": null,
            "width": null,
            "min_width": null,
            "border": null,
            "align_items": null,
            "bottom": null,
            "_model_module": "@jupyter-widgets/base",
            "top": null,
            "grid_column": null,
            "overflow_y": null,
            "overflow_x": null,
            "grid_auto_flow": null,
            "grid_area": null,
            "grid_template_columns": null,
            "flex": null,
            "_model_name": "LayoutModel",
            "justify_items": null,
            "grid_row": null,
            "max_height": null,
            "align_content": null,
            "visibility": null,
            "align_self": null,
            "height": null,
            "min_height": null,
            "padding": null,
            "grid_auto_rows": null,
            "grid_gap": null,
            "max_width": null,
            "order": null,
            "_view_module_version": "1.2.0",
            "grid_template_areas": null,
            "object_position": null,
            "object_fit": null,
            "grid_auto_columns": null,
            "margin": null,
            "display": null,
            "left": null
          }
        },
        "f6144b99251341d3be85f149c7b1e00e": {
          "model_module": "@jupyter-widgets/controls",
          "model_name": "DescriptionStyleModel",
          "model_module_version": "1.5.0",
          "state": {
            "_view_name": "StyleView",
            "_model_name": "DescriptionStyleModel",
            "description_width": "",
            "_view_module": "@jupyter-widgets/base",
            "_model_module_version": "1.5.0",
            "_view_count": null,
            "_view_module_version": "1.2.0",
            "_model_module": "@jupyter-widgets/controls"
          }
        },
        "8884c8d2ff1c4e00a876b724c7fb0b10": {
          "model_module": "@jupyter-widgets/base",
          "model_name": "LayoutModel",
          "model_module_version": "1.2.0",
          "state": {
            "_view_name": "LayoutView",
            "grid_template_rows": null,
            "right": null,
            "justify_content": null,
            "_view_module": "@jupyter-widgets/base",
            "overflow": null,
            "_model_module_version": "1.2.0",
            "_view_count": null,
            "flex_flow": null,
            "width": null,
            "min_width": null,
            "border": null,
            "align_items": null,
            "bottom": null,
            "_model_module": "@jupyter-widgets/base",
            "top": null,
            "grid_column": null,
            "overflow_y": null,
            "overflow_x": null,
            "grid_auto_flow": null,
            "grid_area": null,
            "grid_template_columns": null,
            "flex": null,
            "_model_name": "LayoutModel",
            "justify_items": null,
            "grid_row": null,
            "max_height": null,
            "align_content": null,
            "visibility": null,
            "align_self": null,
            "height": null,
            "min_height": null,
            "padding": null,
            "grid_auto_rows": null,
            "grid_gap": null,
            "max_width": null,
            "order": null,
            "_view_module_version": "1.2.0",
            "grid_template_areas": null,
            "object_position": null,
            "object_fit": null,
            "grid_auto_columns": null,
            "margin": null,
            "display": null,
            "left": null
          }
        },
        "84cfeac269f8457aad06c0532a831f7c": {
          "model_module": "@jupyter-widgets/controls",
          "model_name": "HBoxModel",
          "model_module_version": "1.5.0",
          "state": {
            "_view_name": "HBoxView",
            "_dom_classes": [],
            "_model_name": "HBoxModel",
            "_view_module": "@jupyter-widgets/controls",
            "_model_module_version": "1.5.0",
            "_view_count": null,
            "_view_module_version": "1.5.0",
            "box_style": "",
            "layout": "IPY_MODEL_db4b538e110d448896fc5f59610410b6",
            "_model_module": "@jupyter-widgets/controls",
            "children": [
              "IPY_MODEL_f5449d64717841dca5e8223b64c6e085",
              "IPY_MODEL_0984f2b9f4de43548314c307ad2c832a",
              "IPY_MODEL_c2537fd874ea459cb4923f22e4fe5dbc"
            ]
          }
        },
        "db4b538e110d448896fc5f59610410b6": {
          "model_module": "@jupyter-widgets/base",
          "model_name": "LayoutModel",
          "model_module_version": "1.2.0",
          "state": {
            "_view_name": "LayoutView",
            "grid_template_rows": null,
            "right": null,
            "justify_content": null,
            "_view_module": "@jupyter-widgets/base",
            "overflow": null,
            "_model_module_version": "1.2.0",
            "_view_count": null,
            "flex_flow": null,
            "width": null,
            "min_width": null,
            "border": null,
            "align_items": null,
            "bottom": null,
            "_model_module": "@jupyter-widgets/base",
            "top": null,
            "grid_column": null,
            "overflow_y": null,
            "overflow_x": null,
            "grid_auto_flow": null,
            "grid_area": null,
            "grid_template_columns": null,
            "flex": null,
            "_model_name": "LayoutModel",
            "justify_items": null,
            "grid_row": null,
            "max_height": null,
            "align_content": null,
            "visibility": null,
            "align_self": null,
            "height": null,
            "min_height": null,
            "padding": null,
            "grid_auto_rows": null,
            "grid_gap": null,
            "max_width": null,
            "order": null,
            "_view_module_version": "1.2.0",
            "grid_template_areas": null,
            "object_position": null,
            "object_fit": null,
            "grid_auto_columns": null,
            "margin": null,
            "display": null,
            "left": null
          }
        },
        "f5449d64717841dca5e8223b64c6e085": {
          "model_module": "@jupyter-widgets/controls",
          "model_name": "HTMLModel",
          "model_module_version": "1.5.0",
          "state": {
            "_view_name": "HTMLView",
            "style": "IPY_MODEL_414705d60e0b40888f50d2a60923f819",
            "_dom_classes": [],
            "description": "",
            "_model_name": "HTMLModel",
            "placeholder": "​",
            "_view_module": "@jupyter-widgets/controls",
            "_model_module_version": "1.5.0",
            "value": "Downloading: 100%",
            "_view_count": null,
            "_view_module_version": "1.5.0",
            "description_tooltip": null,
            "_model_module": "@jupyter-widgets/controls",
            "layout": "IPY_MODEL_6f9a86d405e1428b96cbe7d735397768"
          }
        },
        "0984f2b9f4de43548314c307ad2c832a": {
          "model_module": "@jupyter-widgets/controls",
          "model_name": "FloatProgressModel",
          "model_module_version": "1.5.0",
          "state": {
            "_view_name": "ProgressView",
            "style": "IPY_MODEL_5cae0004d15f4963966df107f6e49160",
            "_dom_classes": [],
            "description": "",
            "_model_name": "FloatProgressModel",
            "bar_style": "success",
            "max": 433,
            "_view_module": "@jupyter-widgets/controls",
            "_model_module_version": "1.5.0",
            "value": 433,
            "_view_count": null,
            "_view_module_version": "1.5.0",
            "orientation": "horizontal",
            "min": 0,
            "description_tooltip": null,
            "_model_module": "@jupyter-widgets/controls",
            "layout": "IPY_MODEL_98309711316a41f98f6157d518064637"
          }
        },
        "c2537fd874ea459cb4923f22e4fe5dbc": {
          "model_module": "@jupyter-widgets/controls",
          "model_name": "HTMLModel",
          "model_module_version": "1.5.0",
          "state": {
            "_view_name": "HTMLView",
            "style": "IPY_MODEL_45fc602269c54d439637561788dac733",
            "_dom_classes": [],
            "description": "",
            "_model_name": "HTMLModel",
            "placeholder": "​",
            "_view_module": "@jupyter-widgets/controls",
            "_model_module_version": "1.5.0",
            "value": " 433/433 [00:00&lt;00:00, 4.60kB/s]",
            "_view_count": null,
            "_view_module_version": "1.5.0",
            "description_tooltip": null,
            "_model_module": "@jupyter-widgets/controls",
            "layout": "IPY_MODEL_a38b1a7761da4836b554633990811238"
          }
        },
        "414705d60e0b40888f50d2a60923f819": {
          "model_module": "@jupyter-widgets/controls",
          "model_name": "DescriptionStyleModel",
          "model_module_version": "1.5.0",
          "state": {
            "_view_name": "StyleView",
            "_model_name": "DescriptionStyleModel",
            "description_width": "",
            "_view_module": "@jupyter-widgets/base",
            "_model_module_version": "1.5.0",
            "_view_count": null,
            "_view_module_version": "1.2.0",
            "_model_module": "@jupyter-widgets/controls"
          }
        },
        "6f9a86d405e1428b96cbe7d735397768": {
          "model_module": "@jupyter-widgets/base",
          "model_name": "LayoutModel",
          "model_module_version": "1.2.0",
          "state": {
            "_view_name": "LayoutView",
            "grid_template_rows": null,
            "right": null,
            "justify_content": null,
            "_view_module": "@jupyter-widgets/base",
            "overflow": null,
            "_model_module_version": "1.2.0",
            "_view_count": null,
            "flex_flow": null,
            "width": null,
            "min_width": null,
            "border": null,
            "align_items": null,
            "bottom": null,
            "_model_module": "@jupyter-widgets/base",
            "top": null,
            "grid_column": null,
            "overflow_y": null,
            "overflow_x": null,
            "grid_auto_flow": null,
            "grid_area": null,
            "grid_template_columns": null,
            "flex": null,
            "_model_name": "LayoutModel",
            "justify_items": null,
            "grid_row": null,
            "max_height": null,
            "align_content": null,
            "visibility": null,
            "align_self": null,
            "height": null,
            "min_height": null,
            "padding": null,
            "grid_auto_rows": null,
            "grid_gap": null,
            "max_width": null,
            "order": null,
            "_view_module_version": "1.2.0",
            "grid_template_areas": null,
            "object_position": null,
            "object_fit": null,
            "grid_auto_columns": null,
            "margin": null,
            "display": null,
            "left": null
          }
        },
        "5cae0004d15f4963966df107f6e49160": {
          "model_module": "@jupyter-widgets/controls",
          "model_name": "ProgressStyleModel",
          "model_module_version": "1.5.0",
          "state": {
            "_view_name": "StyleView",
            "_model_name": "ProgressStyleModel",
            "description_width": "",
            "_view_module": "@jupyter-widgets/base",
            "_model_module_version": "1.5.0",
            "_view_count": null,
            "_view_module_version": "1.2.0",
            "bar_color": null,
            "_model_module": "@jupyter-widgets/controls"
          }
        },
        "98309711316a41f98f6157d518064637": {
          "model_module": "@jupyter-widgets/base",
          "model_name": "LayoutModel",
          "model_module_version": "1.2.0",
          "state": {
            "_view_name": "LayoutView",
            "grid_template_rows": null,
            "right": null,
            "justify_content": null,
            "_view_module": "@jupyter-widgets/base",
            "overflow": null,
            "_model_module_version": "1.2.0",
            "_view_count": null,
            "flex_flow": null,
            "width": null,
            "min_width": null,
            "border": null,
            "align_items": null,
            "bottom": null,
            "_model_module": "@jupyter-widgets/base",
            "top": null,
            "grid_column": null,
            "overflow_y": null,
            "overflow_x": null,
            "grid_auto_flow": null,
            "grid_area": null,
            "grid_template_columns": null,
            "flex": null,
            "_model_name": "LayoutModel",
            "justify_items": null,
            "grid_row": null,
            "max_height": null,
            "align_content": null,
            "visibility": null,
            "align_self": null,
            "height": null,
            "min_height": null,
            "padding": null,
            "grid_auto_rows": null,
            "grid_gap": null,
            "max_width": null,
            "order": null,
            "_view_module_version": "1.2.0",
            "grid_template_areas": null,
            "object_position": null,
            "object_fit": null,
            "grid_auto_columns": null,
            "margin": null,
            "display": null,
            "left": null
          }
        },
        "45fc602269c54d439637561788dac733": {
          "model_module": "@jupyter-widgets/controls",
          "model_name": "DescriptionStyleModel",
          "model_module_version": "1.5.0",
          "state": {
            "_view_name": "StyleView",
            "_model_name": "DescriptionStyleModel",
            "description_width": "",
            "_view_module": "@jupyter-widgets/base",
            "_model_module_version": "1.5.0",
            "_view_count": null,
            "_view_module_version": "1.2.0",
            "_model_module": "@jupyter-widgets/controls"
          }
        },
        "a38b1a7761da4836b554633990811238": {
          "model_module": "@jupyter-widgets/base",
          "model_name": "LayoutModel",
          "model_module_version": "1.2.0",
          "state": {
            "_view_name": "LayoutView",
            "grid_template_rows": null,
            "right": null,
            "justify_content": null,
            "_view_module": "@jupyter-widgets/base",
            "overflow": null,
            "_model_module_version": "1.2.0",
            "_view_count": null,
            "flex_flow": null,
            "width": null,
            "min_width": null,
            "border": null,
            "align_items": null,
            "bottom": null,
            "_model_module": "@jupyter-widgets/base",
            "top": null,
            "grid_column": null,
            "overflow_y": null,
            "overflow_x": null,
            "grid_auto_flow": null,
            "grid_area": null,
            "grid_template_columns": null,
            "flex": null,
            "_model_name": "LayoutModel",
            "justify_items": null,
            "grid_row": null,
            "max_height": null,
            "align_content": null,
            "visibility": null,
            "align_self": null,
            "height": null,
            "min_height": null,
            "padding": null,
            "grid_auto_rows": null,
            "grid_gap": null,
            "max_width": null,
            "order": null,
            "_view_module_version": "1.2.0",
            "grid_template_areas": null,
            "object_position": null,
            "object_fit": null,
            "grid_auto_columns": null,
            "margin": null,
            "display": null,
            "left": null
          }
        },
        "6b74a3adee7f4f4a900f16b14fef1fc2": {
          "model_module": "@jupyter-widgets/controls",
          "model_name": "HBoxModel",
          "model_module_version": "1.5.0",
          "state": {
            "_view_name": "HBoxView",
            "_dom_classes": [],
            "_model_name": "HBoxModel",
            "_view_module": "@jupyter-widgets/controls",
            "_model_module_version": "1.5.0",
            "_view_count": null,
            "_view_module_version": "1.5.0",
            "box_style": "",
            "layout": "IPY_MODEL_5a86ecd5950641f8b69d9cd634411dda",
            "_model_module": "@jupyter-widgets/controls",
            "children": [
              "IPY_MODEL_dc0913fcd0924464b1269cb05a221e05",
              "IPY_MODEL_7d92f4a1c11b476ab066f46bd9f65d2b",
              "IPY_MODEL_4028c6928c3b4c098db6315a23173a6c"
            ]
          }
        },
        "5a86ecd5950641f8b69d9cd634411dda": {
          "model_module": "@jupyter-widgets/base",
          "model_name": "LayoutModel",
          "model_module_version": "1.2.0",
          "state": {
            "_view_name": "LayoutView",
            "grid_template_rows": null,
            "right": null,
            "justify_content": null,
            "_view_module": "@jupyter-widgets/base",
            "overflow": null,
            "_model_module_version": "1.2.0",
            "_view_count": null,
            "flex_flow": null,
            "width": null,
            "min_width": null,
            "border": null,
            "align_items": null,
            "bottom": null,
            "_model_module": "@jupyter-widgets/base",
            "top": null,
            "grid_column": null,
            "overflow_y": null,
            "overflow_x": null,
            "grid_auto_flow": null,
            "grid_area": null,
            "grid_template_columns": null,
            "flex": null,
            "_model_name": "LayoutModel",
            "justify_items": null,
            "grid_row": null,
            "max_height": null,
            "align_content": null,
            "visibility": null,
            "align_self": null,
            "height": null,
            "min_height": null,
            "padding": null,
            "grid_auto_rows": null,
            "grid_gap": null,
            "max_width": null,
            "order": null,
            "_view_module_version": "1.2.0",
            "grid_template_areas": null,
            "object_position": null,
            "object_fit": null,
            "grid_auto_columns": null,
            "margin": null,
            "display": null,
            "left": null
          }
        },
        "dc0913fcd0924464b1269cb05a221e05": {
          "model_module": "@jupyter-widgets/controls",
          "model_name": "HTMLModel",
          "model_module_version": "1.5.0",
          "state": {
            "_view_name": "HTMLView",
            "style": "IPY_MODEL_85de5ba8091d4bb59bcc98963bdbc8c0",
            "_dom_classes": [],
            "description": "",
            "_model_name": "HTMLModel",
            "placeholder": "​",
            "_view_module": "@jupyter-widgets/controls",
            "_model_module_version": "1.5.0",
            "value": "Downloading: 100%",
            "_view_count": null,
            "_view_module_version": "1.5.0",
            "description_tooltip": null,
            "_model_module": "@jupyter-widgets/controls",
            "layout": "IPY_MODEL_e85fdb1015fa43a390a7f953f168b14d"
          }
        },
        "7d92f4a1c11b476ab066f46bd9f65d2b": {
          "model_module": "@jupyter-widgets/controls",
          "model_name": "FloatProgressModel",
          "model_module_version": "1.5.0",
          "state": {
            "_view_name": "ProgressView",
            "style": "IPY_MODEL_3849bf6ac7e247018c864305d2f133fa",
            "_dom_classes": [],
            "description": "",
            "_model_name": "FloatProgressModel",
            "bar_style": "success",
            "max": 254728,
            "_view_module": "@jupyter-widgets/controls",
            "_model_module_version": "1.5.0",
            "value": 254728,
            "_view_count": null,
            "_view_module_version": "1.5.0",
            "orientation": "horizontal",
            "min": 0,
            "description_tooltip": null,
            "_model_module": "@jupyter-widgets/controls",
            "layout": "IPY_MODEL_7fd53d102eaa4f328ec0424bc6efdea7"
          }
        },
        "4028c6928c3b4c098db6315a23173a6c": {
          "model_module": "@jupyter-widgets/controls",
          "model_name": "HTMLModel",
          "model_module_version": "1.5.0",
          "state": {
            "_view_name": "HTMLView",
            "style": "IPY_MODEL_a4886a46e1514bde91faabfe7289a943",
            "_dom_classes": [],
            "description": "",
            "_model_name": "HTMLModel",
            "placeholder": "​",
            "_view_module": "@jupyter-widgets/controls",
            "_model_module_version": "1.5.0",
            "value": " 249k/249k [00:00&lt;00:00, 7.08kB/s]",
            "_view_count": null,
            "_view_module_version": "1.5.0",
            "description_tooltip": null,
            "_model_module": "@jupyter-widgets/controls",
            "layout": "IPY_MODEL_475df23f238647e98334f12357046d19"
          }
        },
        "85de5ba8091d4bb59bcc98963bdbc8c0": {
          "model_module": "@jupyter-widgets/controls",
          "model_name": "DescriptionStyleModel",
          "model_module_version": "1.5.0",
          "state": {
            "_view_name": "StyleView",
            "_model_name": "DescriptionStyleModel",
            "description_width": "",
            "_view_module": "@jupyter-widgets/base",
            "_model_module_version": "1.5.0",
            "_view_count": null,
            "_view_module_version": "1.2.0",
            "_model_module": "@jupyter-widgets/controls"
          }
        },
        "e85fdb1015fa43a390a7f953f168b14d": {
          "model_module": "@jupyter-widgets/base",
          "model_name": "LayoutModel",
          "model_module_version": "1.2.0",
          "state": {
            "_view_name": "LayoutView",
            "grid_template_rows": null,
            "right": null,
            "justify_content": null,
            "_view_module": "@jupyter-widgets/base",
            "overflow": null,
            "_model_module_version": "1.2.0",
            "_view_count": null,
            "flex_flow": null,
            "width": null,
            "min_width": null,
            "border": null,
            "align_items": null,
            "bottom": null,
            "_model_module": "@jupyter-widgets/base",
            "top": null,
            "grid_column": null,
            "overflow_y": null,
            "overflow_x": null,
            "grid_auto_flow": null,
            "grid_area": null,
            "grid_template_columns": null,
            "flex": null,
            "_model_name": "LayoutModel",
            "justify_items": null,
            "grid_row": null,
            "max_height": null,
            "align_content": null,
            "visibility": null,
            "align_self": null,
            "height": null,
            "min_height": null,
            "padding": null,
            "grid_auto_rows": null,
            "grid_gap": null,
            "max_width": null,
            "order": null,
            "_view_module_version": "1.2.0",
            "grid_template_areas": null,
            "object_position": null,
            "object_fit": null,
            "grid_auto_columns": null,
            "margin": null,
            "display": null,
            "left": null
          }
        },
        "3849bf6ac7e247018c864305d2f133fa": {
          "model_module": "@jupyter-widgets/controls",
          "model_name": "ProgressStyleModel",
          "model_module_version": "1.5.0",
          "state": {
            "_view_name": "StyleView",
            "_model_name": "ProgressStyleModel",
            "description_width": "",
            "_view_module": "@jupyter-widgets/base",
            "_model_module_version": "1.5.0",
            "_view_count": null,
            "_view_module_version": "1.2.0",
            "bar_color": null,
            "_model_module": "@jupyter-widgets/controls"
          }
        },
        "7fd53d102eaa4f328ec0424bc6efdea7": {
          "model_module": "@jupyter-widgets/base",
          "model_name": "LayoutModel",
          "model_module_version": "1.2.0",
          "state": {
            "_view_name": "LayoutView",
            "grid_template_rows": null,
            "right": null,
            "justify_content": null,
            "_view_module": "@jupyter-widgets/base",
            "overflow": null,
            "_model_module_version": "1.2.0",
            "_view_count": null,
            "flex_flow": null,
            "width": null,
            "min_width": null,
            "border": null,
            "align_items": null,
            "bottom": null,
            "_model_module": "@jupyter-widgets/base",
            "top": null,
            "grid_column": null,
            "overflow_y": null,
            "overflow_x": null,
            "grid_auto_flow": null,
            "grid_area": null,
            "grid_template_columns": null,
            "flex": null,
            "_model_name": "LayoutModel",
            "justify_items": null,
            "grid_row": null,
            "max_height": null,
            "align_content": null,
            "visibility": null,
            "align_self": null,
            "height": null,
            "min_height": null,
            "padding": null,
            "grid_auto_rows": null,
            "grid_gap": null,
            "max_width": null,
            "order": null,
            "_view_module_version": "1.2.0",
            "grid_template_areas": null,
            "object_position": null,
            "object_fit": null,
            "grid_auto_columns": null,
            "margin": null,
            "display": null,
            "left": null
          }
        },
        "a4886a46e1514bde91faabfe7289a943": {
          "model_module": "@jupyter-widgets/controls",
          "model_name": "DescriptionStyleModel",
          "model_module_version": "1.5.0",
          "state": {
            "_view_name": "StyleView",
            "_model_name": "DescriptionStyleModel",
            "description_width": "",
            "_view_module": "@jupyter-widgets/base",
            "_model_module_version": "1.5.0",
            "_view_count": null,
            "_view_module_version": "1.2.0",
            "_model_module": "@jupyter-widgets/controls"
          }
        },
        "475df23f238647e98334f12357046d19": {
          "model_module": "@jupyter-widgets/base",
          "model_name": "LayoutModel",
          "model_module_version": "1.2.0",
          "state": {
            "_view_name": "LayoutView",
            "grid_template_rows": null,
            "right": null,
            "justify_content": null,
            "_view_module": "@jupyter-widgets/base",
            "overflow": null,
            "_model_module_version": "1.2.0",
            "_view_count": null,
            "flex_flow": null,
            "width": null,
            "min_width": null,
            "border": null,
            "align_items": null,
            "bottom": null,
            "_model_module": "@jupyter-widgets/base",
            "top": null,
            "grid_column": null,
            "overflow_y": null,
            "overflow_x": null,
            "grid_auto_flow": null,
            "grid_area": null,
            "grid_template_columns": null,
            "flex": null,
            "_model_name": "LayoutModel",
            "justify_items": null,
            "grid_row": null,
            "max_height": null,
            "align_content": null,
            "visibility": null,
            "align_self": null,
            "height": null,
            "min_height": null,
            "padding": null,
            "grid_auto_rows": null,
            "grid_gap": null,
            "max_width": null,
            "order": null,
            "_view_module_version": "1.2.0",
            "grid_template_areas": null,
            "object_position": null,
            "object_fit": null,
            "grid_auto_columns": null,
            "margin": null,
            "display": null,
            "left": null
          }
        },
        "8af6ac032a6848928a71ba73814a7417": {
          "model_module": "@jupyter-widgets/controls",
          "model_name": "HBoxModel",
          "model_module_version": "1.5.0",
          "state": {
            "_view_name": "HBoxView",
            "_dom_classes": [],
            "_model_name": "HBoxModel",
            "_view_module": "@jupyter-widgets/controls",
            "_model_module_version": "1.5.0",
            "_view_count": null,
            "_view_module_version": "1.5.0",
            "box_style": "",
            "layout": "IPY_MODEL_93d190e72ffc4f96b06b71fdfbae3991",
            "_model_module": "@jupyter-widgets/controls",
            "children": [
              "IPY_MODEL_14c355dc6a0d4591881473c8906d4abb",
              "IPY_MODEL_4ccd6815183546f596bdbee0b1acdd44",
              "IPY_MODEL_aaba641b1cd94320bd2056119d6ab086"
            ]
          }
        },
        "93d190e72ffc4f96b06b71fdfbae3991": {
          "model_module": "@jupyter-widgets/base",
          "model_name": "LayoutModel",
          "model_module_version": "1.2.0",
          "state": {
            "_view_name": "LayoutView",
            "grid_template_rows": null,
            "right": null,
            "justify_content": null,
            "_view_module": "@jupyter-widgets/base",
            "overflow": null,
            "_model_module_version": "1.2.0",
            "_view_count": null,
            "flex_flow": null,
            "width": null,
            "min_width": null,
            "border": null,
            "align_items": null,
            "bottom": null,
            "_model_module": "@jupyter-widgets/base",
            "top": null,
            "grid_column": null,
            "overflow_y": null,
            "overflow_x": null,
            "grid_auto_flow": null,
            "grid_area": null,
            "grid_template_columns": null,
            "flex": null,
            "_model_name": "LayoutModel",
            "justify_items": null,
            "grid_row": null,
            "max_height": null,
            "align_content": null,
            "visibility": null,
            "align_self": null,
            "height": null,
            "min_height": null,
            "padding": null,
            "grid_auto_rows": null,
            "grid_gap": null,
            "max_width": null,
            "order": null,
            "_view_module_version": "1.2.0",
            "grid_template_areas": null,
            "object_position": null,
            "object_fit": null,
            "grid_auto_columns": null,
            "margin": null,
            "display": null,
            "left": null
          }
        },
        "14c355dc6a0d4591881473c8906d4abb": {
          "model_module": "@jupyter-widgets/controls",
          "model_name": "HTMLModel",
          "model_module_version": "1.5.0",
          "state": {
            "_view_name": "HTMLView",
            "style": "IPY_MODEL_857afe7219f04b7dbc8f064b12072314",
            "_dom_classes": [],
            "description": "",
            "_model_name": "HTMLModel",
            "placeholder": "​",
            "_view_module": "@jupyter-widgets/controls",
            "_model_module_version": "1.5.0",
            "value": "Downloading: 100%",
            "_view_count": null,
            "_view_module_version": "1.5.0",
            "description_tooltip": null,
            "_model_module": "@jupyter-widgets/controls",
            "layout": "IPY_MODEL_5759530f0ef34a3087d11fbff74256bf"
          }
        },
        "4ccd6815183546f596bdbee0b1acdd44": {
          "model_module": "@jupyter-widgets/controls",
          "model_name": "FloatProgressModel",
          "model_module_version": "1.5.0",
          "state": {
            "_view_name": "ProgressView",
            "style": "IPY_MODEL_f255e75bc81c48369cf92c9fb7af0f4d",
            "_dom_classes": [],
            "description": "",
            "_model_name": "FloatProgressModel",
            "bar_style": "success",
            "max": 485115,
            "_view_module": "@jupyter-widgets/controls",
            "_model_module_version": "1.5.0",
            "value": 485115,
            "_view_count": null,
            "_view_module_version": "1.5.0",
            "orientation": "horizontal",
            "min": 0,
            "description_tooltip": null,
            "_model_module": "@jupyter-widgets/controls",
            "layout": "IPY_MODEL_e6346c3aa6564f548be5ea4e177153bf"
          }
        },
        "aaba641b1cd94320bd2056119d6ab086": {
          "model_module": "@jupyter-widgets/controls",
          "model_name": "HTMLModel",
          "model_module_version": "1.5.0",
          "state": {
            "_view_name": "HTMLView",
            "style": "IPY_MODEL_6fa8678841cc42a78e1e644b65a975bf",
            "_dom_classes": [],
            "description": "",
            "_model_name": "HTMLModel",
            "placeholder": "​",
            "_view_module": "@jupyter-widgets/controls",
            "_model_module_version": "1.5.0",
            "value": " 474k/474k [00:00&lt;00:00, 1.28MB/s]",
            "_view_count": null,
            "_view_module_version": "1.5.0",
            "description_tooltip": null,
            "_model_module": "@jupyter-widgets/controls",
            "layout": "IPY_MODEL_a9d939c09212411a9078cc14255a3ef5"
          }
        },
        "857afe7219f04b7dbc8f064b12072314": {
          "model_module": "@jupyter-widgets/controls",
          "model_name": "DescriptionStyleModel",
          "model_module_version": "1.5.0",
          "state": {
            "_view_name": "StyleView",
            "_model_name": "DescriptionStyleModel",
            "description_width": "",
            "_view_module": "@jupyter-widgets/base",
            "_model_module_version": "1.5.0",
            "_view_count": null,
            "_view_module_version": "1.2.0",
            "_model_module": "@jupyter-widgets/controls"
          }
        },
        "5759530f0ef34a3087d11fbff74256bf": {
          "model_module": "@jupyter-widgets/base",
          "model_name": "LayoutModel",
          "model_module_version": "1.2.0",
          "state": {
            "_view_name": "LayoutView",
            "grid_template_rows": null,
            "right": null,
            "justify_content": null,
            "_view_module": "@jupyter-widgets/base",
            "overflow": null,
            "_model_module_version": "1.2.0",
            "_view_count": null,
            "flex_flow": null,
            "width": null,
            "min_width": null,
            "border": null,
            "align_items": null,
            "bottom": null,
            "_model_module": "@jupyter-widgets/base",
            "top": null,
            "grid_column": null,
            "overflow_y": null,
            "overflow_x": null,
            "grid_auto_flow": null,
            "grid_area": null,
            "grid_template_columns": null,
            "flex": null,
            "_model_name": "LayoutModel",
            "justify_items": null,
            "grid_row": null,
            "max_height": null,
            "align_content": null,
            "visibility": null,
            "align_self": null,
            "height": null,
            "min_height": null,
            "padding": null,
            "grid_auto_rows": null,
            "grid_gap": null,
            "max_width": null,
            "order": null,
            "_view_module_version": "1.2.0",
            "grid_template_areas": null,
            "object_position": null,
            "object_fit": null,
            "grid_auto_columns": null,
            "margin": null,
            "display": null,
            "left": null
          }
        },
        "f255e75bc81c48369cf92c9fb7af0f4d": {
          "model_module": "@jupyter-widgets/controls",
          "model_name": "ProgressStyleModel",
          "model_module_version": "1.5.0",
          "state": {
            "_view_name": "StyleView",
            "_model_name": "ProgressStyleModel",
            "description_width": "",
            "_view_module": "@jupyter-widgets/base",
            "_model_module_version": "1.5.0",
            "_view_count": null,
            "_view_module_version": "1.2.0",
            "bar_color": null,
            "_model_module": "@jupyter-widgets/controls"
          }
        },
        "e6346c3aa6564f548be5ea4e177153bf": {
          "model_module": "@jupyter-widgets/base",
          "model_name": "LayoutModel",
          "model_module_version": "1.2.0",
          "state": {
            "_view_name": "LayoutView",
            "grid_template_rows": null,
            "right": null,
            "justify_content": null,
            "_view_module": "@jupyter-widgets/base",
            "overflow": null,
            "_model_module_version": "1.2.0",
            "_view_count": null,
            "flex_flow": null,
            "width": null,
            "min_width": null,
            "border": null,
            "align_items": null,
            "bottom": null,
            "_model_module": "@jupyter-widgets/base",
            "top": null,
            "grid_column": null,
            "overflow_y": null,
            "overflow_x": null,
            "grid_auto_flow": null,
            "grid_area": null,
            "grid_template_columns": null,
            "flex": null,
            "_model_name": "LayoutModel",
            "justify_items": null,
            "grid_row": null,
            "max_height": null,
            "align_content": null,
            "visibility": null,
            "align_self": null,
            "height": null,
            "min_height": null,
            "padding": null,
            "grid_auto_rows": null,
            "grid_gap": null,
            "max_width": null,
            "order": null,
            "_view_module_version": "1.2.0",
            "grid_template_areas": null,
            "object_position": null,
            "object_fit": null,
            "grid_auto_columns": null,
            "margin": null,
            "display": null,
            "left": null
          }
        },
        "6fa8678841cc42a78e1e644b65a975bf": {
          "model_module": "@jupyter-widgets/controls",
          "model_name": "DescriptionStyleModel",
          "model_module_version": "1.5.0",
          "state": {
            "_view_name": "StyleView",
            "_model_name": "DescriptionStyleModel",
            "description_width": "",
            "_view_module": "@jupyter-widgets/base",
            "_model_module_version": "1.5.0",
            "_view_count": null,
            "_view_module_version": "1.2.0",
            "_model_module": "@jupyter-widgets/controls"
          }
        },
        "a9d939c09212411a9078cc14255a3ef5": {
          "model_module": "@jupyter-widgets/base",
          "model_name": "LayoutModel",
          "model_module_version": "1.2.0",
          "state": {
            "_view_name": "LayoutView",
            "grid_template_rows": null,
            "right": null,
            "justify_content": null,
            "_view_module": "@jupyter-widgets/base",
            "overflow": null,
            "_model_module_version": "1.2.0",
            "_view_count": null,
            "flex_flow": null,
            "width": null,
            "min_width": null,
            "border": null,
            "align_items": null,
            "bottom": null,
            "_model_module": "@jupyter-widgets/base",
            "top": null,
            "grid_column": null,
            "overflow_y": null,
            "overflow_x": null,
            "grid_auto_flow": null,
            "grid_area": null,
            "grid_template_columns": null,
            "flex": null,
            "_model_name": "LayoutModel",
            "justify_items": null,
            "grid_row": null,
            "max_height": null,
            "align_content": null,
            "visibility": null,
            "align_self": null,
            "height": null,
            "min_height": null,
            "padding": null,
            "grid_auto_rows": null,
            "grid_gap": null,
            "max_width": null,
            "order": null,
            "_view_module_version": "1.2.0",
            "grid_template_areas": null,
            "object_position": null,
            "object_fit": null,
            "grid_auto_columns": null,
            "margin": null,
            "display": null,
            "left": null
          }
        },
        "2d7400bdeabc4e48b15ee8424805f78f": {
          "model_module": "@jupyter-widgets/controls",
          "model_name": "HBoxModel",
          "model_module_version": "1.5.0",
          "state": {
            "_view_name": "HBoxView",
            "_dom_classes": [],
            "_model_name": "HBoxModel",
            "_view_module": "@jupyter-widgets/controls",
            "_model_module_version": "1.5.0",
            "_view_count": null,
            "_view_module_version": "1.5.0",
            "box_style": "",
            "layout": "IPY_MODEL_5c6150ac5bb34b2495a3296b5d51d86e",
            "_model_module": "@jupyter-widgets/controls",
            "children": [
              "IPY_MODEL_03752411ffa5482da8ce012c11bc4ec8",
              "IPY_MODEL_634adc4bff2745408537da84a2fc17eb",
              "IPY_MODEL_11b950c88cea41239a13d843107e35f8"
            ]
          }
        },
        "5c6150ac5bb34b2495a3296b5d51d86e": {
          "model_module": "@jupyter-widgets/base",
          "model_name": "LayoutModel",
          "model_module_version": "1.2.0",
          "state": {
            "_view_name": "LayoutView",
            "grid_template_rows": null,
            "right": null,
            "justify_content": null,
            "_view_module": "@jupyter-widgets/base",
            "overflow": null,
            "_model_module_version": "1.2.0",
            "_view_count": null,
            "flex_flow": null,
            "width": null,
            "min_width": null,
            "border": null,
            "align_items": null,
            "bottom": null,
            "_model_module": "@jupyter-widgets/base",
            "top": null,
            "grid_column": null,
            "overflow_y": null,
            "overflow_x": null,
            "grid_auto_flow": null,
            "grid_area": null,
            "grid_template_columns": null,
            "flex": null,
            "_model_name": "LayoutModel",
            "justify_items": null,
            "grid_row": null,
            "max_height": null,
            "align_content": null,
            "visibility": null,
            "align_self": null,
            "height": null,
            "min_height": null,
            "padding": null,
            "grid_auto_rows": null,
            "grid_gap": null,
            "max_width": null,
            "order": null,
            "_view_module_version": "1.2.0",
            "grid_template_areas": null,
            "object_position": null,
            "object_fit": null,
            "grid_auto_columns": null,
            "margin": null,
            "display": null,
            "left": null
          }
        },
        "03752411ffa5482da8ce012c11bc4ec8": {
          "model_module": "@jupyter-widgets/controls",
          "model_name": "HTMLModel",
          "model_module_version": "1.5.0",
          "state": {
            "_view_name": "HTMLView",
            "style": "IPY_MODEL_d5bc3564342e49cab26299915ee427e9",
            "_dom_classes": [],
            "description": "",
            "_model_name": "HTMLModel",
            "placeholder": "​",
            "_view_module": "@jupyter-widgets/controls",
            "_model_module_version": "1.5.0",
            "value": "Downloading: 100%",
            "_view_count": null,
            "_view_module_version": "1.5.0",
            "description_tooltip": null,
            "_model_module": "@jupyter-widgets/controls",
            "layout": "IPY_MODEL_6c9574d76ca34f8d8bb2753a411641ea"
          }
        },
        "634adc4bff2745408537da84a2fc17eb": {
          "model_module": "@jupyter-widgets/controls",
          "model_name": "FloatProgressModel",
          "model_module_version": "1.5.0",
          "state": {
            "_view_name": "ProgressView",
            "style": "IPY_MODEL_b2576053460c4f23883075bbbd02f62a",
            "_dom_classes": [],
            "description": "",
            "_model_name": "FloatProgressModel",
            "bar_style": "success",
            "max": 438869143,
            "_view_module": "@jupyter-widgets/controls",
            "_model_module_version": "1.5.0",
            "value": 438869143,
            "_view_count": null,
            "_view_module_version": "1.5.0",
            "orientation": "horizontal",
            "min": 0,
            "description_tooltip": null,
            "_model_module": "@jupyter-widgets/controls",
            "layout": "IPY_MODEL_21657db2c21b4cdeb4376dcabc4b4746"
          }
        },
        "11b950c88cea41239a13d843107e35f8": {
          "model_module": "@jupyter-widgets/controls",
          "model_name": "HTMLModel",
          "model_module_version": "1.5.0",
          "state": {
            "_view_name": "HTMLView",
            "style": "IPY_MODEL_498aaf81fc4345efa4f71d4ab2d9de27",
            "_dom_classes": [],
            "description": "",
            "_model_name": "HTMLModel",
            "placeholder": "​",
            "_view_module": "@jupyter-widgets/controls",
            "_model_module_version": "1.5.0",
            "value": " 419M/419M [00:21&lt;00:00, 31.7MB/s]",
            "_view_count": null,
            "_view_module_version": "1.5.0",
            "description_tooltip": null,
            "_model_module": "@jupyter-widgets/controls",
            "layout": "IPY_MODEL_d54711a590e04e5d880076f20f623b46"
          }
        },
        "d5bc3564342e49cab26299915ee427e9": {
          "model_module": "@jupyter-widgets/controls",
          "model_name": "DescriptionStyleModel",
          "model_module_version": "1.5.0",
          "state": {
            "_view_name": "StyleView",
            "_model_name": "DescriptionStyleModel",
            "description_width": "",
            "_view_module": "@jupyter-widgets/base",
            "_model_module_version": "1.5.0",
            "_view_count": null,
            "_view_module_version": "1.2.0",
            "_model_module": "@jupyter-widgets/controls"
          }
        },
        "6c9574d76ca34f8d8bb2753a411641ea": {
          "model_module": "@jupyter-widgets/base",
          "model_name": "LayoutModel",
          "model_module_version": "1.2.0",
          "state": {
            "_view_name": "LayoutView",
            "grid_template_rows": null,
            "right": null,
            "justify_content": null,
            "_view_module": "@jupyter-widgets/base",
            "overflow": null,
            "_model_module_version": "1.2.0",
            "_view_count": null,
            "flex_flow": null,
            "width": null,
            "min_width": null,
            "border": null,
            "align_items": null,
            "bottom": null,
            "_model_module": "@jupyter-widgets/base",
            "top": null,
            "grid_column": null,
            "overflow_y": null,
            "overflow_x": null,
            "grid_auto_flow": null,
            "grid_area": null,
            "grid_template_columns": null,
            "flex": null,
            "_model_name": "LayoutModel",
            "justify_items": null,
            "grid_row": null,
            "max_height": null,
            "align_content": null,
            "visibility": null,
            "align_self": null,
            "height": null,
            "min_height": null,
            "padding": null,
            "grid_auto_rows": null,
            "grid_gap": null,
            "max_width": null,
            "order": null,
            "_view_module_version": "1.2.0",
            "grid_template_areas": null,
            "object_position": null,
            "object_fit": null,
            "grid_auto_columns": null,
            "margin": null,
            "display": null,
            "left": null
          }
        },
        "b2576053460c4f23883075bbbd02f62a": {
          "model_module": "@jupyter-widgets/controls",
          "model_name": "ProgressStyleModel",
          "model_module_version": "1.5.0",
          "state": {
            "_view_name": "StyleView",
            "_model_name": "ProgressStyleModel",
            "description_width": "",
            "_view_module": "@jupyter-widgets/base",
            "_model_module_version": "1.5.0",
            "_view_count": null,
            "_view_module_version": "1.2.0",
            "bar_color": null,
            "_model_module": "@jupyter-widgets/controls"
          }
        },
        "21657db2c21b4cdeb4376dcabc4b4746": {
          "model_module": "@jupyter-widgets/base",
          "model_name": "LayoutModel",
          "model_module_version": "1.2.0",
          "state": {
            "_view_name": "LayoutView",
            "grid_template_rows": null,
            "right": null,
            "justify_content": null,
            "_view_module": "@jupyter-widgets/base",
            "overflow": null,
            "_model_module_version": "1.2.0",
            "_view_count": null,
            "flex_flow": null,
            "width": null,
            "min_width": null,
            "border": null,
            "align_items": null,
            "bottom": null,
            "_model_module": "@jupyter-widgets/base",
            "top": null,
            "grid_column": null,
            "overflow_y": null,
            "overflow_x": null,
            "grid_auto_flow": null,
            "grid_area": null,
            "grid_template_columns": null,
            "flex": null,
            "_model_name": "LayoutModel",
            "justify_items": null,
            "grid_row": null,
            "max_height": null,
            "align_content": null,
            "visibility": null,
            "align_self": null,
            "height": null,
            "min_height": null,
            "padding": null,
            "grid_auto_rows": null,
            "grid_gap": null,
            "max_width": null,
            "order": null,
            "_view_module_version": "1.2.0",
            "grid_template_areas": null,
            "object_position": null,
            "object_fit": null,
            "grid_auto_columns": null,
            "margin": null,
            "display": null,
            "left": null
          }
        },
        "498aaf81fc4345efa4f71d4ab2d9de27": {
          "model_module": "@jupyter-widgets/controls",
          "model_name": "DescriptionStyleModel",
          "model_module_version": "1.5.0",
          "state": {
            "_view_name": "StyleView",
            "_model_name": "DescriptionStyleModel",
            "description_width": "",
            "_view_module": "@jupyter-widgets/base",
            "_model_module_version": "1.5.0",
            "_view_count": null,
            "_view_module_version": "1.2.0",
            "_model_module": "@jupyter-widgets/controls"
          }
        },
        "d54711a590e04e5d880076f20f623b46": {
          "model_module": "@jupyter-widgets/base",
          "model_name": "LayoutModel",
          "model_module_version": "1.2.0",
          "state": {
            "_view_name": "LayoutView",
            "grid_template_rows": null,
            "right": null,
            "justify_content": null,
            "_view_module": "@jupyter-widgets/base",
            "overflow": null,
            "_model_module_version": "1.2.0",
            "_view_count": null,
            "flex_flow": null,
            "width": null,
            "min_width": null,
            "border": null,
            "align_items": null,
            "bottom": null,
            "_model_module": "@jupyter-widgets/base",
            "top": null,
            "grid_column": null,
            "overflow_y": null,
            "overflow_x": null,
            "grid_auto_flow": null,
            "grid_area": null,
            "grid_template_columns": null,
            "flex": null,
            "_model_name": "LayoutModel",
            "justify_items": null,
            "grid_row": null,
            "max_height": null,
            "align_content": null,
            "visibility": null,
            "align_self": null,
            "height": null,
            "min_height": null,
            "padding": null,
            "grid_auto_rows": null,
            "grid_gap": null,
            "max_width": null,
            "order": null,
            "_view_module_version": "1.2.0",
            "grid_template_areas": null,
            "object_position": null,
            "object_fit": null,
            "grid_auto_columns": null,
            "margin": null,
            "display": null,
            "left": null
          }
        }
      }
    }
  },
  "cells": [
    {
      "cell_type": "markdown",
      "metadata": {
        "id": "view-in-github",
        "colab_type": "text"
      },
      "source": [
        "<a href=\"https://colab.research.google.com/github/tig1795/word_embeddings_Lexika/blob/main/Bert_bert_base_german_cased_Synonyme.ipynb\" target=\"_parent\"><img src=\"https://colab.research.google.com/assets/colab-badge.svg\" alt=\"Open In Colab\"/></a>"
      ]
    },
    {
      "cell_type": "markdown",
      "source": [
        "# Imports und Vorbereitungen"
      ],
      "metadata": {
        "id": "9yO_eqEqF9kh"
      }
    },
    {
      "cell_type": "code",
      "execution_count": null,
      "metadata": {
        "colab": {
          "base_uri": "https://localhost:8080/"
        },
        "id": "SoWfw0ZLFbo3",
        "outputId": "4b4de07a-d907-4e23-f86a-8c99eb142170"
      },
      "outputs": [
        {
          "output_type": "stream",
          "name": "stdout",
          "text": [
            "Found GPU at: /device:GPU:0\n"
          ]
        }
      ],
      "source": [
        "import tensorflow as tf\n",
        "\n",
        "# Get the GPU device name.\n",
        "device_name = tf.test.gpu_device_name()\n",
        "\n",
        "# The device name should look like the following:\n",
        "if device_name == '/device:GPU:0':\n",
        "    print('Found GPU at: {}'.format(device_name))\n",
        "else:\n",
        "    raise SystemError('GPU device not found')"
      ]
    },
    {
      "cell_type": "code",
      "source": [
        "import torch\n",
        "\n",
        "# If there's a GPU available...\n",
        "if torch.cuda.is_available():    \n",
        "\n",
        "    # Tell PyTorch to use the GPU.    \n",
        "    device = torch.device(\"cuda\")\n",
        "\n",
        "    print('There are %d GPU(s) available.' % torch.cuda.device_count())\n",
        "\n",
        "    print('We will use the GPU:', torch.cuda.get_device_name(0))\n",
        "\n",
        "# If not...\n",
        "else:\n",
        "    print('No GPU available, using the CPU instead.')\n",
        "    device = torch.device(\"cpu\")"
      ],
      "metadata": {
        "colab": {
          "base_uri": "https://localhost:8080/"
        },
        "id": "o2zy3X1AFitN",
        "outputId": "83b2efd3-0eb9-48ff-c238-945348246695"
      },
      "execution_count": null,
      "outputs": [
        {
          "output_type": "stream",
          "name": "stdout",
          "text": [
            "There are 1 GPU(s) available.\n",
            "We will use the GPU: Tesla K80\n"
          ]
        }
      ]
    },
    {
      "cell_type": "code",
      "source": [
        "!pip install transformers"
      ],
      "metadata": {
        "colab": {
          "base_uri": "https://localhost:8080/"
        },
        "id": "laJhsBp6FqBs",
        "outputId": "d1bf2b0d-5d4b-4b6d-ecc9-2c0ac3a3ef4e"
      },
      "execution_count": null,
      "outputs": [
        {
          "output_type": "stream",
          "name": "stdout",
          "text": [
            "Collecting transformers\n",
            "  Downloading transformers-4.16.2-py3-none-any.whl (3.5 MB)\n",
            "\u001b[K     |████████████████████████████████| 3.5 MB 5.3 MB/s \n",
            "\u001b[?25hCollecting pyyaml>=5.1\n",
            "  Downloading PyYAML-6.0-cp37-cp37m-manylinux_2_5_x86_64.manylinux1_x86_64.manylinux_2_12_x86_64.manylinux2010_x86_64.whl (596 kB)\n",
            "\u001b[K     |████████████████████████████████| 596 kB 41.9 MB/s \n",
            "\u001b[?25hCollecting huggingface-hub<1.0,>=0.1.0\n",
            "  Downloading huggingface_hub-0.4.0-py3-none-any.whl (67 kB)\n",
            "\u001b[K     |████████████████████████████████| 67 kB 5.1 MB/s \n",
            "\u001b[?25hCollecting sacremoses\n",
            "  Downloading sacremoses-0.0.47-py2.py3-none-any.whl (895 kB)\n",
            "\u001b[K     |████████████████████████████████| 895 kB 43.1 MB/s \n",
            "\u001b[?25hRequirement already satisfied: numpy>=1.17 in /usr/local/lib/python3.7/dist-packages (from transformers) (1.21.5)\n",
            "Collecting tokenizers!=0.11.3,>=0.10.1\n",
            "  Downloading tokenizers-0.11.5-cp37-cp37m-manylinux_2_12_x86_64.manylinux2010_x86_64.whl (6.8 MB)\n",
            "\u001b[K     |████████████████████████████████| 6.8 MB 30.8 MB/s \n",
            "\u001b[?25hRequirement already satisfied: importlib-metadata in /usr/local/lib/python3.7/dist-packages (from transformers) (4.11.1)\n",
            "Requirement already satisfied: packaging>=20.0 in /usr/local/lib/python3.7/dist-packages (from transformers) (21.3)\n",
            "Requirement already satisfied: tqdm>=4.27 in /usr/local/lib/python3.7/dist-packages (from transformers) (4.62.3)\n",
            "Requirement already satisfied: regex!=2019.12.17 in /usr/local/lib/python3.7/dist-packages (from transformers) (2019.12.20)\n",
            "Requirement already satisfied: filelock in /usr/local/lib/python3.7/dist-packages (from transformers) (3.6.0)\n",
            "Requirement already satisfied: requests in /usr/local/lib/python3.7/dist-packages (from transformers) (2.23.0)\n",
            "Requirement already satisfied: typing-extensions>=3.7.4.3 in /usr/local/lib/python3.7/dist-packages (from huggingface-hub<1.0,>=0.1.0->transformers) (3.10.0.2)\n",
            "Requirement already satisfied: pyparsing!=3.0.5,>=2.0.2 in /usr/local/lib/python3.7/dist-packages (from packaging>=20.0->transformers) (3.0.7)\n",
            "Requirement already satisfied: zipp>=0.5 in /usr/local/lib/python3.7/dist-packages (from importlib-metadata->transformers) (3.7.0)\n",
            "Requirement already satisfied: idna<3,>=2.5 in /usr/local/lib/python3.7/dist-packages (from requests->transformers) (2.10)\n",
            "Requirement already satisfied: certifi>=2017.4.17 in /usr/local/lib/python3.7/dist-packages (from requests->transformers) (2021.10.8)\n",
            "Requirement already satisfied: urllib3!=1.25.0,!=1.25.1,<1.26,>=1.21.1 in /usr/local/lib/python3.7/dist-packages (from requests->transformers) (1.24.3)\n",
            "Requirement already satisfied: chardet<4,>=3.0.2 in /usr/local/lib/python3.7/dist-packages (from requests->transformers) (3.0.4)\n",
            "Requirement already satisfied: six in /usr/local/lib/python3.7/dist-packages (from sacremoses->transformers) (1.15.0)\n",
            "Requirement already satisfied: click in /usr/local/lib/python3.7/dist-packages (from sacremoses->transformers) (7.1.2)\n",
            "Requirement already satisfied: joblib in /usr/local/lib/python3.7/dist-packages (from sacremoses->transformers) (1.1.0)\n",
            "Installing collected packages: pyyaml, tokenizers, sacremoses, huggingface-hub, transformers\n",
            "  Attempting uninstall: pyyaml\n",
            "    Found existing installation: PyYAML 3.13\n",
            "    Uninstalling PyYAML-3.13:\n",
            "      Successfully uninstalled PyYAML-3.13\n",
            "Successfully installed huggingface-hub-0.4.0 pyyaml-6.0 sacremoses-0.0.47 tokenizers-0.11.5 transformers-4.16.2\n"
          ]
        }
      ]
    },
    {
      "cell_type": "markdown",
      "source": [
        "# Laden des Tokenizers und des Modells"
      ],
      "metadata": {
        "id": "HkA44A0lGDgI"
      }
    },
    {
      "cell_type": "code",
      "source": [
        "import torch\n",
        "from transformers import AutoModel, AutoTokenizer"
      ],
      "metadata": {
        "id": "z7OzKWDBFzb3"
      },
      "execution_count": null,
      "outputs": []
    },
    {
      "cell_type": "code",
      "source": [
        "tokenizer = AutoTokenizer.from_pretrained('bert-base-german-cased')"
      ],
      "metadata": {
        "colab": {
          "base_uri": "https://localhost:8080/",
          "height": 201,
          "referenced_widgets": [
            "e6bc0a080a85496f95b787a854b4fbb8",
            "f79e6f5e75f245dc8796d126aaa959c8",
            "d6d6554f4d74437faccc93bceeb0ca11",
            "165c6a6be421423f9202afd5e457f078",
            "5afd0cf55b8e41e8b55c02cc3dabeb8a",
            "a1ca7a603130469fa14426ebf41ad381",
            "297bbc015d514b1b9029553118d372c6",
            "ecb9ebb4170f4cdba80fa7e356ac77b2",
            "723bb3d425b04411aa0455fd39a8996d",
            "f6144b99251341d3be85f149c7b1e00e",
            "8884c8d2ff1c4e00a876b724c7fb0b10",
            "84cfeac269f8457aad06c0532a831f7c",
            "db4b538e110d448896fc5f59610410b6",
            "f5449d64717841dca5e8223b64c6e085",
            "0984f2b9f4de43548314c307ad2c832a",
            "c2537fd874ea459cb4923f22e4fe5dbc",
            "414705d60e0b40888f50d2a60923f819",
            "6f9a86d405e1428b96cbe7d735397768",
            "5cae0004d15f4963966df107f6e49160",
            "98309711316a41f98f6157d518064637",
            "45fc602269c54d439637561788dac733",
            "a38b1a7761da4836b554633990811238",
            "6b74a3adee7f4f4a900f16b14fef1fc2",
            "5a86ecd5950641f8b69d9cd634411dda",
            "dc0913fcd0924464b1269cb05a221e05",
            "7d92f4a1c11b476ab066f46bd9f65d2b",
            "4028c6928c3b4c098db6315a23173a6c",
            "85de5ba8091d4bb59bcc98963bdbc8c0",
            "e85fdb1015fa43a390a7f953f168b14d",
            "3849bf6ac7e247018c864305d2f133fa",
            "7fd53d102eaa4f328ec0424bc6efdea7",
            "a4886a46e1514bde91faabfe7289a943",
            "475df23f238647e98334f12357046d19",
            "8af6ac032a6848928a71ba73814a7417",
            "93d190e72ffc4f96b06b71fdfbae3991",
            "14c355dc6a0d4591881473c8906d4abb",
            "4ccd6815183546f596bdbee0b1acdd44",
            "aaba641b1cd94320bd2056119d6ab086",
            "857afe7219f04b7dbc8f064b12072314",
            "5759530f0ef34a3087d11fbff74256bf",
            "f255e75bc81c48369cf92c9fb7af0f4d",
            "e6346c3aa6564f548be5ea4e177153bf",
            "6fa8678841cc42a78e1e644b65a975bf",
            "a9d939c09212411a9078cc14255a3ef5"
          ]
        },
        "id": "cQCtLKbzGK1Y",
        "outputId": "c60f9637-aa8a-422e-b201-3d3be6dbc024"
      },
      "execution_count": null,
      "outputs": [
        {
          "output_type": "display_data",
          "data": {
            "application/vnd.jupyter.widget-view+json": {
              "model_id": "e6bc0a080a85496f95b787a854b4fbb8",
              "version_minor": 0,
              "version_major": 2
            },
            "text/plain": [
              "Downloading:   0%|          | 0.00/29.0 [00:00<?, ?B/s]"
            ]
          },
          "metadata": {}
        },
        {
          "output_type": "display_data",
          "data": {
            "application/vnd.jupyter.widget-view+json": {
              "model_id": "84cfeac269f8457aad06c0532a831f7c",
              "version_minor": 0,
              "version_major": 2
            },
            "text/plain": [
              "Downloading:   0%|          | 0.00/433 [00:00<?, ?B/s]"
            ]
          },
          "metadata": {}
        },
        {
          "output_type": "display_data",
          "data": {
            "application/vnd.jupyter.widget-view+json": {
              "model_id": "6b74a3adee7f4f4a900f16b14fef1fc2",
              "version_minor": 0,
              "version_major": 2
            },
            "text/plain": [
              "Downloading:   0%|          | 0.00/249k [00:00<?, ?B/s]"
            ]
          },
          "metadata": {}
        },
        {
          "output_type": "display_data",
          "data": {
            "application/vnd.jupyter.widget-view+json": {
              "model_id": "8af6ac032a6848928a71ba73814a7417",
              "version_minor": 0,
              "version_major": 2
            },
            "text/plain": [
              "Downloading:   0%|          | 0.00/474k [00:00<?, ?B/s]"
            ]
          },
          "metadata": {}
        }
      ]
    },
    {
      "cell_type": "code",
      "source": [
        "text = \"bank\"\n",
        "marked_text = \"[CLS] \" + text + \" [SEP]\"\n",
        "\n",
        "# Tokenize our sentence with the BERT tokenizer.\n",
        "tokenized_text = tokenizer.tokenize(marked_text)\n",
        "\n",
        "# Print out the tokens.\n",
        "print (tokenized_text)"
      ],
      "metadata": {
        "colab": {
          "base_uri": "https://localhost:8080/"
        },
        "id": "QBBGCURhGLfv",
        "outputId": "328c176e-f267-4249-8dd9-3875f43d7817"
      },
      "execution_count": null,
      "outputs": [
        {
          "output_type": "stream",
          "name": "stdout",
          "text": [
            "['[CLS]', 'b', '##ank', '[SEP]']\n"
          ]
        }
      ]
    },
    {
      "cell_type": "code",
      "source": [
        "indexed_tokens = tokenizer.convert_tokens_to_ids(tokenized_text)"
      ],
      "metadata": {
        "id": "YENAdzkGGQYZ"
      },
      "execution_count": null,
      "outputs": []
    },
    {
      "cell_type": "code",
      "source": [
        "indexed_tokens"
      ],
      "metadata": {
        "colab": {
          "base_uri": "https://localhost:8080/"
        },
        "id": "qwRUBW9lGTJf",
        "outputId": "83069650-7aea-4197-e6ce-d20f23c3ce97"
      },
      "execution_count": null,
      "outputs": [
        {
          "output_type": "execute_result",
          "data": {
            "text/plain": [
              "[3, 40, 937, 4]"
            ]
          },
          "metadata": {},
          "execution_count": 8
        }
      ]
    },
    {
      "cell_type": "code",
      "source": [
        "segments_ids = [1] * len(tokenized_text)"
      ],
      "metadata": {
        "id": "IjV3Gdt4GVL1"
      },
      "execution_count": null,
      "outputs": []
    },
    {
      "cell_type": "code",
      "source": [
        "# Convert inputs to PyTorch tensors\n",
        "tokens_tensor = torch.tensor([indexed_tokens])\n",
        "segments_tensors = torch.tensor([segments_ids])\n",
        "\n",
        "# Load pre-trained model (weights)\n",
        "model = AutoModel.from_pretrained('bert-base-german-cased')\n",
        "\n",
        "# Put the model in \"evaluation\" mode, meaning feed-forward operation.\n",
        "model.eval()"
      ],
      "metadata": {
        "colab": {
          "base_uri": "https://localhost:8080/",
          "height": 1000,
          "referenced_widgets": [
            "2d7400bdeabc4e48b15ee8424805f78f",
            "5c6150ac5bb34b2495a3296b5d51d86e",
            "03752411ffa5482da8ce012c11bc4ec8",
            "634adc4bff2745408537da84a2fc17eb",
            "11b950c88cea41239a13d843107e35f8",
            "d5bc3564342e49cab26299915ee427e9",
            "6c9574d76ca34f8d8bb2753a411641ea",
            "b2576053460c4f23883075bbbd02f62a",
            "21657db2c21b4cdeb4376dcabc4b4746",
            "498aaf81fc4345efa4f71d4ab2d9de27",
            "d54711a590e04e5d880076f20f623b46"
          ]
        },
        "id": "FBGSKGPZGXf6",
        "outputId": "c4a03949-601c-4413-ddc2-a23e1af6804e"
      },
      "execution_count": null,
      "outputs": [
        {
          "output_type": "display_data",
          "data": {
            "application/vnd.jupyter.widget-view+json": {
              "model_id": "2d7400bdeabc4e48b15ee8424805f78f",
              "version_minor": 0,
              "version_major": 2
            },
            "text/plain": [
              "Downloading:   0%|          | 0.00/419M [00:00<?, ?B/s]"
            ]
          },
          "metadata": {}
        },
        {
          "output_type": "stream",
          "name": "stderr",
          "text": [
            "Some weights of the model checkpoint at bert-base-german-cased were not used when initializing BertModel: ['cls.seq_relationship.weight', 'cls.predictions.bias', 'cls.seq_relationship.bias', 'cls.predictions.decoder.weight', 'cls.predictions.transform.LayerNorm.weight', 'cls.predictions.transform.LayerNorm.bias', 'cls.predictions.transform.dense.bias', 'cls.predictions.transform.dense.weight']\n",
            "- This IS expected if you are initializing BertModel from the checkpoint of a model trained on another task or with another architecture (e.g. initializing a BertForSequenceClassification model from a BertForPreTraining model).\n",
            "- This IS NOT expected if you are initializing BertModel from the checkpoint of a model that you expect to be exactly identical (initializing a BertForSequenceClassification model from a BertForSequenceClassification model).\n"
          ]
        },
        {
          "output_type": "execute_result",
          "data": {
            "text/plain": [
              "BertModel(\n",
              "  (embeddings): BertEmbeddings(\n",
              "    (word_embeddings): Embedding(30000, 768, padding_idx=0)\n",
              "    (position_embeddings): Embedding(512, 768)\n",
              "    (token_type_embeddings): Embedding(2, 768)\n",
              "    (LayerNorm): LayerNorm((768,), eps=1e-12, elementwise_affine=True)\n",
              "    (dropout): Dropout(p=0.1, inplace=False)\n",
              "  )\n",
              "  (encoder): BertEncoder(\n",
              "    (layer): ModuleList(\n",
              "      (0): BertLayer(\n",
              "        (attention): BertAttention(\n",
              "          (self): BertSelfAttention(\n",
              "            (query): Linear(in_features=768, out_features=768, bias=True)\n",
              "            (key): Linear(in_features=768, out_features=768, bias=True)\n",
              "            (value): Linear(in_features=768, out_features=768, bias=True)\n",
              "            (dropout): Dropout(p=0.1, inplace=False)\n",
              "          )\n",
              "          (output): BertSelfOutput(\n",
              "            (dense): Linear(in_features=768, out_features=768, bias=True)\n",
              "            (LayerNorm): LayerNorm((768,), eps=1e-12, elementwise_affine=True)\n",
              "            (dropout): Dropout(p=0.1, inplace=False)\n",
              "          )\n",
              "        )\n",
              "        (intermediate): BertIntermediate(\n",
              "          (dense): Linear(in_features=768, out_features=3072, bias=True)\n",
              "        )\n",
              "        (output): BertOutput(\n",
              "          (dense): Linear(in_features=3072, out_features=768, bias=True)\n",
              "          (LayerNorm): LayerNorm((768,), eps=1e-12, elementwise_affine=True)\n",
              "          (dropout): Dropout(p=0.1, inplace=False)\n",
              "        )\n",
              "      )\n",
              "      (1): BertLayer(\n",
              "        (attention): BertAttention(\n",
              "          (self): BertSelfAttention(\n",
              "            (query): Linear(in_features=768, out_features=768, bias=True)\n",
              "            (key): Linear(in_features=768, out_features=768, bias=True)\n",
              "            (value): Linear(in_features=768, out_features=768, bias=True)\n",
              "            (dropout): Dropout(p=0.1, inplace=False)\n",
              "          )\n",
              "          (output): BertSelfOutput(\n",
              "            (dense): Linear(in_features=768, out_features=768, bias=True)\n",
              "            (LayerNorm): LayerNorm((768,), eps=1e-12, elementwise_affine=True)\n",
              "            (dropout): Dropout(p=0.1, inplace=False)\n",
              "          )\n",
              "        )\n",
              "        (intermediate): BertIntermediate(\n",
              "          (dense): Linear(in_features=768, out_features=3072, bias=True)\n",
              "        )\n",
              "        (output): BertOutput(\n",
              "          (dense): Linear(in_features=3072, out_features=768, bias=True)\n",
              "          (LayerNorm): LayerNorm((768,), eps=1e-12, elementwise_affine=True)\n",
              "          (dropout): Dropout(p=0.1, inplace=False)\n",
              "        )\n",
              "      )\n",
              "      (2): BertLayer(\n",
              "        (attention): BertAttention(\n",
              "          (self): BertSelfAttention(\n",
              "            (query): Linear(in_features=768, out_features=768, bias=True)\n",
              "            (key): Linear(in_features=768, out_features=768, bias=True)\n",
              "            (value): Linear(in_features=768, out_features=768, bias=True)\n",
              "            (dropout): Dropout(p=0.1, inplace=False)\n",
              "          )\n",
              "          (output): BertSelfOutput(\n",
              "            (dense): Linear(in_features=768, out_features=768, bias=True)\n",
              "            (LayerNorm): LayerNorm((768,), eps=1e-12, elementwise_affine=True)\n",
              "            (dropout): Dropout(p=0.1, inplace=False)\n",
              "          )\n",
              "        )\n",
              "        (intermediate): BertIntermediate(\n",
              "          (dense): Linear(in_features=768, out_features=3072, bias=True)\n",
              "        )\n",
              "        (output): BertOutput(\n",
              "          (dense): Linear(in_features=3072, out_features=768, bias=True)\n",
              "          (LayerNorm): LayerNorm((768,), eps=1e-12, elementwise_affine=True)\n",
              "          (dropout): Dropout(p=0.1, inplace=False)\n",
              "        )\n",
              "      )\n",
              "      (3): BertLayer(\n",
              "        (attention): BertAttention(\n",
              "          (self): BertSelfAttention(\n",
              "            (query): Linear(in_features=768, out_features=768, bias=True)\n",
              "            (key): Linear(in_features=768, out_features=768, bias=True)\n",
              "            (value): Linear(in_features=768, out_features=768, bias=True)\n",
              "            (dropout): Dropout(p=0.1, inplace=False)\n",
              "          )\n",
              "          (output): BertSelfOutput(\n",
              "            (dense): Linear(in_features=768, out_features=768, bias=True)\n",
              "            (LayerNorm): LayerNorm((768,), eps=1e-12, elementwise_affine=True)\n",
              "            (dropout): Dropout(p=0.1, inplace=False)\n",
              "          )\n",
              "        )\n",
              "        (intermediate): BertIntermediate(\n",
              "          (dense): Linear(in_features=768, out_features=3072, bias=True)\n",
              "        )\n",
              "        (output): BertOutput(\n",
              "          (dense): Linear(in_features=3072, out_features=768, bias=True)\n",
              "          (LayerNorm): LayerNorm((768,), eps=1e-12, elementwise_affine=True)\n",
              "          (dropout): Dropout(p=0.1, inplace=False)\n",
              "        )\n",
              "      )\n",
              "      (4): BertLayer(\n",
              "        (attention): BertAttention(\n",
              "          (self): BertSelfAttention(\n",
              "            (query): Linear(in_features=768, out_features=768, bias=True)\n",
              "            (key): Linear(in_features=768, out_features=768, bias=True)\n",
              "            (value): Linear(in_features=768, out_features=768, bias=True)\n",
              "            (dropout): Dropout(p=0.1, inplace=False)\n",
              "          )\n",
              "          (output): BertSelfOutput(\n",
              "            (dense): Linear(in_features=768, out_features=768, bias=True)\n",
              "            (LayerNorm): LayerNorm((768,), eps=1e-12, elementwise_affine=True)\n",
              "            (dropout): Dropout(p=0.1, inplace=False)\n",
              "          )\n",
              "        )\n",
              "        (intermediate): BertIntermediate(\n",
              "          (dense): Linear(in_features=768, out_features=3072, bias=True)\n",
              "        )\n",
              "        (output): BertOutput(\n",
              "          (dense): Linear(in_features=3072, out_features=768, bias=True)\n",
              "          (LayerNorm): LayerNorm((768,), eps=1e-12, elementwise_affine=True)\n",
              "          (dropout): Dropout(p=0.1, inplace=False)\n",
              "        )\n",
              "      )\n",
              "      (5): BertLayer(\n",
              "        (attention): BertAttention(\n",
              "          (self): BertSelfAttention(\n",
              "            (query): Linear(in_features=768, out_features=768, bias=True)\n",
              "            (key): Linear(in_features=768, out_features=768, bias=True)\n",
              "            (value): Linear(in_features=768, out_features=768, bias=True)\n",
              "            (dropout): Dropout(p=0.1, inplace=False)\n",
              "          )\n",
              "          (output): BertSelfOutput(\n",
              "            (dense): Linear(in_features=768, out_features=768, bias=True)\n",
              "            (LayerNorm): LayerNorm((768,), eps=1e-12, elementwise_affine=True)\n",
              "            (dropout): Dropout(p=0.1, inplace=False)\n",
              "          )\n",
              "        )\n",
              "        (intermediate): BertIntermediate(\n",
              "          (dense): Linear(in_features=768, out_features=3072, bias=True)\n",
              "        )\n",
              "        (output): BertOutput(\n",
              "          (dense): Linear(in_features=3072, out_features=768, bias=True)\n",
              "          (LayerNorm): LayerNorm((768,), eps=1e-12, elementwise_affine=True)\n",
              "          (dropout): Dropout(p=0.1, inplace=False)\n",
              "        )\n",
              "      )\n",
              "      (6): BertLayer(\n",
              "        (attention): BertAttention(\n",
              "          (self): BertSelfAttention(\n",
              "            (query): Linear(in_features=768, out_features=768, bias=True)\n",
              "            (key): Linear(in_features=768, out_features=768, bias=True)\n",
              "            (value): Linear(in_features=768, out_features=768, bias=True)\n",
              "            (dropout): Dropout(p=0.1, inplace=False)\n",
              "          )\n",
              "          (output): BertSelfOutput(\n",
              "            (dense): Linear(in_features=768, out_features=768, bias=True)\n",
              "            (LayerNorm): LayerNorm((768,), eps=1e-12, elementwise_affine=True)\n",
              "            (dropout): Dropout(p=0.1, inplace=False)\n",
              "          )\n",
              "        )\n",
              "        (intermediate): BertIntermediate(\n",
              "          (dense): Linear(in_features=768, out_features=3072, bias=True)\n",
              "        )\n",
              "        (output): BertOutput(\n",
              "          (dense): Linear(in_features=3072, out_features=768, bias=True)\n",
              "          (LayerNorm): LayerNorm((768,), eps=1e-12, elementwise_affine=True)\n",
              "          (dropout): Dropout(p=0.1, inplace=False)\n",
              "        )\n",
              "      )\n",
              "      (7): BertLayer(\n",
              "        (attention): BertAttention(\n",
              "          (self): BertSelfAttention(\n",
              "            (query): Linear(in_features=768, out_features=768, bias=True)\n",
              "            (key): Linear(in_features=768, out_features=768, bias=True)\n",
              "            (value): Linear(in_features=768, out_features=768, bias=True)\n",
              "            (dropout): Dropout(p=0.1, inplace=False)\n",
              "          )\n",
              "          (output): BertSelfOutput(\n",
              "            (dense): Linear(in_features=768, out_features=768, bias=True)\n",
              "            (LayerNorm): LayerNorm((768,), eps=1e-12, elementwise_affine=True)\n",
              "            (dropout): Dropout(p=0.1, inplace=False)\n",
              "          )\n",
              "        )\n",
              "        (intermediate): BertIntermediate(\n",
              "          (dense): Linear(in_features=768, out_features=3072, bias=True)\n",
              "        )\n",
              "        (output): BertOutput(\n",
              "          (dense): Linear(in_features=3072, out_features=768, bias=True)\n",
              "          (LayerNorm): LayerNorm((768,), eps=1e-12, elementwise_affine=True)\n",
              "          (dropout): Dropout(p=0.1, inplace=False)\n",
              "        )\n",
              "      )\n",
              "      (8): BertLayer(\n",
              "        (attention): BertAttention(\n",
              "          (self): BertSelfAttention(\n",
              "            (query): Linear(in_features=768, out_features=768, bias=True)\n",
              "            (key): Linear(in_features=768, out_features=768, bias=True)\n",
              "            (value): Linear(in_features=768, out_features=768, bias=True)\n",
              "            (dropout): Dropout(p=0.1, inplace=False)\n",
              "          )\n",
              "          (output): BertSelfOutput(\n",
              "            (dense): Linear(in_features=768, out_features=768, bias=True)\n",
              "            (LayerNorm): LayerNorm((768,), eps=1e-12, elementwise_affine=True)\n",
              "            (dropout): Dropout(p=0.1, inplace=False)\n",
              "          )\n",
              "        )\n",
              "        (intermediate): BertIntermediate(\n",
              "          (dense): Linear(in_features=768, out_features=3072, bias=True)\n",
              "        )\n",
              "        (output): BertOutput(\n",
              "          (dense): Linear(in_features=3072, out_features=768, bias=True)\n",
              "          (LayerNorm): LayerNorm((768,), eps=1e-12, elementwise_affine=True)\n",
              "          (dropout): Dropout(p=0.1, inplace=False)\n",
              "        )\n",
              "      )\n",
              "      (9): BertLayer(\n",
              "        (attention): BertAttention(\n",
              "          (self): BertSelfAttention(\n",
              "            (query): Linear(in_features=768, out_features=768, bias=True)\n",
              "            (key): Linear(in_features=768, out_features=768, bias=True)\n",
              "            (value): Linear(in_features=768, out_features=768, bias=True)\n",
              "            (dropout): Dropout(p=0.1, inplace=False)\n",
              "          )\n",
              "          (output): BertSelfOutput(\n",
              "            (dense): Linear(in_features=768, out_features=768, bias=True)\n",
              "            (LayerNorm): LayerNorm((768,), eps=1e-12, elementwise_affine=True)\n",
              "            (dropout): Dropout(p=0.1, inplace=False)\n",
              "          )\n",
              "        )\n",
              "        (intermediate): BertIntermediate(\n",
              "          (dense): Linear(in_features=768, out_features=3072, bias=True)\n",
              "        )\n",
              "        (output): BertOutput(\n",
              "          (dense): Linear(in_features=3072, out_features=768, bias=True)\n",
              "          (LayerNorm): LayerNorm((768,), eps=1e-12, elementwise_affine=True)\n",
              "          (dropout): Dropout(p=0.1, inplace=False)\n",
              "        )\n",
              "      )\n",
              "      (10): BertLayer(\n",
              "        (attention): BertAttention(\n",
              "          (self): BertSelfAttention(\n",
              "            (query): Linear(in_features=768, out_features=768, bias=True)\n",
              "            (key): Linear(in_features=768, out_features=768, bias=True)\n",
              "            (value): Linear(in_features=768, out_features=768, bias=True)\n",
              "            (dropout): Dropout(p=0.1, inplace=False)\n",
              "          )\n",
              "          (output): BertSelfOutput(\n",
              "            (dense): Linear(in_features=768, out_features=768, bias=True)\n",
              "            (LayerNorm): LayerNorm((768,), eps=1e-12, elementwise_affine=True)\n",
              "            (dropout): Dropout(p=0.1, inplace=False)\n",
              "          )\n",
              "        )\n",
              "        (intermediate): BertIntermediate(\n",
              "          (dense): Linear(in_features=768, out_features=3072, bias=True)\n",
              "        )\n",
              "        (output): BertOutput(\n",
              "          (dense): Linear(in_features=3072, out_features=768, bias=True)\n",
              "          (LayerNorm): LayerNorm((768,), eps=1e-12, elementwise_affine=True)\n",
              "          (dropout): Dropout(p=0.1, inplace=False)\n",
              "        )\n",
              "      )\n",
              "      (11): BertLayer(\n",
              "        (attention): BertAttention(\n",
              "          (self): BertSelfAttention(\n",
              "            (query): Linear(in_features=768, out_features=768, bias=True)\n",
              "            (key): Linear(in_features=768, out_features=768, bias=True)\n",
              "            (value): Linear(in_features=768, out_features=768, bias=True)\n",
              "            (dropout): Dropout(p=0.1, inplace=False)\n",
              "          )\n",
              "          (output): BertSelfOutput(\n",
              "            (dense): Linear(in_features=768, out_features=768, bias=True)\n",
              "            (LayerNorm): LayerNorm((768,), eps=1e-12, elementwise_affine=True)\n",
              "            (dropout): Dropout(p=0.1, inplace=False)\n",
              "          )\n",
              "        )\n",
              "        (intermediate): BertIntermediate(\n",
              "          (dense): Linear(in_features=768, out_features=3072, bias=True)\n",
              "        )\n",
              "        (output): BertOutput(\n",
              "          (dense): Linear(in_features=3072, out_features=768, bias=True)\n",
              "          (LayerNorm): LayerNorm((768,), eps=1e-12, elementwise_affine=True)\n",
              "          (dropout): Dropout(p=0.1, inplace=False)\n",
              "        )\n",
              "      )\n",
              "    )\n",
              "  )\n",
              "  (pooler): BertPooler(\n",
              "    (dense): Linear(in_features=768, out_features=768, bias=True)\n",
              "    (activation): Tanh()\n",
              "  )\n",
              ")"
            ]
          },
          "metadata": {},
          "execution_count": 10
        }
      ]
    },
    {
      "cell_type": "code",
      "source": [
        "tokens_tensor"
      ],
      "metadata": {
        "colab": {
          "base_uri": "https://localhost:8080/"
        },
        "id": "9X9TKdgzGeJ9",
        "outputId": "f6300ac1-0935-4336-f363-73b702853900"
      },
      "execution_count": null,
      "outputs": [
        {
          "output_type": "execute_result",
          "data": {
            "text/plain": [
              "tensor([[  3,  40, 937,   4]])"
            ]
          },
          "metadata": {},
          "execution_count": 11
        }
      ]
    },
    {
      "cell_type": "code",
      "source": [
        "# Predict hidden states features for each layer\n",
        "with torch.no_grad():\n",
        "    encoded_layers, _ = model(tokens_tensor, segments_tensors)"
      ],
      "metadata": {
        "id": "9Fbzg_bxGoJ3"
      },
      "execution_count": null,
      "outputs": []
    },
    {
      "cell_type": "code",
      "source": [
        "encoded_layers"
      ],
      "metadata": {
        "colab": {
          "base_uri": "https://localhost:8080/",
          "height": 37
        },
        "id": "jRL0Lt_yGwEz",
        "outputId": "61521fb6-33b2-4f38-ad47-0b69badcd654"
      },
      "execution_count": null,
      "outputs": [
        {
          "output_type": "execute_result",
          "data": {
            "application/vnd.google.colaboratory.intrinsic+json": {
              "type": "string"
            },
            "text/plain": [
              "'last_hidden_state'"
            ]
          },
          "metadata": {},
          "execution_count": 13
        }
      ]
    },
    {
      "cell_type": "code",
      "source": [
        "from transformers import BertTokenizer, BertModel\n",
        "\n",
        "import torch\n",
        "\n",
        "tokenizer = BertTokenizer.from_pretrained('bert-base-german-cased')\n",
        "\n",
        "model = BertModel.from_pretrained('bert-base-german-cased')\n",
        "\n",
        "word = \"bank\"\n",
        "\n",
        "inputs = tokenizer(word, return_tensors=\"pt\")\n",
        "\n",
        "outputs = model(**inputs)\n",
        "\n",
        "word_vect = outputs.pooler_output.detach().numpy()"
      ],
      "metadata": {
        "colab": {
          "base_uri": "https://localhost:8080/"
        },
        "id": "XuJamji0GyrR",
        "outputId": "682acf2d-e544-40a2-fad2-1391cf4670a9"
      },
      "execution_count": null,
      "outputs": [
        {
          "output_type": "stream",
          "name": "stderr",
          "text": [
            "Some weights of the model checkpoint at bert-base-german-cased were not used when initializing BertModel: ['cls.seq_relationship.weight', 'cls.predictions.bias', 'cls.seq_relationship.bias', 'cls.predictions.decoder.weight', 'cls.predictions.transform.LayerNorm.weight', 'cls.predictions.transform.LayerNorm.bias', 'cls.predictions.transform.dense.bias', 'cls.predictions.transform.dense.weight']\n",
            "- This IS expected if you are initializing BertModel from the checkpoint of a model trained on another task or with another architecture (e.g. initializing a BertForSequenceClassification model from a BertForPreTraining model).\n",
            "- This IS NOT expected if you are initializing BertModel from the checkpoint of a model that you expect to be exactly identical (initializing a BertForSequenceClassification model from a BertForSequenceClassification model).\n"
          ]
        }
      ]
    },
    {
      "cell_type": "code",
      "source": [
        "w1 = model(**tokenizer(\"bank\", return_tensors=\"pt\")).pooler_output.detach().numpy()\n",
        "w2 = model(**tokenizer(\"bank\", return_tensors=\"pt\")).pooler_output.detach().numpy()"
      ],
      "metadata": {
        "id": "09ke9j1eG7vd"
      },
      "execution_count": null,
      "outputs": []
    },
    {
      "cell_type": "code",
      "source": [
        "w2.shape"
      ],
      "metadata": {
        "colab": {
          "base_uri": "https://localhost:8080/"
        },
        "id": "zhJVNmeMHARH",
        "outputId": "7a6d97bc-e6ee-4b27-af2c-14b9efba5a31"
      },
      "execution_count": null,
      "outputs": [
        {
          "output_type": "execute_result",
          "data": {
            "text/plain": [
              "(1, 768)"
            ]
          },
          "metadata": {},
          "execution_count": 16
        }
      ]
    },
    {
      "cell_type": "code",
      "source": [
        "w1.shape"
      ],
      "metadata": {
        "colab": {
          "base_uri": "https://localhost:8080/"
        },
        "id": "lOvbEeJfHC2v",
        "outputId": "ba8183fc-786d-465a-ba56-7ef05b23e1ab"
      },
      "execution_count": null,
      "outputs": [
        {
          "output_type": "execute_result",
          "data": {
            "text/plain": [
              "(1, 768)"
            ]
          },
          "metadata": {},
          "execution_count": 17
        }
      ]
    },
    {
      "cell_type": "markdown",
      "source": [
        "# Funktion zur Berechnung der Kosinus-Ähnlichkeit von Wörtern"
      ],
      "metadata": {
        "id": "GBmZ3oarHIZq"
      }
    },
    {
      "cell_type": "code",
      "source": [
        "from numpy import dot\n",
        "from numpy.linalg import norm\n",
        "\n",
        "a = w1\n",
        "b = w2.T\n",
        "\n",
        "cos_sim = dot(a, b)/(norm(a)*norm(b))"
      ],
      "metadata": {
        "id": "G8yw1AQFHFUJ"
      },
      "execution_count": null,
      "outputs": []
    },
    {
      "cell_type": "code",
      "source": [
        "cos_sim[0][0]"
      ],
      "metadata": {
        "colab": {
          "base_uri": "https://localhost:8080/"
        },
        "id": "_x7mNOp2HNSy",
        "outputId": "859d8d42-bae5-4fbd-99f4-a2d2ebaa3458"
      },
      "execution_count": null,
      "outputs": [
        {
          "output_type": "execute_result",
          "data": {
            "text/plain": [
              "1.0"
            ]
          },
          "metadata": {},
          "execution_count": 19
        }
      ]
    },
    {
      "cell_type": "code",
      "source": [
        "import operator\n",
        "def foo(w, l):\n",
        "  w1 = model(**tokenizer(w, return_tensors=\"pt\")).pooler_output.detach().numpy()\n",
        "\n",
        "  output = {}\n",
        "\n",
        "  for tw in l:\n",
        "    w2 = model(**tokenizer(tw, return_tensors=\"pt\")).pooler_output.detach().numpy()\n",
        "    w2 = w2.T\n",
        "    cos_sim = dot(w1, w2)/(norm(w1)*norm(w2))\n",
        "    output[tw] = cos_sim[0][0] # schlauer mit np.squeeze\n",
        "\n",
        "  return sorted(output.items(), key=lambda kv: kv[1], reverse=True)"
      ],
      "metadata": {
        "id": "HpyNuthCHPb3"
      },
      "execution_count": null,
      "outputs": []
    },
    {
      "cell_type": "markdown",
      "source": [
        "# Berechnung der Wort-Ähnlichkeit mit ausgewählten Synoymen mit neuer Bedeutung"
      ],
      "metadata": {
        "id": "tPiWQsqiHT3a"
      }
    },
    {
      "cell_type": "markdown",
      "source": [
        "## Feminismus"
      ],
      "metadata": {
        "id": "bvPW8UnMHgW2"
      }
    },
    {
      "cell_type": "code",
      "source": [
        "fem = \"Feminismus\" \n",
        "\n",
        "frau = [\"Medizin\", \"Verweiblichung\", \"Hormone\", \"Fettleibigkeit\", \"Brüste\"]\n",
        "\n",
        "feminismus = foo(fem, frau)"
      ],
      "metadata": {
        "id": "B4mP0GmIHSSy"
      },
      "execution_count": null,
      "outputs": []
    },
    {
      "cell_type": "code",
      "source": [
        "feminismus"
      ],
      "metadata": {
        "colab": {
          "base_uri": "https://localhost:8080/"
        },
        "id": "U5BTQ-WAHk2w",
        "outputId": "7992433c-36e4-411c-e072-5cb2b8e15c60"
      },
      "execution_count": null,
      "outputs": [
        {
          "output_type": "execute_result",
          "data": {
            "text/plain": [
              "[('Fettleibigkeit', 0.900846),\n",
              " ('Hormone', 0.89651287),\n",
              " ('Medizin', 0.87313807),\n",
              " ('Verweiblichung', 0.86310226),\n",
              " ('Brüste', 0.81791043)]"
            ]
          },
          "metadata": {},
          "execution_count": 22
        }
      ]
    },
    {
      "cell_type": "code",
      "source": [
        "frau2 = [\"Selbstbestimmung\", \"Bewegung\", \"Frau\", \"Gleichberechtigung\", \"Sexismus\"]\n",
        "\n",
        "feminismus2 = foo(fem, frau2)"
      ],
      "metadata": {
        "id": "pyvkuHPCHnHo"
      },
      "execution_count": null,
      "outputs": []
    },
    {
      "cell_type": "code",
      "source": [
        "feminismus2"
      ],
      "metadata": {
        "colab": {
          "base_uri": "https://localhost:8080/"
        },
        "id": "ziquvvtvH3Yo",
        "outputId": "e80e3d60-0a04-42c1-bbaf-ea5db96a2146"
      },
      "execution_count": null,
      "outputs": [
        {
          "output_type": "execute_result",
          "data": {
            "text/plain": [
              "[('Sexismus', 0.92430687),\n",
              " ('Gleichberechtigung', 0.9046024),\n",
              " ('Selbstbestimmung', 0.8819189),\n",
              " ('Bewegung', 0.8682686),\n",
              " ('Frau', 0.7646061)]"
            ]
          },
          "metadata": {},
          "execution_count": 25
        }
      ]
    },
    {
      "cell_type": "code",
      "source": [
        "frau3 = [\"Medizin\", \"Verweiblichung\", \"Hormone\", \"Fettleibigkeit\", \"Brüste\", \"Selbstbestimmung\", \"Bewegung\", \"Frau\", \"Gleichberechtigung\", \"Sexismus\"]\n",
        "\n",
        "feminismus3 = foo(fem, frau3)"
      ],
      "metadata": {
        "id": "SGlMoT8-H7K-"
      },
      "execution_count": null,
      "outputs": []
    },
    {
      "cell_type": "code",
      "source": [
        "feminismus3"
      ],
      "metadata": {
        "colab": {
          "base_uri": "https://localhost:8080/"
        },
        "id": "3g4m52ccIKTj",
        "outputId": "9804dbc9-0930-4278-f5f7-57057ceff21e"
      },
      "execution_count": null,
      "outputs": [
        {
          "output_type": "execute_result",
          "data": {
            "text/plain": [
              "[('Sexismus', 0.92430687),\n",
              " ('Gleichberechtigung', 0.9046024),\n",
              " ('Fettleibigkeit', 0.900846),\n",
              " ('Hormone', 0.89651287),\n",
              " ('Selbstbestimmung', 0.8819189),\n",
              " ('Medizin', 0.87313807),\n",
              " ('Bewegung', 0.8682686),\n",
              " ('Verweiblichung', 0.86310226),\n",
              " ('Brüste', 0.81791043),\n",
              " ('Frau', 0.7646061)]"
            ]
          },
          "metadata": {},
          "execution_count": 27
        }
      ]
    },
    {
      "cell_type": "markdown",
      "source": [
        "Ähnliche Ergebnisse wie bei dem Modell mit älteren Texten. Allerdings sind die Werte sowohl für die Wörter zu Feminismus mit alter und neuer Bedeutung wesentlich geringer im Vergleich zum Modell mit älteren Texten."
      ],
      "metadata": {
        "id": "5bVH0p7nI3Fv"
      }
    },
    {
      "cell_type": "markdown",
      "source": [
        "## Widerstand"
      ],
      "metadata": {
        "id": "oFOZG7uIJO5q"
      }
    },
    {
      "cell_type": "code",
      "source": [
        "wid = \"Widerstand\" \n",
        "\n",
        "wider = [\"Nationalsozialismus\", \"Nazis\", \"Hitler\", \"drittes Reich\", \"NSDAP\"]\n",
        "\n",
        "widerstand = foo(wid, wider)"
      ],
      "metadata": {
        "id": "sU4J6jLFILx7"
      },
      "execution_count": null,
      "outputs": []
    },
    {
      "cell_type": "code",
      "source": [
        "widerstand"
      ],
      "metadata": {
        "colab": {
          "base_uri": "https://localhost:8080/"
        },
        "id": "XHB4wR4kJVxC",
        "outputId": "68e8231b-b3f3-4368-cabc-2ab06de3ebf2"
      },
      "execution_count": null,
      "outputs": [
        {
          "output_type": "execute_result",
          "data": {
            "text/plain": [
              "[('Nationalsozialismus', 0.92320997),\n",
              " ('Hitler', 0.8780154),\n",
              " ('Nazis', 0.8689661),\n",
              " ('drittes Reich', 0.8657312),\n",
              " ('NSDAP', 0.85547894)]"
            ]
          },
          "metadata": {},
          "execution_count": 29
        }
      ]
    },
    {
      "cell_type": "code",
      "source": [
        "wider2 = [\"Strom\", \"Elektrizität\", \"Elektrotechnik\", \"Ohm\", \"Elektron\"]\n",
        "\n",
        "widerstand2 = foo(wid, wider2)"
      ],
      "metadata": {
        "id": "kQRu-zh4JWfh"
      },
      "execution_count": null,
      "outputs": []
    },
    {
      "cell_type": "code",
      "source": [
        "widerstand2"
      ],
      "metadata": {
        "colab": {
          "base_uri": "https://localhost:8080/"
        },
        "id": "t6THtSVXJfj-",
        "outputId": "9fc29aca-612b-4599-b630-2bdd0b87742b"
      },
      "execution_count": null,
      "outputs": [
        {
          "output_type": "execute_result",
          "data": {
            "text/plain": [
              "[('Elektron', 0.8149889),\n",
              " ('Elektrizität', 0.8107724),\n",
              " ('Strom', 0.80551386),\n",
              " ('Elektrotechnik', 0.8050134),\n",
              " ('Ohm', 0.7847183)]"
            ]
          },
          "metadata": {},
          "execution_count": 31
        }
      ]
    },
    {
      "cell_type": "code",
      "source": [
        "wider3 = [\"Strom\", \"Elektrizität\", \"Elektrotechnik\", \"Ohm\", \"Elektron\", \"Nationalsozialismus\", \"Nazis\", \"Hitler\", \"drittes Reich\", \"NSDAP\"]\n",
        "widerstand3 = foo(wid, wider3)"
      ],
      "metadata": {
        "id": "kicjSpFpJgl-"
      },
      "execution_count": null,
      "outputs": []
    },
    {
      "cell_type": "code",
      "source": [
        "widerstand3"
      ],
      "metadata": {
        "colab": {
          "base_uri": "https://localhost:8080/"
        },
        "id": "ec1n3ySGJqLk",
        "outputId": "819c51d2-d7e8-4226-8150-3e6154000b5a"
      },
      "execution_count": null,
      "outputs": [
        {
          "output_type": "execute_result",
          "data": {
            "text/plain": [
              "[('Nationalsozialismus', 0.92320997),\n",
              " ('Hitler', 0.8780154),\n",
              " ('Nazis', 0.8689661),\n",
              " ('drittes Reich', 0.8657312),\n",
              " ('NSDAP', 0.85547894),\n",
              " ('Elektron', 0.8149889),\n",
              " ('Elektrizität', 0.8107724),\n",
              " ('Strom', 0.80551386),\n",
              " ('Elektrotechnik', 0.8050134),\n",
              " ('Ohm', 0.7847183)]"
            ]
          },
          "metadata": {},
          "execution_count": 33
        }
      ]
    },
    {
      "cell_type": "markdown",
      "source": [
        "Ähnliche Ergebnisse wie bei Feminismus. Allerdings der Wert für Nationalsozialismus ist höher als beim alten und die Werte für die Strombegriffe sind niedriger als bei dem alten Modell. Begriffe des Nationalsozialismus sind wesentlich näher am Wort Widerstand als an Strom. Dies war im alten Modell nicht so --> Indiz für früheres Vorkommen von beiden Bedeutung und heute fast nur noch in Bezug auf Nationalsozialismus? (🥳)"
      ],
      "metadata": {
        "id": "Q3ei5cEBKpD4"
      }
    },
    {
      "cell_type": "markdown",
      "source": [
        "## Batterie"
      ],
      "metadata": {
        "id": "xgx34T2xLbUp"
      }
    },
    {
      "cell_type": "code",
      "source": [
        "bat = \"Batterie\" \n",
        "batt = [\"Brigade\", \"Kompanie\", \"Division\", \"Infanterie\", \"Regiment\", \"Artillerie\"]\n",
        "\n",
        "batterie = foo(bat, batt)"
      ],
      "metadata": {
        "id": "9ogzHBcFJsJZ"
      },
      "execution_count": null,
      "outputs": []
    },
    {
      "cell_type": "code",
      "source": [
        "batterie"
      ],
      "metadata": {
        "colab": {
          "base_uri": "https://localhost:8080/"
        },
        "id": "LWVrNYtILgUj",
        "outputId": "cb268a5f-0220-4729-e218-354d3e6020f5"
      },
      "execution_count": null,
      "outputs": [
        {
          "output_type": "execute_result",
          "data": {
            "text/plain": [
              "[('Brigade', 0.91726667),\n",
              " ('Artillerie', 0.9152518),\n",
              " ('Infanterie', 0.89203304),\n",
              " ('Kompanie', 0.89201987),\n",
              " ('Division', 0.863649),\n",
              " ('Regiment', 0.853735)]"
            ]
          },
          "metadata": {},
          "execution_count": 35
        }
      ]
    },
    {
      "cell_type": "code",
      "source": [
        "batt2 = [\"Diesel\", \"Tank\", \"Speicher\", \"Elektronik\", \"Prototyp\", \"Laden\", \"Strom\"]\n",
        "\n",
        "batterie2 = foo(bat, batt2)"
      ],
      "metadata": {
        "id": "Z3GA_z0hLht9"
      },
      "execution_count": null,
      "outputs": []
    },
    {
      "cell_type": "code",
      "source": [
        "batterie2"
      ],
      "metadata": {
        "colab": {
          "base_uri": "https://localhost:8080/"
        },
        "id": "VN6S1BznLov3",
        "outputId": "8dfa9f96-1857-497e-d0e3-bec1d8694c21"
      },
      "execution_count": null,
      "outputs": [
        {
          "output_type": "execute_result",
          "data": {
            "text/plain": [
              "[('Tank', 0.94215125),\n",
              " ('Speicher', 0.9375412),\n",
              " ('Elektronik', 0.92920995),\n",
              " ('Prototyp', 0.92912495),\n",
              " ('Diesel', 0.8980873),\n",
              " ('Strom', 0.8274996),\n",
              " ('Laden', 0.8121563)]"
            ]
          },
          "metadata": {},
          "execution_count": 43
        }
      ]
    },
    {
      "cell_type": "code",
      "source": [
        "batt3 = [\"Diesel\", \"Tank\", \"Speicher\", \"Elektronik\", \"Brigade\", \"Kompanie\", \"Division\", \"Infanterie\", \"Regiment\", \"Artillerie\", \"Prototyp\", \"Laden\", \"Strom\"]\n",
        "\n",
        "batterie3 = foo(bat, batt3)"
      ],
      "metadata": {
        "id": "icVkYFEQLrP7"
      },
      "execution_count": null,
      "outputs": []
    },
    {
      "cell_type": "code",
      "source": [
        "batterie3"
      ],
      "metadata": {
        "colab": {
          "base_uri": "https://localhost:8080/"
        },
        "id": "JT36BdQiMW9b",
        "outputId": "6bb1cf68-3fd3-4a66-b903-303676fe8242"
      },
      "execution_count": null,
      "outputs": [
        {
          "output_type": "execute_result",
          "data": {
            "text/plain": [
              "[('Tank', 0.94215125),\n",
              " ('Speicher', 0.9375412),\n",
              " ('Elektronik', 0.92920995),\n",
              " ('Prototyp', 0.92912495),\n",
              " ('Brigade', 0.91726667),\n",
              " ('Artillerie', 0.9152518),\n",
              " ('Diesel', 0.8980873),\n",
              " ('Infanterie', 0.89203304),\n",
              " ('Kompanie', 0.89201987),\n",
              " ('Division', 0.863649),\n",
              " ('Regiment', 0.853735),\n",
              " ('Strom', 0.8274996),\n",
              " ('Laden', 0.8121563)]"
            ]
          },
          "metadata": {},
          "execution_count": 45
        }
      ]
    },
    {
      "cell_type": "markdown",
      "source": [
        "Die ersten vier Wörter sind alle von der Bedeutung Strom. Bei dem alten Modell war es andersrum. Bester Kandidat für Wortbedeutungswandel und Kandidat für Fintuning um zu schauen, ob so die Bedeutung beeinflusst werden kann. 🥳"
      ],
      "metadata": {
        "id": "eDcQLONoMdSH"
      }
    },
    {
      "cell_type": "markdown",
      "source": [
        "## Toilette"
      ],
      "metadata": {
        "id": "D1FnF8ZONAd4"
      }
    },
    {
      "cell_type": "code",
      "source": [
        "toi = \"Toilette\" \n",
        "toil = [\"Leinwandtuch\", \"Ankleidezimmer\", \"Zimmer\", \"Körperpflege\", \"Sichankleiden\", \"Damenkleidung\"]\n",
        "\n",
        "toilette = foo(toi, toil)"
      ],
      "metadata": {
        "id": "wFE40T3uMYHf"
      },
      "execution_count": null,
      "outputs": []
    },
    {
      "cell_type": "code",
      "source": [
        "toilette"
      ],
      "metadata": {
        "colab": {
          "base_uri": "https://localhost:8080/"
        },
        "id": "Fq1VFtX1NFSE",
        "outputId": "05f5cecd-6f95-4648-c228-a16cb48843c1"
      },
      "execution_count": null,
      "outputs": [
        {
          "output_type": "execute_result",
          "data": {
            "text/plain": [
              "[('Damenkleidung', 0.8957899),\n",
              " ('Zimmer', 0.88462305),\n",
              " ('Leinwandtuch', 0.8794619),\n",
              " ('Ankleidezimmer', 0.85786027),\n",
              " ('Körperpflege', 0.8506751),\n",
              " ('Sichankleiden', 0.8279833)]"
            ]
          },
          "metadata": {},
          "execution_count": 47
        }
      ]
    },
    {
      "cell_type": "code",
      "source": [
        "toi = \"Toilette\" \n",
        "toil2 = [\"Klo\", \"WC\", \"Latrine\", \"Pissoir\", \"sanitäre Anlagen\"]\n",
        "\n",
        "toilette2 = foo(toi, toil2)"
      ],
      "metadata": {
        "id": "QmDV7AJtNGzk"
      },
      "execution_count": null,
      "outputs": []
    },
    {
      "cell_type": "code",
      "source": [
        "toilette2"
      ],
      "metadata": {
        "colab": {
          "base_uri": "https://localhost:8080/"
        },
        "id": "6jOxyzUpNMBy",
        "outputId": "aef0eaa3-158b-4065-bd4e-27938cf4f267"
      },
      "execution_count": null,
      "outputs": [
        {
          "output_type": "execute_result",
          "data": {
            "text/plain": [
              "[('Klo', 0.87802225),\n",
              " ('sanitäre Anlagen', 0.8687603),\n",
              " ('Latrine', 0.83375996),\n",
              " ('Pissoir', 0.82510436),\n",
              " ('WC', 0.80534893)]"
            ]
          },
          "metadata": {},
          "execution_count": 49
        }
      ]
    },
    {
      "cell_type": "code",
      "source": [
        "toi = \"Toilette\" \n",
        "toil3 = [\"Klo\", \"WC\", \"Latrine\", \"Leinwandtuch\", \"Sichankleiden\", \"Damenkleidung\", \"Ankleidezimmer\", \"Zimmer\", \"Körperpflege\", \"Pissoir\", \"sanitäre Anlagen\"]\n",
        "\n",
        "toilette3 = foo(toi, toil3)"
      ],
      "metadata": {
        "id": "g1Cs9UFUNNa0"
      },
      "execution_count": null,
      "outputs": []
    },
    {
      "cell_type": "code",
      "source": [
        "toilette3"
      ],
      "metadata": {
        "colab": {
          "base_uri": "https://localhost:8080/"
        },
        "id": "_QIvCXTaNgE1",
        "outputId": "ff335feb-77f0-489d-f840-11cf301cd1d9"
      },
      "execution_count": null,
      "outputs": [
        {
          "output_type": "execute_result",
          "data": {
            "text/plain": [
              "[('Damenkleidung', 0.8957899),\n",
              " ('Zimmer', 0.88462305),\n",
              " ('Leinwandtuch', 0.8794619),\n",
              " ('Klo', 0.87802225),\n",
              " ('sanitäre Anlagen', 0.8687603),\n",
              " ('Ankleidezimmer', 0.85786027),\n",
              " ('Körperpflege', 0.8506751),\n",
              " ('Latrine', 0.83375996),\n",
              " ('Sichankleiden', 0.8279833),\n",
              " ('Pissoir', 0.82510436),\n",
              " ('WC', 0.80534893)]"
            ]
          },
          "metadata": {},
          "execution_count": 51
        }
      ]
    },
    {
      "cell_type": "markdown",
      "source": [
        "Werte sind generell geringer als beim alten Modell, Werte sind enger zusammen und die Liste spaltet sich nicht so klar wie beim alten Modell. Hier Vermischung der Wortbedeutung, früher ältere Bedeutung klar dominanter."
      ],
      "metadata": {
        "id": "6pF38dSiNrux"
      }
    },
    {
      "cell_type": "markdown",
      "source": [
        "## Rauchwaren"
      ],
      "metadata": {
        "id": "Q4uiymTfOb-7"
      }
    },
    {
      "cell_type": "code",
      "source": [
        "rau = \"Rauchwaren\" \n",
        "rauch = [\"Pelze\", \"Pelz\", \"Pelzwirtschaft\", \"Fell\", \"Haar\", \"Haarkleid\"]\n",
        "\n",
        "rauchwaren = foo(rau, rauch)"
      ],
      "metadata": {
        "id": "lvVQYIZmNhgV"
      },
      "execution_count": null,
      "outputs": []
    },
    {
      "cell_type": "code",
      "source": [
        "rauchwaren"
      ],
      "metadata": {
        "colab": {
          "base_uri": "https://localhost:8080/"
        },
        "id": "SxwPBIuNOfcn",
        "outputId": "942a82ab-80b1-4a27-a92d-6f39db4e26f1"
      },
      "execution_count": null,
      "outputs": [
        {
          "output_type": "execute_result",
          "data": {
            "text/plain": [
              "[('Pelze', 0.9225237),\n",
              " ('Haarkleid', 0.84964174),\n",
              " ('Haar', 0.8408511),\n",
              " ('Fell', 0.83438957),\n",
              " ('Pelz', 0.8266047),\n",
              " ('Pelzwirtschaft', 0.80043554)]"
            ]
          },
          "metadata": {},
          "execution_count": 53
        }
      ]
    },
    {
      "cell_type": "code",
      "source": [
        "rau = \"Rauchwaren\" \n",
        "rauch2 = [\"Zigaretten\", \"Zigarren\", \"Tabak\", \"Tabakwaren\", \"Zigarillo\", \"Geschäft\"]\n",
        "\n",
        "rauchwaren2 = foo(rau, rauch2)"
      ],
      "metadata": {
        "id": "3iPFOxHZOhnJ"
      },
      "execution_count": null,
      "outputs": []
    },
    {
      "cell_type": "code",
      "source": [
        "rauchwaren2"
      ],
      "metadata": {
        "colab": {
          "base_uri": "https://localhost:8080/"
        },
        "id": "i92dIdZvOpC5",
        "outputId": "c67a8a3e-3d22-4b2c-9cf1-42a43b42cb13"
      },
      "execution_count": null,
      "outputs": [
        {
          "output_type": "execute_result",
          "data": {
            "text/plain": [
              "[('Tabakwaren', 0.97066283),\n",
              " ('Zigaretten', 0.9513302),\n",
              " ('Tabak', 0.93398064),\n",
              " ('Zigarren', 0.88703597),\n",
              " ('Zigarillo', 0.88128996),\n",
              " ('Geschäft', 0.82955647)]"
            ]
          },
          "metadata": {},
          "execution_count": 55
        }
      ]
    },
    {
      "cell_type": "code",
      "source": [
        "rau = \"Rauchwaren\" \n",
        "rauch3 = [\"Zigaretten\", \"Zigarren\", \"Pelze\", \"Pelz\", \"Pelzwirtschaft\", \"Fell\", \"Haar\", \"Haarkleid\", \"Tabak\", \"Tabakwaren\", \"Zigarillo\", \"Geschäft\"]\n",
        "\n",
        "rauchwaren3 = foo(rau, rauch3)"
      ],
      "metadata": {
        "id": "P0UafF_HOqWn"
      },
      "execution_count": null,
      "outputs": []
    },
    {
      "cell_type": "code",
      "source": [
        "rauchwaren3"
      ],
      "metadata": {
        "colab": {
          "base_uri": "https://localhost:8080/"
        },
        "id": "gEb9ksheOycn",
        "outputId": "c8a1ee30-1d1e-415f-e338-4d28f5ac88ee"
      },
      "execution_count": null,
      "outputs": [
        {
          "output_type": "execute_result",
          "data": {
            "text/plain": [
              "[('Tabakwaren', 0.97066283),\n",
              " ('Zigaretten', 0.9513302),\n",
              " ('Tabak', 0.93398064),\n",
              " ('Pelze', 0.9225237),\n",
              " ('Zigarren', 0.88703597),\n",
              " ('Zigarillo', 0.88128996),\n",
              " ('Haarkleid', 0.84964174),\n",
              " ('Haar', 0.8408511),\n",
              " ('Fell', 0.83438957),\n",
              " ('Geschäft', 0.82955647),\n",
              " ('Pelz', 0.8266047),\n",
              " ('Pelzwirtschaft', 0.80043554)]"
            ]
          },
          "metadata": {},
          "execution_count": 57
        }
      ]
    },
    {
      "cell_type": "markdown",
      "source": [
        "Eindruck, dass schon früher nur Leute, die in der Pelzwirtschaft tätig waren, das Wort Rauchwaren richtig verwendeten, bleibt bestehen!"
      ],
      "metadata": {
        "id": "NcrAcPKJO7p1"
      }
    },
    {
      "cell_type": "markdown",
      "source": [
        "## Panzer"
      ],
      "metadata": {
        "id": "20UwUTdoPdhE"
      }
    },
    {
      "cell_type": "code",
      "source": [
        "pan = \"Panzer\" \n",
        "panz = [\"Schlachtschiff\", \"Panzerkreuzer\", \"Kriegsschiff\", \"Marine\", \"Fregatte\"]\n",
        "\n",
        "panzer = foo(pan, panz)"
      ],
      "metadata": {
        "id": "5Gjxr6snO1IT"
      },
      "execution_count": null,
      "outputs": []
    },
    {
      "cell_type": "code",
      "source": [
        "panzer"
      ],
      "metadata": {
        "colab": {
          "base_uri": "https://localhost:8080/"
        },
        "id": "qf64PMXsPhI6",
        "outputId": "b4cc0bb4-9e20-4ed9-c770-227eb274daa6"
      },
      "execution_count": null,
      "outputs": [
        {
          "output_type": "execute_result",
          "data": {
            "text/plain": [
              "[('Panzerkreuzer', 0.93746704),\n",
              " ('Schlachtschiff', 0.9118255),\n",
              " ('Kriegsschiff', 0.9058715),\n",
              " ('Marine', 0.88481617),\n",
              " ('Fregatte', 0.8257397)]"
            ]
          },
          "metadata": {},
          "execution_count": 59
        }
      ]
    },
    {
      "cell_type": "code",
      "source": [
        "pan = \"Panzer\" \n",
        "panz2 = [\"gepanzerte Landfahrzeuge\", \"Kettenfahrzeug\", \"Kampfwagen\", \"Kampffahrzeug\"]\n",
        "\n",
        "panzer2 = foo(pan, panz2)"
      ],
      "metadata": {
        "id": "E_lcsYeSPh_P"
      },
      "execution_count": null,
      "outputs": []
    },
    {
      "cell_type": "code",
      "source": [
        "panzer2"
      ],
      "metadata": {
        "colab": {
          "base_uri": "https://localhost:8080/"
        },
        "id": "eBe5Bk07Pmvz",
        "outputId": "ec29baf9-64fd-492f-b3f9-6cb7993a0145"
      },
      "execution_count": null,
      "outputs": [
        {
          "output_type": "execute_result",
          "data": {
            "text/plain": [
              "[('Kampfwagen', 0.9190306),\n",
              " ('Kampffahrzeug', 0.9096658),\n",
              " ('gepanzerte Landfahrzeuge', 0.86047196),\n",
              " ('Kettenfahrzeug', 0.82432276)]"
            ]
          },
          "metadata": {},
          "execution_count": 61
        }
      ]
    },
    {
      "cell_type": "code",
      "source": [
        "pan = \"Panzer\" \n",
        "panz3 = [\"gepanzerte Landfahrzeuge\", \"Kettenfahrzeug\", \"Schlachtschiff\", \"Panzerkreuzer\", \"Kriegsschiff\", \"Marine\", \"Fregatte\", \"Kampfwagen\", \"Kampffahrzeug\"]\n",
        "\n",
        "panzer3 = foo(pan, panz3)"
      ],
      "metadata": {
        "id": "wzOYCgRiPoBz"
      },
      "execution_count": null,
      "outputs": []
    },
    {
      "cell_type": "code",
      "source": [
        "panzer3"
      ],
      "metadata": {
        "colab": {
          "base_uri": "https://localhost:8080/"
        },
        "id": "QdDOIVZ_QtKB",
        "outputId": "9af882a2-9a6e-4385-efec-dc3d19af8bc0"
      },
      "execution_count": null,
      "outputs": [
        {
          "output_type": "execute_result",
          "data": {
            "text/plain": [
              "[('Panzerkreuzer', 0.93746704),\n",
              " ('Kampfwagen', 0.9190306),\n",
              " ('Schlachtschiff', 0.9118255),\n",
              " ('Kampffahrzeug', 0.9096658),\n",
              " ('Kriegsschiff', 0.9058715),\n",
              " ('Marine', 0.88481617),\n",
              " ('gepanzerte Landfahrzeuge', 0.86047196),\n",
              " ('Fregatte', 0.8257397),\n",
              " ('Kettenfahrzeug', 0.82432276)]"
            ]
          },
          "metadata": {},
          "execution_count": 63
        }
      ]
    },
    {
      "cell_type": "markdown",
      "source": [
        "Die alte Bedeutung von Panzern als Kriegsschiffen scheint auch auf das neue Modell zu zutreffen."
      ],
      "metadata": {
        "id": "77XT1MmjRBiR"
      }
    },
    {
      "cell_type": "markdown",
      "source": [
        "## blöde"
      ],
      "metadata": {
        "id": "IqHL_bsHRJsh"
      }
    },
    {
      "cell_type": "code",
      "source": [
        "blo = \"blöde\" \n",
        "bloe = [\"schüchtern\", \"zurückhaltend\", \"zaghaft\", \"feige\", \"schwach\"]\n",
        "\n",
        "bloede = foo(blo, bloe)"
      ],
      "metadata": {
        "id": "0-zni_zKQujS"
      },
      "execution_count": null,
      "outputs": []
    },
    {
      "cell_type": "code",
      "source": [
        "bloede\n"
      ],
      "metadata": {
        "colab": {
          "base_uri": "https://localhost:8080/"
        },
        "id": "11Djdy3pRNbq",
        "outputId": "05ba9d49-741d-45a0-a3f0-0bc8b90d7a15"
      },
      "execution_count": null,
      "outputs": [
        {
          "output_type": "execute_result",
          "data": {
            "text/plain": [
              "[('feige', 0.94606864),\n",
              " ('schüchtern', 0.92043746),\n",
              " ('zaghaft', 0.8989982),\n",
              " ('zurückhaltend', 0.87314224),\n",
              " ('schwach', 0.80933726)]"
            ]
          },
          "metadata": {},
          "execution_count": 65
        }
      ]
    },
    {
      "cell_type": "code",
      "source": [
        "blo = \"blöde\" \n",
        "bloe2 = [\"dümmlich\", \"geistlos\", \"unsinnig\", \"albern\", \"blödsinnig\"]\n",
        "\n",
        "bloede2 = foo(blo, bloe2)"
      ],
      "metadata": {
        "id": "9mSs7pNBROfK"
      },
      "execution_count": null,
      "outputs": []
    },
    {
      "cell_type": "code",
      "source": [
        "bloede2"
      ],
      "metadata": {
        "colab": {
          "base_uri": "https://localhost:8080/"
        },
        "id": "R_tAnblpRQh_",
        "outputId": "cfe8d6ba-e1e7-497f-a473-d62bec1696b8"
      },
      "execution_count": null,
      "outputs": [
        {
          "output_type": "execute_result",
          "data": {
            "text/plain": [
              "[('blödsinnig', 0.9624008),\n",
              " ('unsinnig', 0.9510794),\n",
              " ('dümmlich', 0.923311),\n",
              " ('albern', 0.92264944),\n",
              " ('geistlos', 0.86911243)]"
            ]
          },
          "metadata": {},
          "execution_count": 67
        }
      ]
    },
    {
      "cell_type": "code",
      "source": [
        "blo = \"blöde\" \n",
        "bloe3 = [\"dümmlich\", \"geistlos\", \"unsinnig\", \"schüchtern\", \"zurückhaltend\", \"zaghaft\", \"feige\", \"schwach\", \"albern\", \"blödsinnig\"]\n",
        "\n",
        "bloede3 = foo(blo, bloe3)"
      ],
      "metadata": {
        "id": "kwqkfekDRRUX"
      },
      "execution_count": null,
      "outputs": []
    },
    {
      "cell_type": "code",
      "source": [
        "bloede3"
      ],
      "metadata": {
        "colab": {
          "base_uri": "https://localhost:8080/"
        },
        "id": "SaGgva0SRUP1",
        "outputId": "8f37f05b-4ed0-433c-a1c6-a742c8fdbf30"
      },
      "execution_count": null,
      "outputs": [
        {
          "output_type": "execute_result",
          "data": {
            "text/plain": [
              "[('blödsinnig', 0.9624008),\n",
              " ('unsinnig', 0.9510794),\n",
              " ('feige', 0.94606864),\n",
              " ('dümmlich', 0.923311),\n",
              " ('albern', 0.92264944),\n",
              " ('schüchtern', 0.92043746),\n",
              " ('zaghaft', 0.8989982),\n",
              " ('zurückhaltend', 0.87314224),\n",
              " ('geistlos', 0.86911243),\n",
              " ('schwach', 0.80933726)]"
            ]
          },
          "metadata": {},
          "execution_count": 69
        }
      ]
    },
    {
      "cell_type": "markdown",
      "source": [
        "3 der ersten 4 Einträge von der neuen Bedeutung. Leichte Tendenz zur neuen Bedeutung, früher beide eher gleich weit verbreitet?"
      ],
      "metadata": {
        "id": "kL4nUa0eRr2O"
      }
    },
    {
      "cell_type": "markdown",
      "source": [
        "## wichsen"
      ],
      "metadata": {
        "id": "CJlfsMpwSLHl"
      }
    },
    {
      "cell_type": "code",
      "source": [
        "wic = \"wichsen\" \n",
        "wich = [\"Wichse\", \"Schuhe\", \"Schuhcreme\", \"zum Glänzen bringen\", \"polieren\"]\n",
        "\n",
        "wichsen = foo(wic, wich)"
      ],
      "metadata": {
        "id": "GXwpRd_5R3ul"
      },
      "execution_count": null,
      "outputs": []
    },
    {
      "cell_type": "code",
      "source": [
        "wichsen"
      ],
      "metadata": {
        "colab": {
          "base_uri": "https://localhost:8080/"
        },
        "id": "BdRBGKLtSi5o",
        "outputId": "ea88064c-5bda-42eb-b7e2-e772f64d3639"
      },
      "execution_count": null,
      "outputs": [
        {
          "output_type": "execute_result",
          "data": {
            "text/plain": [
              "[('zum Glänzen bringen', 0.83320165),\n",
              " ('Wichse', 0.81324416),\n",
              " ('Schuhe', 0.7289931),\n",
              " ('polieren', 0.7285172),\n",
              " ('Schuhcreme', 0.6778083)]"
            ]
          },
          "metadata": {},
          "execution_count": 71
        }
      ]
    },
    {
      "cell_type": "code",
      "source": [
        "wic = \"wichsen\" \n",
        "wich2 = [\"ornanieren\", \"masturbieren\", \"Selbstbefriedigung\", \"runterholen\"]\n",
        "\n",
        "wichsen2 = foo(wic, wich2)"
      ],
      "metadata": {
        "id": "vG-h4suzSj85"
      },
      "execution_count": null,
      "outputs": []
    },
    {
      "cell_type": "code",
      "source": [
        "wichsen2"
      ],
      "metadata": {
        "colab": {
          "base_uri": "https://localhost:8080/"
        },
        "id": "V90PBi96SpgN",
        "outputId": "42278af3-d647-4971-9c68-ed39d9908b97"
      },
      "execution_count": null,
      "outputs": [
        {
          "output_type": "execute_result",
          "data": {
            "text/plain": [
              "[('runterholen', 0.84924155),\n",
              " ('ornanieren', 0.83924276),\n",
              " ('Selbstbefriedigung', 0.78568345),\n",
              " ('masturbieren', 0.730045)]"
            ]
          },
          "metadata": {},
          "execution_count": 73
        }
      ]
    },
    {
      "cell_type": "code",
      "source": [
        "wic = \"wichsen\" \n",
        "wich3 = [\"ornanieren\", \"masturbieren\", \"Wichse\", \"Schuhe\", \"Schuhcreme\", \"zum Glänzen bringen\", \"polieren\", \"Selbstbefriedigung\", \"runterholen\"]\n",
        "\n",
        "wichsen3 = foo(wic, wich3)"
      ],
      "metadata": {
        "id": "KIv3mnwdSq2z"
      },
      "execution_count": null,
      "outputs": []
    },
    {
      "cell_type": "code",
      "source": [
        "wichsen3"
      ],
      "metadata": {
        "colab": {
          "base_uri": "https://localhost:8080/"
        },
        "id": "scuvHAOqSw-h",
        "outputId": "26556a35-e34e-4eee-e151-173cb0fe594c"
      },
      "execution_count": null,
      "outputs": [
        {
          "output_type": "execute_result",
          "data": {
            "text/plain": [
              "[('runterholen', 0.84924155),\n",
              " ('ornanieren', 0.83924276),\n",
              " ('zum Glänzen bringen', 0.83320165),\n",
              " ('Wichse', 0.81324416),\n",
              " ('Selbstbefriedigung', 0.78568345),\n",
              " ('masturbieren', 0.730045),\n",
              " ('Schuhe', 0.7289931),\n",
              " ('polieren', 0.7285172),\n",
              " ('Schuhcreme', 0.6778083)]"
            ]
          },
          "metadata": {},
          "execution_count": 75
        }
      ]
    },
    {
      "cell_type": "markdown",
      "source": [
        "Heute deutlicher als früher, aber Bedeutung von wichsen eigentlich immer masturbieren"
      ],
      "metadata": {
        "id": "pZmjmslLS66f"
      }
    },
    {
      "cell_type": "markdown",
      "source": [
        "## ausgepowert"
      ],
      "metadata": {
        "id": "LEU_KsE3TEBF"
      }
    },
    {
      "cell_type": "code",
      "source": [
        "aus = \"ausgepowert\" \n",
        "ausg = [\"verarmt\", \"zahlungsunfähig\", \"vermögenslos\", \"bedürftig\", \"unvermögend\"]\n",
        "\n",
        "ausgepowert = foo(aus, ausg)"
      ],
      "metadata": {
        "id": "8koalU85Sx8T"
      },
      "execution_count": null,
      "outputs": []
    },
    {
      "cell_type": "code",
      "source": [
        "ausgepowert"
      ],
      "metadata": {
        "colab": {
          "base_uri": "https://localhost:8080/"
        },
        "id": "uGirRMtWTHgi",
        "outputId": "1714d71c-329d-4205-82e6-5e7198ed8033"
      },
      "execution_count": null,
      "outputs": [
        {
          "output_type": "execute_result",
          "data": {
            "text/plain": [
              "[('verarmt', 0.90130186),\n",
              " ('unvermögend', 0.8465568),\n",
              " ('zahlungsunfähig', 0.8436486),\n",
              " ('vermögenslos', 0.84248316),\n",
              " ('bedürftig', 0.76590776)]"
            ]
          },
          "metadata": {},
          "execution_count": 77
        }
      ]
    },
    {
      "cell_type": "code",
      "source": [
        "aus = \"ausgepowert\" \n",
        "ausg2 = [\"kraftlos\", \"ernergielos\", \"entkräftet\", \"erschöpft\", \"ohne Kraft\"]\n",
        "\n",
        "ausgepowert2 = foo(aus, ausg2)"
      ],
      "metadata": {
        "id": "LJWUmfrbTM9i"
      },
      "execution_count": null,
      "outputs": []
    },
    {
      "cell_type": "code",
      "source": [
        "ausgepowert2"
      ],
      "metadata": {
        "colab": {
          "base_uri": "https://localhost:8080/"
        },
        "id": "Qw3RMXdwTQJE",
        "outputId": "4c0f3d89-fd69-41bd-9adc-2f40c73fea08"
      },
      "execution_count": null,
      "outputs": [
        {
          "output_type": "execute_result",
          "data": {
            "text/plain": [
              "[('ernergielos', 0.9123584),\n",
              " ('ohne Kraft', 0.9117893),\n",
              " ('entkräftet', 0.9107364),\n",
              " ('erschöpft', 0.89362),\n",
              " ('kraftlos', 0.8863274)]"
            ]
          },
          "metadata": {},
          "execution_count": 79
        }
      ]
    },
    {
      "cell_type": "code",
      "source": [
        "aus = \"ausgepowert\" \n",
        "ausg3 = [\"kraftlos\", \"ernergielos\", \"entkräftet\", \"verarmt\", \"zahlungsunfähig\", \"vermögenslos\", \"bedürftig\", \"unvermögend\", \"erschöpft\", \"ohne Kraft\"]\n",
        "\n",
        "ausgepowert3 = foo(aus, ausg3)"
      ],
      "metadata": {
        "id": "VxCfybZjTRqO"
      },
      "execution_count": null,
      "outputs": []
    },
    {
      "cell_type": "code",
      "source": [
        "ausgepowert3"
      ],
      "metadata": {
        "colab": {
          "base_uri": "https://localhost:8080/"
        },
        "id": "payFclxSTUd8",
        "outputId": "a4ba3e9f-95bd-4ad6-cdfa-c60385c4e507"
      },
      "execution_count": null,
      "outputs": [
        {
          "output_type": "execute_result",
          "data": {
            "text/plain": [
              "[('ernergielos', 0.9123584),\n",
              " ('ohne Kraft', 0.9117893),\n",
              " ('entkräftet', 0.9107364),\n",
              " ('verarmt', 0.90130186),\n",
              " ('erschöpft', 0.89362),\n",
              " ('kraftlos', 0.8863274),\n",
              " ('unvermögend', 0.8465568),\n",
              " ('zahlungsunfähig', 0.8436486),\n",
              " ('vermögenslos', 0.84248316),\n",
              " ('bedürftig', 0.76590776)]"
            ]
          },
          "metadata": {},
          "execution_count": 82
        }
      ]
    },
    {
      "cell_type": "markdown",
      "source": [
        "Auf dem älteren Modell nahezu regelmäßiges Abwechseln der Wörter, bei neuem Modell klare Tendenz zu der Bedeutung kraftlos und nicht Armut! Früher beide Bedeutungen heute wieder eher nur noch energielos?"
      ],
      "metadata": {
        "id": "gh1ePswnTdcp"
      }
    },
    {
      "cell_type": "markdown",
      "source": [
        "## Eselsbrücke"
      ],
      "metadata": {
        "id": "q5lr6W4bT-JL"
      }
    },
    {
      "cell_type": "code",
      "source": [
        "ese = \"Eselsbrücke\" \n",
        "esel = [\"besondere Schwierigkeit\", \"Erschwernis\", \"Hindernis\", \"Problematik\", \"Komplikation\"]\n",
        "\n",
        "eselsbrücke = foo(ese, esel)"
      ],
      "metadata": {
        "id": "7rXWqJuJTWn-"
      },
      "execution_count": null,
      "outputs": []
    },
    {
      "cell_type": "code",
      "source": [
        "eselsbrücke"
      ],
      "metadata": {
        "colab": {
          "base_uri": "https://localhost:8080/"
        },
        "id": "_8BUNT-PUDyM",
        "outputId": "0ab5b1a9-a2ad-4fdd-a270-d48953a03cfc"
      },
      "execution_count": null,
      "outputs": [
        {
          "output_type": "execute_result",
          "data": {
            "text/plain": [
              "[('Erschwernis', 0.77906555),\n",
              " ('Problematik', 0.77187246),\n",
              " ('Hindernis', 0.75601315),\n",
              " ('Komplikation', 0.75063276),\n",
              " ('besondere Schwierigkeit', 0.7064305)]"
            ]
          },
          "metadata": {},
          "execution_count": 84
        }
      ]
    },
    {
      "cell_type": "code",
      "source": [
        "esel2 = [\"Hilfsmittel\", \"Gedächtnisstütze\", \"Merkhilfe\", \"Verständnishilfe\", \"Anhaltspunkt\"]\n",
        "\n",
        "eselsbrücke2 = foo(ese, esel2)"
      ],
      "metadata": {
        "id": "VoCIYYENUFWH"
      },
      "execution_count": null,
      "outputs": []
    },
    {
      "cell_type": "code",
      "source": [
        "eselsbrücke2"
      ],
      "metadata": {
        "colab": {
          "base_uri": "https://localhost:8080/"
        },
        "id": "B_x0_NEZUI9W",
        "outputId": "32ae83b7-14f1-4f7e-904a-2dc7dade2873"
      },
      "execution_count": null,
      "outputs": [
        {
          "output_type": "execute_result",
          "data": {
            "text/plain": [
              "[('Anhaltspunkt', 0.81152964),\n",
              " ('Hilfsmittel', 0.7664819),\n",
              " ('Verständnishilfe', 0.7609133),\n",
              " ('Merkhilfe', 0.75977206),\n",
              " ('Gedächtnisstütze', 0.75782126)]"
            ]
          },
          "metadata": {},
          "execution_count": 86
        }
      ]
    },
    {
      "cell_type": "code",
      "source": [
        "esel3 = [\"Hilfsmittel\", \"Gedächtnisstütze\", \"Merkhilfe\", \"besondere Schwierigkeit\", \"Erschwernis\", \"Hindernis\", \"Problematik\", \"Komplikation\",\"Verständnishilfe\", \"Anhaltspunkt\"]\n",
        "\n",
        "eselsbrücke3 = foo(ese, esel3)"
      ],
      "metadata": {
        "id": "NUjuI5EGUKwx"
      },
      "execution_count": null,
      "outputs": []
    },
    {
      "cell_type": "code",
      "source": [
        "eselsbrücke3"
      ],
      "metadata": {
        "colab": {
          "base_uri": "https://localhost:8080/"
        },
        "id": "GhztungaUPyW",
        "outputId": "b66648c8-8157-4402-efd4-648b5141018d"
      },
      "execution_count": null,
      "outputs": [
        {
          "output_type": "execute_result",
          "data": {
            "text/plain": [
              "[('Anhaltspunkt', 0.81152964),\n",
              " ('Erschwernis', 0.77906555),\n",
              " ('Problematik', 0.77187246),\n",
              " ('Hilfsmittel', 0.7664819),\n",
              " ('Verständnishilfe', 0.7609133),\n",
              " ('Merkhilfe', 0.75977206),\n",
              " ('Gedächtnisstütze', 0.75782126),\n",
              " ('Hindernis', 0.75601315),\n",
              " ('Komplikation', 0.75063276),\n",
              " ('besondere Schwierigkeit', 0.7064305)]"
            ]
          },
          "metadata": {},
          "execution_count": 88
        }
      ]
    },
    {
      "cell_type": "markdown",
      "source": [
        "Tendenz zur neueren Bedeutung. Wort mit der größten Cosinus Ähnlichkeit gehört zur neuen Bedeutung. Letzten drei Einträge der Liste gehören zur alten Bedeutung. "
      ],
      "metadata": {
        "id": "lPvCmPWwUdLf"
      }
    },
    {
      "cell_type": "code",
      "source": [
        ""
      ],
      "metadata": {
        "id": "lDtDr0pVURkh"
      },
      "execution_count": null,
      "outputs": []
    }
  ]
}